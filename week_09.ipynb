{
 "cells": [
  {
   "cell_type": "markdown",
   "id": "4b6fd170",
   "metadata": {},
   "source": [
    "### Dictionary\n",
    "- 영어 사전이라 생각. 단어:뜻\n",
    "- 키:값\n",
    "- 순서 없음 -> 오프셋 없음\n",
    "- 가변 객체(수정, 추가, 삭제 가능)\n",
    "- 타입 : dict, dict()\n",
    "- 생성 : {k1: v1, k2: v2 ...} 중괄호 사용\n",
    "- value에는 리스트, 튜프, 딕셔너리도 들어갈 수 있음"
   ]
  },
  {
   "cell_type": "code",
   "execution_count": 2,
   "id": "f6319f5c",
   "metadata": {},
   "outputs": [
    {
     "data": {
      "text/plain": [
       "1"
      ]
     },
     "execution_count": 2,
     "metadata": {},
     "output_type": "execute_result"
    }
   ],
   "source": [
    "a = [1,2,3]\n",
    "a={} #dict\n",
    "a=set()"
   ]
  },
  {
   "cell_type": "code",
   "execution_count": 3,
   "id": "54b1563e",
   "metadata": {},
   "outputs": [
    {
     "data": {
      "text/plain": [
       "{}"
      ]
     },
     "execution_count": 3,
     "metadata": {},
     "output_type": "execute_result"
    }
   ],
   "source": [
    "empty=dict()\n",
    "empty={}\n",
    "empty"
   ]
  },
  {
   "cell_type": "code",
   "execution_count": 4,
   "id": "218f77d3",
   "metadata": {},
   "outputs": [
    {
     "data": {
      "text/plain": [
       "{'first': 'while', 'middle': 'e', 'last': 'coyote'}"
      ]
     },
     "execution_count": 4,
     "metadata": {},
     "output_type": "execute_result"
    }
   ],
   "source": [
    "customer={'first':'while', 'middle':'e', 'last':'coyote'}\n",
    "customer"
   ]
  },
  {
   "cell_type": "code",
   "execution_count": 5,
   "id": "1af6f70c",
   "metadata": {},
   "outputs": [
    {
     "data": {
      "text/plain": [
       "{'first': 'wile', 'middle': 'e', 'last': 'coyote'}"
      ]
     },
     "execution_count": 5,
     "metadata": {},
     "output_type": "execute_result"
    }
   ],
   "source": [
    "customer=dict(first='wile', middle='e', last='coyote')\n",
    "customer"
   ]
  },
  {
   "cell_type": "code",
   "execution_count": 9,
   "id": "00d2dc7f",
   "metadata": {},
   "outputs": [
    {
     "data": {
      "text/plain": [
       "{'제임스': {20221, '경영학과'}, '줄리엣': {202202, '아랍어과'}}"
      ]
     },
     "execution_count": 9,
     "metadata": {},
     "output_type": "execute_result"
    }
   ],
   "source": [
    "#출석부 딕셔너리 만들기\n",
    "#이름, 학번, 학과\n",
    "attendance=dict(제임스={20221, '경영학과'}, 줄리엣={202202, '아랍어과'})\n",
    "attendance"
   ]
  },
  {
   "cell_type": "code",
   "execution_count": 11,
   "id": "122aaac7",
   "metadata": {},
   "outputs": [
    {
     "data": {
      "text/plain": [
       "{1: 2, 3: 4, 5: 6}"
      ]
     },
     "execution_count": 11,
     "metadata": {},
     "output_type": "execute_result"
    }
   ],
   "source": [
    "#dict()\n",
    "ex1=[[1,2],[3,4],[5,6]]\n",
    "dict(ex1)"
   ]
  },
  {
   "cell_type": "code",
   "execution_count": 12,
   "id": "8b3ca757",
   "metadata": {},
   "outputs": [
    {
     "data": {
      "text/plain": [
       "{1: 2, 3: 4, 5: 6}"
      ]
     },
     "execution_count": 12,
     "metadata": {},
     "output_type": "execute_result"
    }
   ],
   "source": [
    "ex2=[(1, 2), (3, 4), (5, 6)]\n",
    "dict(ex2)"
   ]
  },
  {
   "cell_type": "code",
   "execution_count": 13,
   "id": "2f01bed2",
   "metadata": {},
   "outputs": [
    {
     "ename": "ValueError",
     "evalue": "dictionary update sequence element #0 has length 4; 2 is required",
     "output_type": "error",
     "traceback": [
      "\u001b[1;31m---------------------------------------------------------------------------\u001b[0m",
      "\u001b[1;31mValueError\u001b[0m                                Traceback (most recent call last)",
      "\u001b[1;32mC:\\Users\\Public\\Documents\\ESTsoft\\CreatorTemp/ipykernel_7948/168936133.py\u001b[0m in \u001b[0;36m<module>\u001b[1;34m\u001b[0m\n\u001b[0;32m      1\u001b[0m \u001b[0mex3\u001b[0m\u001b[1;33m=\u001b[0m\u001b[1;33m[\u001b[0m\u001b[1;34m'abcd'\u001b[0m\u001b[1;33m,\u001b[0m \u001b[1;34m'bcdd'\u001b[0m\u001b[1;33m,\u001b[0m \u001b[1;34m'cddd'\u001b[0m\u001b[1;33m]\u001b[0m\u001b[1;33m\u001b[0m\u001b[1;33m\u001b[0m\u001b[0m\n\u001b[1;32m----> 2\u001b[1;33m \u001b[0mdict\u001b[0m\u001b[1;33m(\u001b[0m\u001b[0mex3\u001b[0m\u001b[1;33m)\u001b[0m\u001b[1;33m\u001b[0m\u001b[1;33m\u001b[0m\u001b[0m\n\u001b[0m",
      "\u001b[1;31mValueError\u001b[0m: dictionary update sequence element #0 has length 4; 2 is required"
     ]
    }
   ],
   "source": [
    "ex3=['abcd', 'bcdd', 'cddd']\n",
    "dict(ex3)"
   ]
  },
  {
   "cell_type": "markdown",
   "id": "76da20f2",
   "metadata": {},
   "source": [
    "#### 항목 조회 변경\n",
    "- 키로 항목 찾아 값 할당\n",
    "- 키가 없으면 생성됨"
   ]
  },
  {
   "cell_type": "code",
   "execution_count": 5,
   "id": "864f517c",
   "metadata": {},
   "outputs": [
    {
     "data": {
      "text/plain": [
       "'frit'"
      ]
     },
     "execution_count": 5,
     "metadata": {},
     "output_type": "execute_result"
    }
   ],
   "source": [
    "python={\n",
    "    'chapman': 'grahan',\n",
    "    'cleese': 'john',\n",
    "    'idle': 'frit'\n",
    "}\n",
    "python['idle']"
   ]
  },
  {
   "cell_type": "code",
   "execution_count": 6,
   "id": "eab097bf",
   "metadata": {},
   "outputs": [
    {
     "data": {
      "text/plain": [
       "{'chapman': 'grahan', 'cleese': 'john', 'idle': 'erica'}"
      ]
     },
     "execution_count": 6,
     "metadata": {},
     "output_type": "execute_result"
    }
   ],
   "source": [
    "python['idle']='erica'\n",
    "python"
   ]
  },
  {
   "cell_type": "code",
   "execution_count": 9,
   "id": "604eefb5",
   "metadata": {},
   "outputs": [
    {
     "data": {
      "text/plain": [
       "{'chapman': 'grahan', 'cleese': 'john', 'idle': 'erica', 'kin': 'laura'}"
      ]
     },
     "execution_count": 9,
     "metadata": {},
     "output_type": "execute_result"
    }
   ],
   "source": [
    "python['kin']='laura'\n",
    "python"
   ]
  },
  {
   "cell_type": "code",
   "execution_count": 10,
   "id": "d328635f",
   "metadata": {},
   "outputs": [
    {
     "data": {
      "text/plain": [
       "False"
      ]
     },
     "execution_count": 10,
     "metadata": {},
     "output_type": "execute_result"
    }
   ],
   "source": [
    "'Lee' in python"
   ]
  },
  {
   "cell_type": "code",
   "execution_count": 11,
   "id": "b20cc276",
   "metadata": {},
   "outputs": [],
   "source": [
    "python.get('Lee')"
   ]
  },
  {
   "cell_type": "code",
   "execution_count": 12,
   "id": "39cd72bc",
   "metadata": {},
   "outputs": [
    {
     "data": {
      "text/plain": [
       "0"
      ]
     },
     "execution_count": 12,
     "metadata": {},
     "output_type": "execute_result"
    }
   ],
   "source": [
    "python.get('kim', 0) "
   ]
  },
  {
   "cell_type": "markdown",
   "id": "c37fc461",
   "metadata": {},
   "source": [
    "#### keys(), value(), items()"
   ]
  },
  {
   "cell_type": "code",
   "execution_count": 13,
   "id": "b1346e13",
   "metadata": {},
   "outputs": [
    {
     "data": {
      "text/plain": [
       "['chapman', 'cleese', 'idle', 'kin']"
      ]
     },
     "execution_count": 13,
     "metadata": {},
     "output_type": "execute_result"
    }
   ],
   "source": [
    "list(python.keys())"
   ]
  },
  {
   "cell_type": "code",
   "execution_count": 14,
   "id": "71db4f0e",
   "metadata": {},
   "outputs": [
    {
     "data": {
      "text/plain": [
       "dict_values(['grahan', 'john', 'erica', 'laura'])"
      ]
     },
     "execution_count": 14,
     "metadata": {},
     "output_type": "execute_result"
    }
   ],
   "source": [
    "python.values()"
   ]
  },
  {
   "cell_type": "code",
   "execution_count": 15,
   "id": "2afd1b1f",
   "metadata": {},
   "outputs": [
    {
     "data": {
      "text/plain": [
       "dict_items([('chapman', 'grahan'), ('cleese', 'john'), ('idle', 'erica'), ('kin', 'laura')])"
      ]
     },
     "execution_count": 15,
     "metadata": {},
     "output_type": "execute_result"
    }
   ],
   "source": [
    "python.items()"
   ]
  },
  {
   "cell_type": "code",
   "execution_count": 16,
   "id": "b672a585",
   "metadata": {},
   "outputs": [
    {
     "data": {
      "text/plain": [
       "['chapman', 'cleese', 'idle', 'kin']"
      ]
     },
     "execution_count": 16,
     "metadata": {},
     "output_type": "execute_result"
    }
   ],
   "source": [
    "[x[0] for x in python.items()]"
   ]
  },
  {
   "cell_type": "code",
   "execution_count": 17,
   "id": "bb43e250",
   "metadata": {},
   "outputs": [
    {
     "data": {
      "text/plain": [
       "{'cat': 4, 'snake': 0, 'monkey': 2, 'ant': 4, 'spider': 8}"
      ]
     },
     "execution_count": 17,
     "metadata": {},
     "output_type": "execute_result"
    }
   ],
   "source": [
    "animal='cat snake monkey ant spider'.split()\n",
    "legs=4, 0, 2, 4, 8\n",
    "\n",
    "dict_items = []        \n",
    "for i in range(len(animal)):\n",
    "    key_value = [animal[i], legs[i]]\n",
    "    dict_items.append(key_value)\n",
    "dict(dict_items)"
   ]
  },
  {
   "cell_type": "code",
   "execution_count": 18,
   "id": "6462c0be",
   "metadata": {},
   "outputs": [
    {
     "data": {
      "text/plain": [
       "{'cat': 4, 'snake': 0, 'monkey': 2, 'ant': 4, 'spider': 8}"
      ]
     },
     "execution_count": 18,
     "metadata": {},
     "output_type": "execute_result"
    }
   ],
   "source": [
    "animal_dict={}\n",
    "for k, v in zip(animal, legs):\n",
    "    animal_dict[k]=v\n",
    "animal_dict"
   ]
  },
  {
   "cell_type": "code",
   "execution_count": 19,
   "id": "932b4ad2",
   "metadata": {},
   "outputs": [
    {
     "data": {
      "text/plain": [
       "[('chapman', 'grahan'),\n",
       " ('cleese', 'john'),\n",
       " ('idle', 'erica'),\n",
       " ('kin', 'laura')]"
      ]
     },
     "execution_count": 19,
     "metadata": {},
     "output_type": "execute_result"
    }
   ],
   "source": [
    "[x for x in python.items()]"
   ]
  },
  {
   "cell_type": "code",
   "execution_count": 20,
   "id": "06c79e78",
   "metadata": {},
   "outputs": [
    {
     "data": {
      "text/plain": [
       "[('c', 6), ('c', 4), ('i', 5), ('k', 5)]"
      ]
     },
     "execution_count": 20,
     "metadata": {},
     "output_type": "execute_result"
    }
   ],
   "source": [
    "[(key[0], len(value)) for key, value in python.items()] "
   ]
  },
  {
   "cell_type": "markdown",
   "id": "aa0bd2d5",
   "metadata": {},
   "source": [
    "### 값 수정, 삭제, 복제"
   ]
  },
  {
   "cell_type": "code",
   "execution_count": 21,
   "id": "c819061d",
   "metadata": {},
   "outputs": [],
   "source": [
    "others = {\n",
    "    'Marx': \"Groucho\"\n",
    "}"
   ]
  },
  {
   "cell_type": "code",
   "execution_count": 22,
   "id": "6b7de246",
   "metadata": {},
   "outputs": [],
   "source": [
    "python.update(others)"
   ]
  },
  {
   "cell_type": "code",
   "execution_count": 58,
   "id": "9a70524a",
   "metadata": {},
   "outputs": [
    {
     "data": {
      "text/plain": [
       "{'chapman': 'grahan',\n",
       " 'cleese': 'john',\n",
       " 'idle': 'erica',\n",
       " 'kin': 'laura',\n",
       " 'Marx': 'Groucho'}"
      ]
     },
     "execution_count": 58,
     "metadata": {},
     "output_type": "execute_result"
    }
   ],
   "source": [
    "python"
   ]
  },
  {
   "cell_type": "code",
   "execution_count": 59,
   "id": "01a1db52",
   "metadata": {},
   "outputs": [
    {
     "data": {
      "text/plain": [
       "{'Marx': 'Groucho',\n",
       " 'chapman': 'grahan',\n",
       " 'cleese': 'john',\n",
       " 'idle': 'erica',\n",
       " 'kin': 'laura'}"
      ]
     },
     "execution_count": 59,
     "metadata": {},
     "output_type": "execute_result"
    }
   ],
   "source": [
    "{**others, **python} #py3에서 가능"
   ]
  },
  {
   "cell_type": "code",
   "execution_count": 63,
   "id": "a1291628",
   "metadata": {},
   "outputs": [
    {
     "data": {
      "text/plain": [
       "{'chapman': 'grahan', 'cleese': 'john', 'idle': 'erica'}"
      ]
     },
     "execution_count": 63,
     "metadata": {},
     "output_type": "execute_result"
    }
   ],
   "source": [
    "#삭제\n",
    "\n",
    "del python['kin']\n",
    "python"
   ]
  },
  {
   "cell_type": "code",
   "execution_count": 64,
   "id": "20bab90f",
   "metadata": {},
   "outputs": [
    {
     "data": {
      "text/plain": [
       "0"
      ]
     },
     "execution_count": 64,
     "metadata": {},
     "output_type": "execute_result"
    }
   ],
   "source": [
    "python.pop('Marx', 0) #get과 비슷한 성질"
   ]
  },
  {
   "cell_type": "code",
   "execution_count": null,
   "id": "0473de87",
   "metadata": {},
   "outputs": [],
   "source": [
    "python.clear()\n",
    "python={}"
   ]
  },
  {
   "cell_type": "code",
   "execution_count": 65,
   "id": "3f86fcd5",
   "metadata": {},
   "outputs": [],
   "source": [
    "# 복사\n",
    "#1. 할당\n",
    "#2. 깊은 복사\n",
    "#3. 얕은 복사"
   ]
  },
  {
   "cell_type": "code",
   "execution_count": 66,
   "id": "5d3b8204",
   "metadata": {},
   "outputs": [
    {
     "data": {
      "text/plain": [
       "({1: 10, 2: 3, 3: 4}, {1: 10, 2: 3, 3: 4})"
      ]
     },
     "execution_count": 66,
     "metadata": {},
     "output_type": "execute_result"
    }
   ],
   "source": [
    "a={1:2, 2:3, 3:4}\n",
    "b=a\n",
    "a[1]=10\n",
    "a, b"
   ]
  },
  {
   "cell_type": "code",
   "execution_count": 67,
   "id": "43c22840",
   "metadata": {},
   "outputs": [
    {
     "data": {
      "text/plain": [
       "({1: 100, 2: 3, 3: 4}, {1: 10, 2: 3, 3: 4})"
      ]
     },
     "execution_count": 67,
     "metadata": {},
     "output_type": "execute_result"
    }
   ],
   "source": [
    "b=a.copy()\n",
    "a[1]=100\n",
    "a,b"
   ]
  },
  {
   "cell_type": "code",
   "execution_count": 68,
   "id": "c058d4d1",
   "metadata": {},
   "outputs": [
    {
     "data": {
      "text/plain": [
       "({1: [100, 2, 2], 2: [1, 1, 1]}, {1: [100, 2, 2], 2: [1, 1, 1]})"
      ]
     },
     "execution_count": 68,
     "metadata": {},
     "output_type": "execute_result"
    }
   ],
   "source": [
    "a={1:[2,2,2], 2:[1,1,1]}\n",
    "b=a.copy()\n",
    "a[1][0]=100\n",
    "a,b"
   ]
  },
  {
   "cell_type": "code",
   "execution_count": 70,
   "id": "d3735fb8",
   "metadata": {},
   "outputs": [
    {
     "data": {
      "text/plain": [
       "({1: [9, 2, 2], 2: [1, 1, 1]}, {1: [100, 2, 2], 2: [1, 1, 1]})"
      ]
     },
     "execution_count": 70,
     "metadata": {},
     "output_type": "execute_result"
    }
   ],
   "source": [
    "import copy\n",
    "b=copy.deepcopy(a)\n",
    "a[1][0]=9\n",
    "a,b"
   ]
  },
  {
   "cell_type": "code",
   "execution_count": 71,
   "id": "3caf390e",
   "metadata": {},
   "outputs": [
    {
     "data": {
      "text/plain": [
       "True"
      ]
     },
     "execution_count": 71,
     "metadata": {},
     "output_type": "execute_result"
    }
   ],
   "source": [
    "#값 비교: 같고 다르고\n",
    "a != b"
   ]
  },
  {
   "cell_type": "code",
   "execution_count": 102,
   "id": "65058815",
   "metadata": {},
   "outputs": [
    {
     "data": {
      "text/plain": [
       "[('목성', 'jupiter'),\n",
       " ('화성', 'mars'),\n",
       " ('수성', 'mercury'),\n",
       " ('해왕성', 'neptune'),\n",
       " ('명왕성', 'pluto'),\n",
       " ('토성', 'saturn'),\n",
       " ('천왕성', 'uranus'),\n",
       " ('금성', 'venus')]"
      ]
     },
     "execution_count": 102,
     "metadata": {},
     "output_type": "execute_result"
    }
   ],
   "source": [
    "# 두 리스트 딕셔너리로. 명왕성 pluto 추가. '성으로 끝나지 않는 단어 삭제'\n",
    "# ddel sdict ㄴㄴ\n",
    "# sorted kor eng\n",
    "solar_kor='태양 수성 금성 지구 화성 목성 토성 천왕성 해왕성'.split()\n",
    "solar_eng='sun mercury venus earth mars jupiter saturn uranus neptune'.split()\n",
    "solar_dict={}\n",
    "for k, v in zip(solar_kor, solar_eng):\n",
    "    solar_dict[k]=v\n",
    "solar_dict['명왕성']='pluto'\n",
    "solar={k:solar_dict[k] for k in solar_dict if k.endswith('성')}\n",
    "sorted(solar.items(), key=function)"
   ]
  },
  {
   "cell_type": "code",
   "execution_count": 101,
   "id": "e63430a8",
   "metadata": {},
   "outputs": [],
   "source": [
    "def function(s):\n",
    "    return s[1]"
   ]
  },
  {
   "cell_type": "markdown",
   "id": "17f49086",
   "metadata": {},
   "source": [
    "for k, v in aaa.items()"
   ]
  },
  {
   "cell_type": "code",
   "execution_count": 82,
   "id": "f95b261f",
   "metadata": {},
   "outputs": [
    {
     "data": {
      "text/plain": [
       "{'l': 1, 'a': 1, 'p': 2, 'e': 1}"
      ]
     },
     "execution_count": 82,
     "metadata": {},
     "output_type": "execute_result"
    }
   ],
   "source": [
    "letter='apple'\n",
    "{ch: letter.count(ch) for ch in set(letter)}"
   ]
  },
  {
   "cell_type": "code",
   "execution_count": 94,
   "id": "f08821db",
   "metadata": {},
   "outputs": [
    {
     "data": {
      "text/plain": [
       "{'a': 2, 'e': 1, 'i': 1, 'o': 4, 'u': 0}"
      ]
     },
     "execution_count": 94,
     "metadata": {},
     "output_type": "execute_result"
    }
   ],
   "source": [
    "vowels='aeiou'\n",
    "word='onomatopoeia'\n",
    "#단어 모음세기\n",
    "{v: word.count(v) for v in vowels}"
   ]
  },
  {
   "cell_type": "code",
   "execution_count": 96,
   "id": "6aba11db",
   "metadata": {},
   "outputs": [
    {
     "data": {
      "text/plain": [
       "{'o': 4, 'a': 2, 'e': 1, 'i': 1}"
      ]
     },
     "execution_count": 96,
     "metadata": {},
     "output_type": "execute_result"
    }
   ],
   "source": [
    "{ch: word.count(ch) for ch in set(word) if ch in vowels}"
   ]
  },
  {
   "cell_type": "code",
   "execution_count": 98,
   "id": "c4ff71be",
   "metadata": {},
   "outputs": [
    {
     "data": {
      "text/plain": [
       "{'a': 2, 'e': 1, 'i': 1, 'o': 4, 'u': 0}"
      ]
     },
     "execution_count": 98,
     "metadata": {},
     "output_type": "execute_result"
    }
   ],
   "source": [
    "{vowels: word.count(vowels) for vowels in sorted(set(vowels))}"
   ]
  },
  {
   "cell_type": "markdown",
   "id": "f563939f",
   "metadata": {},
   "source": [
    "### set\n",
    "- 딕셔너리 키만 모아놓음 -> 중복없음\n",
    "- 수학의 집합 개념 -> 교집합, 합집합, 차집합..\n",
    "- 데이터자루, 순서없고, 인덱싱 없고`"
   ]
  },
  {
   "cell_type": "code",
   "execution_count": 105,
   "id": "2a51a0ab",
   "metadata": {},
   "outputs": [
    {
     "data": {
      "text/plain": [
       "(set(), {})"
      ]
     },
     "execution_count": 105,
     "metadata": {},
     "output_type": "execute_result"
    }
   ],
   "source": [
    "empty=set()\n",
    "empty1={}\n",
    "empty, empty1"
   ]
  },
  {
   "cell_type": "code",
   "execution_count": 106,
   "id": "da95af9a",
   "metadata": {},
   "outputs": [
    {
     "data": {
      "text/plain": [
       "set"
      ]
     },
     "execution_count": 106,
     "metadata": {},
     "output_type": "execute_result"
    }
   ],
   "source": [
    "a={1,2,3}\n",
    "type(a)"
   ]
  },
  {
   "cell_type": "code",
   "execution_count": 108,
   "id": "df1e9218",
   "metadata": {},
   "outputs": [
    {
     "data": {
      "text/plain": [
       "{1, 2, 3}"
      ]
     },
     "execution_count": 108,
     "metadata": {},
     "output_type": "execute_result"
    }
   ],
   "source": [
    "b=set([1,2,3, 3, 3])\n",
    "b"
   ]
  },
  {
   "cell_type": "code",
   "execution_count": 109,
   "id": "401201de",
   "metadata": {},
   "outputs": [
    {
     "data": {
      "text/plain": [
       "{1, 2, 3, 4}"
      ]
     },
     "execution_count": 109,
     "metadata": {},
     "output_type": "execute_result"
    }
   ],
   "source": [
    "#추가\n",
    "a.add(4)\n",
    "a"
   ]
  },
  {
   "cell_type": "code",
   "execution_count": 111,
   "id": "9ee4c9df",
   "metadata": {},
   "outputs": [
    {
     "data": {
      "text/plain": [
       "{1, 2, 3}"
      ]
     },
     "execution_count": 111,
     "metadata": {},
     "output_type": "execute_result"
    }
   ],
   "source": [
    "a.remove(4)\n",
    "a"
   ]
  },
  {
   "cell_type": "code",
   "execution_count": 112,
   "id": "5c7e731c",
   "metadata": {},
   "outputs": [
    {
     "data": {
      "text/plain": [
       "{1, 2}"
      ]
     },
     "execution_count": 112,
     "metadata": {},
     "output_type": "execute_result"
    }
   ],
   "source": [
    "a.discard(3)\n",
    "a"
   ]
  },
  {
   "cell_type": "code",
   "execution_count": 24,
   "id": "f2567653",
   "metadata": {},
   "outputs": [
    {
     "name": "stdout",
     "output_type": "stream",
     "text": [
      "martini\n",
      "black russian\n"
     ]
    }
   ],
   "source": [
    "drinks={\n",
    "    'martini':{'vodka', 'vermouth'},\n",
    "    'black russian':{'cream', 'kahlua', 'vodka'},\n",
    "    'white russian': {'cream', 'kahlua', 'bitters'},\n",
    "    'mahattan':{'rye', 'vermouth', 'bitters'}\n",
    "}\n",
    "for k, v in drinks.items():\n",
    "    if 'vodka' in v:\n",
    "        print(k)"
   ]
  },
  {
   "cell_type": "code",
   "execution_count": 25,
   "id": "4a4ed5b8",
   "metadata": {},
   "outputs": [
    {
     "data": {
      "text/plain": [
       "{'black russian', 'mahattan', 'martini', 'white russian'}"
      ]
     },
     "execution_count": 25,
     "metadata": {},
     "output_type": "execute_result"
    }
   ],
   "source": [
    "{k for k, v in drinks.items() if 'vodka' in v and 'cream' not in v or 'wermouth' not in v}"
   ]
  },
  {
   "cell_type": "code",
   "execution_count": 27,
   "id": "985072ad",
   "metadata": {},
   "outputs": [],
   "source": [
    "for k, v  in drinks.items():\n",
    "    if 'vodka' in v and not ('cream' in v or 'vermouth' in v):\n",
    "        print(k)\n",
    "    if 'vodka' in v and not v &{'cream','vermouth'}:\n",
    "        print(k)"
   ]
  },
  {
   "cell_type": "code",
   "execution_count": 119,
   "id": "d84b6606",
   "metadata": {},
   "outputs": [
    {
     "data": {
      "text/plain": [
       "{4}"
      ]
     },
     "execution_count": 119,
     "metadata": {},
     "output_type": "execute_result"
    }
   ],
   "source": [
    "a={1,2,3}\n",
    "b={2,3,4}\n",
    "# 교집합 ; intersection\n",
    "a.intersection(b)\n",
    "# 합집합 : union\n",
    "a.union(b)\n",
    "# 차집합 : difference\n",
    "a.difference(b)\n",
    "b-a"
   ]
  },
  {
   "cell_type": "code",
   "execution_count": 122,
   "id": "92d13950",
   "metadata": {},
   "outputs": [
    {
     "data": {
      "text/plain": [
       "frozenset({1, 2, 3})"
      ]
     },
     "execution_count": 122,
     "metadata": {},
     "output_type": "execute_result"
    }
   ],
   "source": [
    "#frozenset\n",
    "fs = frozenset([1,2,3])\n",
    "fs"
   ]
  },
  {
   "cell_type": "code",
   "execution_count": null,
   "id": "dc7e9cd1",
   "metadata": {},
   "outputs": [],
   "source": [
    "#pylint\n",
    "#pydocstyle \n",
    "!pip install pylint\n",
    "!pylint example.py\n",
    "\n",
    "!pip install pydocstyle\n",
    "!pydocstyle example.py"
   ]
  }
 ],
 "metadata": {
  "kernelspec": {
   "display_name": "Python 3 (ipykernel)",
   "language": "python",
   "name": "python3"
  },
  "language_info": {
   "codemirror_mode": {
    "name": "ipython",
    "version": 3
   },
   "file_extension": ".py",
   "mimetype": "text/x-python",
   "name": "python",
   "nbconvert_exporter": "python",
   "pygments_lexer": "ipython3",
   "version": "3.9.7"
  }
 },
 "nbformat": 4,
 "nbformat_minor": 5
}
