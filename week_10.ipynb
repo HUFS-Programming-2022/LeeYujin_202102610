{
 "cells": [
  {
   "cell_type": "code",
   "execution_count": 1,
   "id": "e3070874",
   "metadata": {},
   "outputs": [],
   "source": [
    "from collections import defaultdict"
   ]
  },
  {
   "cell_type": "markdown",
   "id": "a0de1e18",
   "metadata": {},
   "source": [
    "### defaultdict\n",
    "- 값이 없으면 0으로 설정될 수 있게 해주는 딕셔너리\n",
    "- defaultdict(list)#[]"
   ]
  },
  {
   "cell_type": "code",
   "execution_count": 3,
   "id": "0c31e281",
   "metadata": {},
   "outputs": [],
   "source": [
    "letter = 'defaultdict'\n",
    "empty = {}\n",
    "for ch in letter:\n",
    "    #if empty[ch] = 0\n",
    "    #else 값 넣어라\n",
    "    empty.setdefault(ch, 0)\n",
    "    empty[ch] += 1"
   ]
  },
  {
   "cell_type": "code",
   "execution_count": 4,
   "id": "ee42b98f",
   "metadata": {},
   "outputs": [
    {
     "data": {
      "text/plain": [
       "{'d': 2, 'e': 1, 'f': 1, 'a': 1, 'u': 1, 'l': 1, 't': 2, 'i': 1, 'c': 1}"
      ]
     },
     "execution_count": 4,
     "metadata": {},
     "output_type": "execute_result"
    }
   ],
   "source": [
    "empty"
   ]
  },
  {
   "cell_type": "code",
   "execution_count": 5,
   "id": "8d6e2b84",
   "metadata": {},
   "outputs": [
    {
     "data": {
      "text/plain": [
       "defaultdict(int,\n",
       "            {'d': 2,\n",
       "             'e': 1,\n",
       "             'f': 1,\n",
       "             'a': 1,\n",
       "             'u': 1,\n",
       "             'l': 1,\n",
       "             't': 2,\n",
       "             'i': 1,\n",
       "             'c': 1})"
      ]
     },
     "execution_count": 5,
     "metadata": {},
     "output_type": "execute_result"
    }
   ],
   "source": [
    "empty2 = defaultdict(int)\n",
    "for ch in letter:\n",
    "    empty2[ch]+=1\n",
    "    \n",
    "empty2"
   ]
  },
  {
   "cell_type": "markdown",
   "id": "f3a513e4",
   "metadata": {},
   "source": [
    "## object & class\n",
    "- 객체 실제적인 물건, 개념\n",
    "- 속성, 행동 가지는 개념\n",
    "- 자동차\n",
    "    - 속성: 엔진, 브랜드, 가격, 색상, 이름.. => 변수\n",
    "    - 행동: 나가다, 정지하다, 좌회전, 우회전.. => 메서드(함수)\n",
    "- 고양이\n",
    "    - 속성: 종, 이름, 컬러, 성별..\n",
    "    - 행동: 찾다, 뛰다, 걷다, 재려보다..\n",
    "- 사전\n",
    "    - 속성: 글자수, 시작글자, 출현빈도수\n",
    "    - 행동: 추가하다, 제외하다\n",
    "- 관련 찾는 방법\n",
    "    - 사람             상점               물건\n",
    "    - 이름, 돈         재고, 이익, 명단   브랜드, 이름, 가격\n",
    "    - 사다, 등록하다   회원등록, 팔다, \n",
    "- 객체 사용하는 이유: 코드 재사용 수월"
   ]
  },
  {
   "cell_type": "markdown",
   "id": "aab34093",
   "metadata": {},
   "source": [
    "### 클래스\n",
    "- 객체가 가져야할 기본정도 담은 코드\n",
    "- 설계도, 돈, 프레임워크\n",
    "- 붕어빵의 틀\n",
    "- 붕어빵 == 인스턴스\n",
    "- 'class Car:'\n",
    "    - 클래스명은 카멜표기법 씀"
   ]
  },
  {
   "cell_type": "code",
   "execution_count": 7,
   "id": "f4b1fe86",
   "metadata": {},
   "outputs": [
    {
     "data": {
      "text/plain": [
       "<__main__.Car at 0x22d5e2e4cd0>"
      ]
     },
     "execution_count": 7,
     "metadata": {},
     "output_type": "execute_result"
    }
   ],
   "source": [
    "#정의\n",
    "class Car:\n",
    "    pass\n",
    "\n",
    "#선언(괄호)\n",
    "car1=Car()\n",
    "car1"
   ]
  },
  {
   "cell_type": "code",
   "execution_count": 8,
   "id": "1d047bf3",
   "metadata": {},
   "outputs": [
    {
     "data": {
      "text/plain": [
       "<__main__.Car at 0x22d5e2f1580>"
      ]
     },
     "execution_count": 8,
     "metadata": {},
     "output_type": "execute_result"
    }
   ],
   "source": [
    "car2 = Car()\n",
    "car2"
   ]
  },
  {
   "cell_type": "code",
   "execution_count": 9,
   "id": "4f8188b6",
   "metadata": {},
   "outputs": [
    {
     "data": {
      "text/plain": [
       "__main__.Car"
      ]
     },
     "execution_count": 9,
     "metadata": {},
     "output_type": "execute_result"
    }
   ],
   "source": [
    "type(car2)"
   ]
  },
  {
   "cell_type": "code",
   "execution_count": 10,
   "id": "106d8d8d",
   "metadata": {},
   "outputs": [],
   "source": [
    "car1.brand = 'mercedes'\n",
    "car2.brand = 'kia'"
   ]
  },
  {
   "cell_type": "code",
   "execution_count": 11,
   "id": "325700bf",
   "metadata": {},
   "outputs": [
    {
     "name": "stdout",
     "output_type": "stream",
     "text": [
      "mercedes\n",
      "kia\n"
     ]
    }
   ],
   "source": [
    "for car in [car1, car2]:\n",
    "    print(car.brand)"
   ]
  },
  {
   "cell_type": "code",
   "execution_count": 12,
   "id": "45494412",
   "metadata": {},
   "outputs": [],
   "source": [
    "class Car:\n",
    "    # 속성 정해줌\n",
    "    brand = 'mercedes'\n",
    "    \n",
    "car3= Car()"
   ]
  },
  {
   "cell_type": "code",
   "execution_count": 13,
   "id": "0a02b074",
   "metadata": {},
   "outputs": [
    {
     "data": {
      "text/plain": [
       "'mercedes'"
      ]
     },
     "execution_count": 13,
     "metadata": {},
     "output_type": "execute_result"
    }
   ],
   "source": [
    "car3.brand"
   ]
  },
  {
   "cell_type": "code",
   "execution_count": 17,
   "id": "07019a63",
   "metadata": {},
   "outputs": [],
   "source": [
    "# 다양한 속성 원함\n",
    "class Car:\n",
    "    def __init__(self, brand): #속성초기화 함수 (self == my_car)\n",
    "        self.brand = brand # self == instance"
   ]
  },
  {
   "cell_type": "code",
   "execution_count": 18,
   "id": "acbe2efb",
   "metadata": {},
   "outputs": [
    {
     "data": {
      "text/plain": [
       "'toyota'"
      ]
     },
     "execution_count": 18,
     "metadata": {},
     "output_type": "execute_result"
    }
   ],
   "source": [
    "car4 = Car(brand='toyota')\n",
    "car4.brand"
   ]
  },
  {
   "cell_type": "code",
   "execution_count": 98,
   "id": "cec7661c",
   "metadata": {},
   "outputs": [],
   "source": [
    "# color, model 속성 초기화\n",
    "# 인스턴스만들기\n",
    "\n",
    "class Car:\n",
    "    def __init__(self, brand, model=None, color='orange'): #속성초기화 함수 (self == my_car)\n",
    "        self.brand = brand\n",
    "        #self.brand= 어떤 객체가 만들어지더라도 가져감\n",
    "        #brand = 객체 생성시 설정되는 브랜드명(처음 들어오는값)\n",
    "        self.model = model\n",
    "        self.color = color\n",
    "        #model 기본적으로는 값 안 받아도되게 설정\n",
    "\n",
    "    #액션 정의\n",
    "    def drive(self):\n",
    "        # 내 차(브랜드=())이 움직인다 \n",
    "        print(f' 내 차 {self.brand}가 움직인다')\n",
    "    def stop(self):\n",
    "        print('차가 멈춘다.')\n",
    "    def change_color(self, color):\n",
    "        # 'pink'로 바꾼다\n",
    "        self.color='pink'\n",
    "        self.color = color\n",
    "my_morning = Car('kia')\n",
    "#my_morning.change_color('blue')"
   ]
  },
  {
   "cell_type": "code",
   "execution_count": 99,
   "id": "2f5cd9ac",
   "metadata": {},
   "outputs": [
    {
     "data": {
      "text/plain": [
       "'orange'"
      ]
     },
     "execution_count": 99,
     "metadata": {},
     "output_type": "execute_result"
    }
   ],
   "source": [
    "my_morning.color"
   ]
  },
  {
   "cell_type": "code",
   "execution_count": 100,
   "id": "56c96b82",
   "metadata": {},
   "outputs": [
    {
     "name": "stdout",
     "output_type": "stream",
     "text": [
      " 내 차 kia가 움직인다\n"
     ]
    }
   ],
   "source": [
    "my_morning.drive()"
   ]
  },
  {
   "cell_type": "code",
   "execution_count": 101,
   "id": "7bfc9737",
   "metadata": {},
   "outputs": [],
   "source": [
    "my_morning.model"
   ]
  },
  {
   "cell_type": "markdown",
   "id": "93fa46ef",
   "metadata": {},
   "source": [
    "### getter, setter\n",
    "- 캡슐화, 정보 은닉\n",
    "- 클래스 외부에서 변수 접근을 용이하지 못하게 하는 것\n"
   ]
  },
  {
   "cell_type": "code",
   "execution_count": 102,
   "id": "fe4e1de3",
   "metadata": {},
   "outputs": [],
   "source": [
    "#1. 틀에서 변수 바꾸는 것\n",
    "#2. 인스턴스에서 변수를 바꾸는 것"
   ]
  },
  {
   "cell_type": "code",
   "execution_count": 103,
   "id": "49eb4b67",
   "metadata": {},
   "outputs": [],
   "source": [
    "class Fruit:\n",
    "    color = 'red'"
   ]
  },
  {
   "cell_type": "code",
   "execution_count": 104,
   "id": "a88db481",
   "metadata": {},
   "outputs": [
    {
     "data": {
      "text/plain": [
       "'red'"
      ]
     },
     "execution_count": 104,
     "metadata": {},
     "output_type": "execute_result"
    }
   ],
   "source": [
    "apple = Fruit()\n",
    "apple.color"
   ]
  },
  {
   "cell_type": "code",
   "execution_count": 105,
   "id": "19a00889",
   "metadata": {},
   "outputs": [],
   "source": [
    "Fruit.color = 'purple'"
   ]
  },
  {
   "cell_type": "code",
   "execution_count": 106,
   "id": "4e20dc0b",
   "metadata": {},
   "outputs": [
    {
     "data": {
      "text/plain": [
       "'purple'"
      ]
     },
     "execution_count": 106,
     "metadata": {},
     "output_type": "execute_result"
    }
   ],
   "source": [
    "orange = Fruit()\n",
    "orange.color"
   ]
  },
  {
   "cell_type": "code",
   "execution_count": 115,
   "id": "04fee8e6",
   "metadata": {},
   "outputs": [],
   "source": [
    "class Car:\n",
    "    def __init__(self, input_brand):\n",
    "        self.brand = input_brand\n",
    "        \n",
    "    def get_brand(self):\n",
    "        #원래 변수명에 접근하도록\n",
    "        print('from the getter')\n",
    "        return self.brand\n",
    "    \n",
    "    def set_brand(self, input_brand):\n",
    "        #변수명 바꾸는 작업\n",
    "        print('from the setter')\n",
    "        self.brand= input_brand"
   ]
  },
  {
   "cell_type": "code",
   "execution_count": 116,
   "id": "840947e9",
   "metadata": {},
   "outputs": [
    {
     "data": {
      "text/plain": [
       "'toyota'"
      ]
     },
     "execution_count": 116,
     "metadata": {},
     "output_type": "execute_result"
    }
   ],
   "source": [
    "ex = Car('toyota')\n",
    "ex.brand"
   ]
  },
  {
   "cell_type": "code",
   "execution_count": 117,
   "id": "9b3d3180",
   "metadata": {},
   "outputs": [
    {
     "name": "stdout",
     "output_type": "stream",
     "text": [
      "from the getter\n"
     ]
    },
    {
     "data": {
      "text/plain": [
       "'toyota'"
      ]
     },
     "execution_count": 117,
     "metadata": {},
     "output_type": "execute_result"
    }
   ],
   "source": [
    "ex.get_brand()"
   ]
  },
  {
   "cell_type": "code",
   "execution_count": 118,
   "id": "db670ef6",
   "metadata": {},
   "outputs": [
    {
     "name": "stdout",
     "output_type": "stream",
     "text": [
      "from the setter\n"
     ]
    },
    {
     "data": {
      "text/plain": [
       "'mazuda'"
      ]
     },
     "execution_count": 118,
     "metadata": {},
     "output_type": "execute_result"
    }
   ],
   "source": [
    "ex.set_brand('mazuda')\n",
    "ex.brand"
   ]
  },
  {
   "cell_type": "code",
   "execution_count": 124,
   "id": "df7400fe",
   "metadata": {},
   "outputs": [
    {
     "ename": "TypeError",
     "evalue": "descriptor 'setter' for 'property' objects doesn't apply to a 'function' object",
     "output_type": "error",
     "traceback": [
      "\u001b[1;31m---------------------------------------------------------------------------\u001b[0m",
      "\u001b[1;31mTypeError\u001b[0m                                 Traceback (most recent call last)",
      "\u001b[1;32mC:\\Users\\Public\\Documents\\ESTsoft\\CreatorTemp/ipykernel_4032/1611294175.py\u001b[0m in \u001b[0;36m<module>\u001b[1;34m\u001b[0m\n\u001b[1;32m----> 1\u001b[1;33m \u001b[1;32mclass\u001b[0m \u001b[0mCar\u001b[0m\u001b[1;33m:\u001b[0m\u001b[1;33m\u001b[0m\u001b[1;33m\u001b[0m\u001b[0m\n\u001b[0m\u001b[0;32m      2\u001b[0m     \u001b[1;32mdef\u001b[0m \u001b[0m__init__\u001b[0m\u001b[1;33m(\u001b[0m\u001b[0mself\u001b[0m\u001b[1;33m,\u001b[0m \u001b[0minput_brand\u001b[0m\u001b[1;33m)\u001b[0m\u001b[1;33m:\u001b[0m\u001b[1;33m\u001b[0m\u001b[1;33m\u001b[0m\u001b[0m\n\u001b[0;32m      3\u001b[0m         \u001b[0mself\u001b[0m\u001b[1;33m.\u001b[0m\u001b[0mhidden_brand\u001b[0m \u001b[1;33m=\u001b[0m \u001b[0minput_brand\u001b[0m\u001b[1;33m\u001b[0m\u001b[1;33m\u001b[0m\u001b[0m\n\u001b[0;32m      4\u001b[0m     \u001b[1;33m@\u001b[0m\u001b[0mproperty\u001b[0m\u001b[1;33m\u001b[0m\u001b[1;33m\u001b[0m\u001b[0m\n\u001b[0;32m      5\u001b[0m     \u001b[1;32mdef\u001b[0m \u001b[0mget_brand\u001b[0m\u001b[1;33m(\u001b[0m\u001b[0mself\u001b[0m\u001b[1;33m)\u001b[0m\u001b[1;33m:\u001b[0m\u001b[1;33m\u001b[0m\u001b[1;33m\u001b[0m\u001b[0m\n",
      "\u001b[1;32mC:\\Users\\Public\\Documents\\ESTsoft\\CreatorTemp/ipykernel_4032/1611294175.py\u001b[0m in \u001b[0;36mCar\u001b[1;34m()\u001b[0m\n\u001b[0;32m      6\u001b[0m         \u001b[1;32mreturn\u001b[0m \u001b[0mself\u001b[0m\u001b[1;33m.\u001b[0m\u001b[0mhidden_brand\u001b[0m\u001b[1;33m\u001b[0m\u001b[1;33m\u001b[0m\u001b[0m\n\u001b[0;32m      7\u001b[0m     \u001b[1;33m@\u001b[0m\u001b[0mproperty\u001b[0m\u001b[1;33m.\u001b[0m\u001b[0msetter\u001b[0m\u001b[1;33m\u001b[0m\u001b[1;33m\u001b[0m\u001b[0m\n\u001b[1;32m----> 8\u001b[1;33m     \u001b[1;32mdef\u001b[0m \u001b[0mset_brand\u001b[0m\u001b[1;33m(\u001b[0m\u001b[0mself\u001b[0m\u001b[1;33m,\u001b[0m \u001b[0minput_brand\u001b[0m\u001b[1;33m)\u001b[0m\u001b[1;33m:\u001b[0m\u001b[1;33m\u001b[0m\u001b[1;33m\u001b[0m\u001b[0m\n\u001b[0m\u001b[0;32m      9\u001b[0m         \u001b[0mself\u001b[0m\u001b[1;33m.\u001b[0m\u001b[0mhidden_brand\u001b[0m \u001b[1;33m=\u001b[0m \u001b[0minput_brand\u001b[0m\u001b[1;33m\u001b[0m\u001b[1;33m\u001b[0m\u001b[0m\n\u001b[0;32m     10\u001b[0m \u001b[1;33m\u001b[0m\u001b[0m\n",
      "\u001b[1;31mTypeError\u001b[0m: descriptor 'setter' for 'property' objects doesn't apply to a 'function' object"
     ]
    }
   ],
   "source": [
    "class Car:\n",
    "    def __init__(self, input_brand):\n",
    "        self.hidden_brand = input_brand\n",
    "    @property\n",
    "    def get_brand(self):\n",
    "        return self.hidden_brand\n",
    "    @property.setter\n",
    "    def set_brand(self, input_brand):\n",
    "        self.hidden_brand = input_brand\n",
    "\n",
    "c= Car('bb')\n",
    "c.brand"
   ]
  },
  {
   "cell_type": "code",
   "execution_count": 120,
   "id": "8c80265d",
   "metadata": {},
   "outputs": [],
   "source": [
    "c.brand = 'hyundai'"
   ]
  },
  {
   "cell_type": "code",
   "execution_count": 121,
   "id": "9ddf8088",
   "metadata": {},
   "outputs": [],
   "source": [
    "Car.hidden_brand = 'toyota'"
   ]
  },
  {
   "cell_type": "code",
   "execution_count": 125,
   "id": "6a23f790",
   "metadata": {},
   "outputs": [],
   "source": [
    "#4. 변수명 자체를 바꾸기"
   ]
  },
  {
   "cell_type": "code",
   "execution_count": 127,
   "id": "f9973899",
   "metadata": {},
   "outputs": [
    {
     "data": {
      "text/plain": [
       "14"
      ]
     },
     "execution_count": 127,
     "metadata": {},
     "output_type": "execute_result"
    }
   ],
   "source": [
    "class Circle:\n",
    "    def __init__(self, radius):\n",
    "        self.radius = radius\n",
    "        \n",
    "    @property\n",
    "    def diameter(self):\n",
    "        return self.radius * 2\n",
    "    \n",
    "c = Circle(7)\n",
    "c.diameter"
   ]
  },
  {
   "cell_type": "markdown",
   "id": "c19ab539",
   "metadata": {},
   "source": [
    "### 실습\n",
    "- 객체: 메모장(노트),                   메모\n",
    "- 변수: 제목, 페이지번호, 메모          글귀\n",
    "- 메서드: 추가, 삭제, 페이지번호        쓰기 , 지우기\n",
    "\n",
    "- 메모 객체에 글귀 추가\n",
    "- 메모장 객체에 메모 추가\n",
    "- 페이지 번호 늘어난다\n",
    "- 메모 삭제하면 페이지 번호 줄어듬\n",
    "- 페이지 300넘으면 메모 추가 못하게 막기\n",
    "- 메모 찾을때 페이지 번호로 찾기"
   ]
  },
  {
   "cell_type": "code",
   "execution_count": null,
   "id": "fe9f1841",
   "metadata": {},
   "outputs": [],
   "source": [
    "class Notebook:\n",
    "    def add_note():\n",
    "        pass # 제목, 페이지번호, 메모 == note()\n",
    "    def get_page_num():\n",
    "        \n",
    "    def remove_note():\n",
    "        \n",
    "    def get_page_num():\n",
    "class Note:\n",
    "    def __init__(self):\n",
    "\n",
    "    def write():\n",
    "    \n",
    "    def erase():"
   ]
  },
  {
   "cell_type": "code",
   "execution_count": null,
   "id": "00dcb2bc",
   "metadata": {},
   "outputs": [],
   "source": [
    "memo1 = '꿈을 이루고자 하는 용기만 있다면 모든 꿈을 이룰 수 있다.'\n",
    "memo2 = '웃음이 없는 하루는 버린 하루다'\n",
    "memo3 = '승리는 가장 끈기있는 사람에게 돌아간다.'\n",
    "\n",
    "note1 = Note(memo1)\n",
    "note2 = Note(memo2)\n",
    "note3 = Note(memo3)\n",
    "\n",
    "my_book = Notebook()\n",
    "\n",
    "my_book.add_note(note1)\n",
    "my_book.add_note(note2)\n",
    "my_book.add_note(note3)\n",
    "\n",
    "my_book.get_page_num() #3"
   ]
  }
 ],
 "metadata": {
  "kernelspec": {
   "display_name": "Python 3 (ipykernel)",
   "language": "python",
   "name": "python3"
  },
  "language_info": {
   "codemirror_mode": {
    "name": "ipython",
    "version": 3
   },
   "file_extension": ".py",
   "mimetype": "text/x-python",
   "name": "python",
   "nbconvert_exporter": "python",
   "pygments_lexer": "ipython3",
   "version": "3.9.7"
  }
 },
 "nbformat": 4,
 "nbformat_minor": 5
}
