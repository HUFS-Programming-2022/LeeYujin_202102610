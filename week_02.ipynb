{
 "cells": [
  {
   "cell_type": "markdown",
   "id": "450b3e76",
   "metadata": {},
   "source": [
    "## Ch2. Variables"
   ]
  },
  {
   "cell_type": "markdown",
   "id": "0f91a30a",
   "metadata": {},
   "source": [
    "#### 자료형 변환하기\n",
    "- int, str, float, bool (바꾸고자 하는 자료형으로 감싸기)"
   ]
  },
  {
   "cell_type": "code",
   "execution_count": 1,
   "id": "6b42fe25",
   "metadata": {},
   "outputs": [
    {
     "data": {
      "text/plain": [
       "int"
      ]
     },
     "execution_count": 1,
     "metadata": {},
     "output_type": "execute_result"
    }
   ],
   "source": [
    "a = 10\n",
    "type(a)"
   ]
  },
  {
   "cell_type": "code",
   "execution_count": 46,
   "id": "4da31c03",
   "metadata": {},
   "outputs": [
    {
     "data": {
      "text/plain": [
       "30.0"
      ]
     },
     "execution_count": 46,
     "metadata": {},
     "output_type": "execute_result"
    }
   ],
   "source": [
    "# int -> float (정수 > 유리수)\n",
    "float(a)"
   ]
  },
  {
   "cell_type": "code",
   "execution_count": 47,
   "id": "34f6ceef",
   "metadata": {},
   "outputs": [
    {
     "data": {
      "text/plain": [
       "'30'"
      ]
     },
     "execution_count": 47,
     "metadata": {},
     "output_type": "execute_result"
    }
   ],
   "source": [
    "# int -> string (정수 > 문자)\n",
    "str(a)"
   ]
  },
  {
   "cell_type": "code",
   "execution_count": 48,
   "id": "3bbd9929",
   "metadata": {},
   "outputs": [
    {
     "data": {
      "text/plain": [
       "True"
      ]
     },
     "execution_count": 48,
     "metadata": {},
     "output_type": "execute_result"
    }
   ],
   "source": [
    "# int -> bool (True/False로만 출력)\n",
    "bool(10)"
   ]
  },
  {
   "cell_type": "code",
   "execution_count": 7,
   "id": "ba967b60",
   "metadata": {},
   "outputs": [
    {
     "data": {
      "text/plain": [
       "10"
      ]
     },
     "execution_count": 7,
     "metadata": {},
     "output_type": "execute_result"
    }
   ],
   "source": [
    "# float -> int 10.6 => 정수형 변환 시 소수점 이하 값 버림\n",
    "int(10.9)"
   ]
  },
  {
   "cell_type": "code",
   "execution_count": 49,
   "id": "e8fa2eb6",
   "metadata": {},
   "outputs": [
    {
     "name": "stdout",
     "output_type": "stream",
     "text": [
      "12\n",
      "11\n"
     ]
    }
   ],
   "source": [
    "x = 4.6\n",
    "y = 7.9\n",
    "print(int(x + y)) # 12.xx (더한 후소수점 이하 버려짐)\n",
    "print(int(x) + int(y)) # 4+7 (소수점 이하 버린 후 더해짐)"
   ]
  },
  {
   "cell_type": "code",
   "execution_count": 12,
   "id": "a46f2722",
   "metadata": {},
   "outputs": [
    {
     "data": {
      "text/plain": [
       "88.3"
      ]
     },
     "execution_count": 12,
     "metadata": {},
     "output_type": "execute_result"
    }
   ],
   "source": [
    "# str -> int\n",
    "p = '88.3'\n",
    "# int(p) (에러)\n",
    "float(p) #자료형과 맞아야함"
   ]
  },
  {
   "cell_type": "markdown",
   "id": "57220c5c",
   "metadata": {},
   "source": [
    "#### 꿀팁\n",
    "print()"
   ]
  },
  {
   "cell_type": "code",
   "execution_count": 13,
   "id": "c2205096",
   "metadata": {},
   "outputs": [
    {
     "name": "stdout",
     "output_type": "stream",
     "text": [
      "orange apple tomato\n",
      "the next line\n"
     ]
    }
   ],
   "source": [
    "print('orange', 'apple','tomato') #default: 띄어쓰기, 줄바꾸기\n",
    "print(\"the next line\")"
   ]
  },
  {
   "cell_type": "code",
   "execution_count": 14,
   "id": "d1dca6e8",
   "metadata": {},
   "outputs": [
    {
     "name": "stdout",
     "output_type": "stream",
     "text": [
      "orangeappletomato\n",
      "orangeappletomato/norange_apple_tomato/n/nEDL\n"
     ]
    }
   ],
   "source": [
    "orange = 'orange'\n",
    "apple = 'apple'\n",
    "tomato = 'tomato'\n",
    "\n",
    "#1.\n",
    "print(orange + apple + tomato) # 연결 가능하지만 원소들간 공백 사라짐\n",
    "print(orange, apple, tomato, sep='', end='/n') #default\n",
    "print(orange, apple, tomato, sep='_', end='/n/n') \n",
    "print('EDL')"
   ]
  },
  {
   "cell_type": "code",
   "execution_count": 50,
   "id": "034fbcbb",
   "metadata": {},
   "outputs": [],
   "source": [
    "# 짧을 때 =>\n",
    "orange = 'orange'; apple = 'apple'; tomato = 'tomato'"
   ]
  },
  {
   "cell_type": "markdown",
   "id": "6c4a3534",
   "metadata": {},
   "source": [
    "## ch03. Numbers"
   ]
  },
  {
   "cell_type": "markdown",
   "id": "faf028b1",
   "metadata": {},
   "source": [
    "### boolean\n",
    "- True/ False\n",
    "* false인 값\n",
    "- if문 (조건식): \"만약 어떤 값이 True면,..\""
   ]
  },
  {
   "cell_type": "code",
   "execution_count": 3,
   "id": "7f6d2826",
   "metadata": {},
   "outputs": [
    {
     "data": {
      "text/plain": [
       "False"
      ]
     },
     "execution_count": 3,
     "metadata": {},
     "output_type": "execute_result"
    }
   ],
   "source": [
    "bool(0)"
   ]
  },
  {
   "cell_type": "code",
   "execution_count": 4,
   "id": "f803e2b5",
   "metadata": {},
   "outputs": [
    {
     "data": {
      "text/plain": [
       "False"
      ]
     },
     "execution_count": 4,
     "metadata": {},
     "output_type": "execute_result"
    }
   ],
   "source": [
    "bool(None)"
   ]
  },
  {
   "cell_type": "markdown",
   "id": "e068073f",
   "metadata": {},
   "source": [
    "### Integer\n",
    "- 분수나 소수가 아닌 정수\n",
    "- 음수는 '-'기호 붙임. 예) -50\n",
    "- default = 양수\n",
    "- 숫자 앞에는 0 못씀 예) 09\n",
    "    - 예외) 0bxx (10진수가 아닌)\n",
    "- 숫자 사이 쉼표쓰면 오류: 100,000 -> 100_000\n",
    "    - => 숫자 사이 언더바는 인식하지 않는다"
   ]
  },
  {
   "cell_type": "code",
   "execution_count": 5,
   "id": "e996e44f",
   "metadata": {},
   "outputs": [
    {
     "ename": "SyntaxError",
     "evalue": "leading zeros in decimal integer literals are not permitted; use an 0o prefix for octal integers (CreatorTemp/ipykernel_12444/2890110653.py, line 1)",
     "output_type": "error",
     "traceback": [
      "\u001b[1;36m  File \u001b[1;32m\"C:\\Users\\Public\\Documents\\ESTsoft\\CreatorTemp/ipykernel_12444/2890110653.py\"\u001b[1;36m, line \u001b[1;32m1\u001b[0m\n\u001b[1;33m    a = 09\u001b[0m\n\u001b[1;37m         ^\u001b[0m\n\u001b[1;31mSyntaxError\u001b[0m\u001b[1;31m:\u001b[0m leading zeros in decimal integer literals are not permitted; use an 0o prefix for octal integers\n"
     ]
    }
   ],
   "source": [
    "a = 09"
   ]
  },
  {
   "cell_type": "code",
   "execution_count": 6,
   "id": "7d3d46cc",
   "metadata": {},
   "outputs": [
    {
     "data": {
      "text/plain": [
       "-1"
      ]
     },
     "execution_count": 6,
     "metadata": {},
     "output_type": "execute_result"
    }
   ],
   "source": [
    "a = - 50\n",
    "b = 49\n",
    "a + b"
   ]
  },
  {
   "cell_type": "markdown",
   "id": "8eac004d",
   "metadata": {},
   "source": [
    "### 연산자 operator\n",
    "- +, -, *, /\n",
    "- 피연산자 operand: 1, 2, 3\n",
    "- 수식 expression"
   ]
  },
  {
   "cell_type": "code",
   "execution_count": 7,
   "id": "50f5b3a3",
   "metadata": {},
   "outputs": [
    {
     "data": {
      "text/plain": [
       "6561"
      ]
     },
     "execution_count": 7,
     "metadata": {},
     "output_type": "execute_result"
    }
   ],
   "source": [
    "x = 9\n",
    "y = 4\n",
    "\n",
    "# 연산\n",
    "x + y\n",
    "x - y\n",
    "x * y\n",
    "x / y ###\n",
    "x ** y #거듭제곱"
   ]
  },
  {
   "cell_type": "markdown",
   "id": "d26dbc88",
   "metadata": {},
   "source": [
    "나눗셈 = 몫, 나머지"
   ]
  },
  {
   "cell_type": "code",
   "execution_count": 8,
   "id": "0a70ef5a",
   "metadata": {},
   "outputs": [
    {
     "data": {
      "text/plain": [
       "1"
      ]
     },
     "execution_count": 8,
     "metadata": {},
     "output_type": "execute_result"
    }
   ],
   "source": [
    "x / y #결과물\n",
    "x // y #몫\n",
    "x % y #나머지"
   ]
  },
  {
   "cell_type": "code",
   "execution_count": 9,
   "id": "191e24cb",
   "metadata": {},
   "outputs": [
    {
     "data": {
      "text/plain": [
       "(2, 1)"
      ]
     },
     "execution_count": 9,
     "metadata": {},
     "output_type": "execute_result"
    }
   ],
   "source": [
    "divmod(x, y) #몫, 나머지"
   ]
  },
  {
   "cell_type": "code",
   "execution_count": 10,
   "id": "07702ec6",
   "metadata": {},
   "outputs": [],
   "source": [
    "# division by zero 항시 유의"
   ]
  },
  {
   "cell_type": "code",
   "execution_count": 11,
   "id": "5a6fef27",
   "metadata": {},
   "outputs": [
    {
     "data": {
      "text/plain": [
       "20"
      ]
     },
     "execution_count": 11,
     "metadata": {},
     "output_type": "execute_result"
    }
   ],
   "source": [
    "1 + 9             + 10 # 숫자 사이 공백 무시"
   ]
  },
  {
   "cell_type": "markdown",
   "id": "deb55d45",
   "metadata": {},
   "source": [
    "### 복합 대입 연산자 | compound assignment operator"
   ]
  },
  {
   "cell_type": "code",
   "execution_count": 12,
   "id": "0e887e3d",
   "metadata": {},
   "outputs": [
    {
     "name": "stdout",
     "output_type": "stream",
     "text": [
      "5\n"
     ]
    }
   ],
   "source": [
    "x = 5\n",
    "x - 3\n",
    "print(x)"
   ]
  },
  {
   "cell_type": "code",
   "execution_count": 13,
   "id": "9cf1f0da",
   "metadata": {},
   "outputs": [
    {
     "name": "stdout",
     "output_type": "stream",
     "text": [
      "2\n"
     ]
    }
   ],
   "source": [
    "x = x - 3\n",
    "print(x)\n",
    "\n",
    "## 복합대입 연산자의 논리\n",
    "#1. x - 3 계산\n",
    "#2. temp = x - 3 (임시변수에 담는다)\n",
    "#3. x = temp"
   ]
  },
  {
   "cell_type": "code",
   "execution_count": 14,
   "id": "5fe25012",
   "metadata": {},
   "outputs": [
    {
     "name": "stdout",
     "output_type": "stream",
     "text": [
      "-1\n"
     ]
    }
   ],
   "source": [
    "x -= 3\n",
    "print(x) # 2 - 3"
   ]
  },
  {
   "cell_type": "code",
   "execution_count": 15,
   "id": "986e9714",
   "metadata": {},
   "outputs": [],
   "source": [
    "x += 3\n",
    "x -= 3\n",
    "x *= 3\n",
    "x /= 3\n",
    "\n",
    "x += 1  # 많이 쓰는 것"
   ]
  },
  {
   "cell_type": "markdown",
   "id": "bfa3fdc8",
   "metadata": {},
   "source": [
    "#### Quiz 1.\n",
    "- 반지름 입력받아 원의 면적 구하기\n",
    "- pi * r제곱\n",
    "\n",
    "#### Quiz 2.\n",
    "- 숫자를 입력받고 3의 배수인지 확인하기\n",
    "- 숫자를 입력받고 홀수인지 확인하기"
   ]
  },
  {
   "cell_type": "code",
   "execution_count": 17,
   "id": "3b08e902",
   "metadata": {},
   "outputs": [
    {
     "name": "stdout",
     "output_type": "stream",
     "text": [
      "반지름을 입력하세요.10\n",
      "면적: 314.0\n"
     ]
    }
   ],
   "source": [
    "#1\n",
    "r = float(input('반지름을 입력하세요.'))\n",
    "pi = 3.14\n",
    "r = pi * (r**2)\n",
    "print('면적:', r)"
   ]
  },
  {
   "cell_type": "code",
   "execution_count": 45,
   "id": "61dd6af7",
   "metadata": {},
   "outputs": [
    {
     "name": "stdout",
     "output_type": "stream",
     "text": [
      "숫자를 입력하세요:30\n"
     ]
    },
    {
     "data": {
      "text/plain": [
       "True"
      ]
     },
     "execution_count": 45,
     "metadata": {},
     "output_type": "execute_result"
    }
   ],
   "source": [
    "#2\n",
    "a = int(input(\"숫자를 입력하세요:\"))\n",
    "a % 3 == 0\n",
    "bool(a)"
   ]
  },
  {
   "cell_type": "markdown",
   "id": "ad2d4b2f",
   "metadata": {},
   "source": [
    "### 지수 표현\n",
    "- e의 앞부분은 소수, 정수 둘 다\n",
    "- 뒷 부분 정수\n",
    "- 뒷부분 음수면 소수점 자릿수\n",
    "- e, E"
   ]
  },
  {
   "cell_type": "code",
   "execution_count": 20,
   "id": "a3a4f3d3",
   "metadata": {},
   "outputs": [
    {
     "data": {
      "text/plain": [
       "0.0001"
      ]
     },
     "execution_count": 20,
     "metadata": {},
     "output_type": "execute_result"
    }
   ],
   "source": [
    "1.0e-4"
   ]
  },
  {
   "cell_type": "code",
   "execution_count": 21,
   "id": "a563d880",
   "metadata": {},
   "outputs": [
    {
     "data": {
      "text/plain": [
       "0.0004005"
      ]
     },
     "execution_count": 21,
     "metadata": {},
     "output_type": "execute_result"
    }
   ],
   "source": [
    "# 0.000405 => 지수로 표현\n",
    "4005e-7"
   ]
  },
  {
   "cell_type": "markdown",
   "id": "c920e002",
   "metadata": {},
   "source": [
    "### input()\n",
    "- consol에서 사용자에게 값 입력받는 함수\n",
    "- 입출력 관련\n",
    "- 입력받는 값의 타입은 문자열\n",
    "- 입력받은 값을 변수에 담아 사용"
   ]
  },
  {
   "cell_type": "code",
   "execution_count": 22,
   "id": "bbefff2f",
   "metadata": {},
   "outputs": [
    {
     "name": "stdout",
     "output_type": "stream",
     "text": [
      "What's your name?kim\n"
     ]
    },
    {
     "data": {
      "text/plain": [
       "'kim'"
      ]
     },
     "execution_count": 22,
     "metadata": {},
     "output_type": "execute_result"
    }
   ],
   "source": [
    "input(\"What's your name?\")"
   ]
  },
  {
   "cell_type": "code",
   "execution_count": 23,
   "id": "62ab5bed",
   "metadata": {},
   "outputs": [
    {
     "name": "stdout",
     "output_type": "stream",
     "text": [
      "What's your name?lee\n"
     ]
    }
   ],
   "source": [
    "#1.\n",
    "name = input(\"What's your name?\")"
   ]
  },
  {
   "cell_type": "code",
   "execution_count": 24,
   "id": "e1dbab17",
   "metadata": {},
   "outputs": [
    {
     "data": {
      "text/plain": [
       "'lee'"
      ]
     },
     "execution_count": 24,
     "metadata": {},
     "output_type": "execute_result"
    }
   ],
   "source": [
    "name"
   ]
  },
  {
   "cell_type": "code",
   "execution_count": 25,
   "id": "f4cee5a3",
   "metadata": {},
   "outputs": [
    {
     "name": "stdout",
     "output_type": "stream",
     "text": [
      "What's your name?\n",
      "lee\n"
     ]
    }
   ],
   "source": [
    "#2. \n",
    "print(\"What's your name?\")\n",
    "name = input()"
   ]
  },
  {
   "cell_type": "markdown",
   "id": "bac35b29",
   "metadata": {},
   "source": [
    "input을 str이 아닌 다른 타입으로 사용하고 싶을 때 형변환 미리"
   ]
  },
  {
   "cell_type": "code",
   "execution_count": 26,
   "id": "da608a29",
   "metadata": {},
   "outputs": [
    {
     "name": "stdout",
     "output_type": "stream",
     "text": [
      "lee\n"
     ]
    }
   ],
   "source": [
    "print(name)"
   ]
  },
  {
   "cell_type": "code",
   "execution_count": 27,
   "id": "5ecf056d",
   "metadata": {},
   "outputs": [
    {
     "name": "stdout",
     "output_type": "stream",
     "text": [
      "How old are you?19\n"
     ]
    }
   ],
   "source": [
    "age = input(\"How old are you?\")"
   ]
  },
  {
   "cell_type": "code",
   "execution_count": 28,
   "id": "cf03d681",
   "metadata": {},
   "outputs": [
    {
     "data": {
      "text/plain": [
       "str"
      ]
     },
     "execution_count": 28,
     "metadata": {},
     "output_type": "execute_result"
    }
   ],
   "source": [
    "type(age)"
   ]
  },
  {
   "cell_type": "code",
   "execution_count": 44,
   "id": "3aa45f35",
   "metadata": {},
   "outputs": [
    {
     "name": "stdout",
     "output_type": "stream",
     "text": [
      "How old are you?19\n"
     ]
    }
   ],
   "source": [
    "age = int(input(\"How old are you?\")) #정수로 형변환"
   ]
  },
  {
   "cell_type": "code",
   "execution_count": 30,
   "id": "fe859850",
   "metadata": {},
   "outputs": [
    {
     "name": "stdout",
     "output_type": "stream",
     "text": [
      "당신이 태어난 해는 2004 입니다.\n"
     ]
    }
   ],
   "source": [
    "print('당신이 태어난 해는', 2022 - age + 1, '입니다.') # 연산 가능"
   ]
  },
  {
   "cell_type": "markdown",
   "id": "35502183",
   "metadata": {},
   "source": [
    "printing"
   ]
  },
  {
   "cell_type": "code",
   "execution_count": 31,
   "id": "6d930689",
   "metadata": {},
   "outputs": [
    {
     "name": "stdout",
     "output_type": "stream",
     "text": [
      "당신이 태어난 해는 2004년입니다\n"
     ]
    }
   ],
   "source": [
    "print(f'당신이 태어난 해는 {2022 - age + 1}년입니다') #print(f'{variable}'')"
   ]
  },
  {
   "cell_type": "markdown",
   "id": "b414fcb8",
   "metadata": {},
   "source": [
    "### Quiz 1\n",
    "- 택배 정보 입력받고 무게따른 값 산정\n",
    "    - 수취인 성명:\n",
    "    - 수취인 주소:\n",
    "    - 배송비 3000원\n",
    "    - 물건 비용 <계산된 값>원\n",
    "    - 총 합계: <계산된 값>원\n",
    "- 물건 비용 무게(g) *5\n",
    "- 입력값 = 이름, 주소, 무게"
   ]
  },
  {
   "cell_type": "code",
   "execution_count": 33,
   "id": "60084782",
   "metadata": {},
   "outputs": [
    {
     "name": "stdout",
     "output_type": "stream",
     "text": [
      "당신의 이름은 무엇입니까?유진\n",
      "주소를 입력해 주세요.동대문\n",
      "물건 무게를 입력해 주세요.20\n",
      "수취인 성명: 유진\n",
      "수취인 주소: 동대문\n",
      "배송비: 3000 원\n",
      "물건 비용: 100 원\n",
      "총 합계: 3100 원\n"
     ]
    }
   ],
   "source": [
    "name = input(\"당신의 이름은 무엇입니까?\")\n",
    "address = input(\"주소를 입력해 주세요.\")\n",
    "weight = int(input(\"물건 무게를 입력해 주세요.\"))\n",
    "print('수취인 성명:', name)\n",
    "print('수취인 주소:', address)\n",
    "print('배송비: 3000 원')\n",
    "print('물건 비용:', weight*5, '원')\n",
    "print('총 합계:', 3000 + weight*5,'원')"
   ]
  },
  {
   "cell_type": "markdown",
   "id": "75a5e6c5",
   "metadata": {},
   "source": [
    "## CH04. IF 조건문\n",
    "\n",
    "#### 코드 짜는 팁\n",
    "- 주석 달기\n",
    "    - #hash, sharp\n",
    "    - #시작 지점부터 라인 끝까지. 라인 바뀌면 코드인식\n",
    "    - \"\"\" \"\"\"\n",
    "    - 문자열 안에 있는 sharp는 부호로 인식\n",
    "    - 이유 : 코드에 대한 설명 최대한 적지않기. 의도를 나타내기 위해, 오류가 있다거나 의미 외의 설명위해\n",
    "- 라인 유지하기\n",
    "    - 들여쓰기(default space 4개 탭 이용)\n",
    "    - 논리 구조 나타내기 때문에 중요\n",
    "    - 한 라인에 80자 정도 (백슬래시로 라인 끊어주기(\\))"
   ]
  },
  {
   "cell_type": "code",
   "execution_count": 34,
   "id": "a7e85328",
   "metadata": {},
   "outputs": [
    {
     "name": "stdout",
     "output_type": "stream",
     "text": [
      "3\n",
      "hey, there #\n"
     ]
    }
   ],
   "source": [
    "a = 3 #주석\n",
    "\"\"\"\n",
    "주석1\n",
    "주석2\n",
    "주석3\n",
    "\"\"\"\n",
    "print(a)\n",
    "print('hey, there #')"
   ]
  },
  {
   "cell_type": "markdown",
   "id": "126e19f2",
   "metadata": {},
   "source": [
    "### if\n",
    "if <조건식>:\n",
    "<실행할 코드>"
   ]
  },
  {
   "cell_type": "code",
   "execution_count": 35,
   "id": "8909be06",
   "metadata": {},
   "outputs": [
    {
     "name": "stdout",
     "output_type": "stream",
     "text": [
      "두 수는 같지 않다\n"
     ]
    }
   ],
   "source": [
    "if 3 !=1:\n",
    "    print(\"두 수는 같지 않다\")"
   ]
  },
  {
   "cell_type": "markdown",
   "id": "a69246ef",
   "metadata": {},
   "source": [
    "- if-else\n",
    "if 조건식:\n",
    "    실행할 코드1\n",
    "else:\n",
    "    실행할 코드2"
   ]
  },
  {
   "cell_type": "code",
   "execution_count": 36,
   "id": "9223635f",
   "metadata": {},
   "outputs": [
    {
     "name": "stdout",
     "output_type": "stream",
     "text": [
      "두 수는 같지 않다\n"
     ]
    }
   ],
   "source": [
    "if 3 !=1:\n",
    "    print(\"두 수는 같지 않다\")\n",
    "else:\n",
    "    print(\"두 수가 같다\")"
   ]
  },
  {
   "cell_type": "markdown",
   "id": "04532e4d",
   "metadata": {},
   "source": [
    "-\n",
    "if-elif-else if :\n",
    "<실행할 코드1>\n",
    "elif :\n",
    "<실행할 코드3>\n",
    "...\n",
    "else:\n",
    "<실행할 코드2>"
   ]
  },
  {
   "cell_type": "code",
   "execution_count": 39,
   "id": "16be63ec",
   "metadata": {},
   "outputs": [
    {
     "name": "stdout",
     "output_type": "stream",
     "text": [
      "3보다 크다\n"
     ]
    }
   ],
   "source": [
    "a = 4\n",
    "if a < 3:\n",
    "    print(\"3보다 작다\")\n",
    "elif a == 3:\n",
    "    print(\"3이다\")\n",
    "else:\n",
    "    print(\"3보다 크다\")"
   ]
  },
  {
   "cell_type": "code",
   "execution_count": 41,
   "id": "1b1c9fd6",
   "metadata": {},
   "outputs": [],
   "source": [
    "if a < 3:\n",
    "    print(\"3보다 작다\")\n",
    "    \n",
    "if a == 3:\n",
    "    print(\"3이다\")\n",
    "    \n",
    "if a > 4:\n",
    "    print(\"3보다 크다\") # 각자 따로 식이라 답변이 나오지않음"
   ]
  },
  {
   "cell_type": "markdown",
   "id": "2e7d497c",
   "metadata": {},
   "source": [
    "### 비교연산자\n",
    "- x < y\n",
    "- x > y\n",
    "- x >= y\n",
    "- x <= y\n",
    "- x == y\n",
    "- x != y\n",
    "- x is y (값, 메모리 주소)\n",
    "- x is not y"
   ]
  },
  {
   "cell_type": "markdown",
   "id": "3971ff27",
   "metadata": {},
   "source": [
    "### Quiz\n",
    "- 1. 시험 점수를 입력받고 80점 이상이면 True, or False\n",
    "- 2. 시험 점수 입력받고 95 이상 A+, 90 이상 A, 85이상 B+, 나머지 F"
   ]
  },
  {
   "cell_type": "code",
   "execution_count": 42,
   "id": "07f474e9",
   "metadata": {},
   "outputs": [
    {
     "name": "stdout",
     "output_type": "stream",
     "text": [
      "시험 점수를 입력하세요: 90\n",
      "True\n"
     ]
    }
   ],
   "source": [
    "#1.\n",
    "score = int(input(\"시험 점수를 입력하세요: \"))\n",
    "if score >= 80:\n",
    "    print(bool(score))\n",
    "else:\n",
    "    print(not bool(score))"
   ]
  },
  {
   "cell_type": "code",
   "execution_count": 43,
   "id": "17da7d7e",
   "metadata": {},
   "outputs": [
    {
     "name": "stdout",
     "output_type": "stream",
     "text": [
      "시험 점수를 입력하세요: 66\n",
      "F\n"
     ]
    }
   ],
   "source": [
    "#2.\n",
    "score = int(input(\"시험 점수를 입력하세요: \"))\n",
    "if score >= 95:\n",
    "    print('A+')\n",
    "elif score >= 90:\n",
    "    print('A')\n",
    "elif score >= 85:\n",
    "    print('B+')\n",
    "else:\n",
    "    print('F')"
   ]
  },
  {
   "cell_type": "code",
   "execution_count": null,
   "id": "9a85d3e0",
   "metadata": {},
   "outputs": [],
   "source": []
  }
 ],
 "metadata": {
  "kernelspec": {
   "display_name": "Python 3 (ipykernel)",
   "language": "python",
   "name": "python3"
  },
  "language_info": {
   "codemirror_mode": {
    "name": "ipython",
    "version": 3
   },
   "file_extension": ".py",
   "mimetype": "text/x-python",
   "name": "python",
   "nbconvert_exporter": "python",
   "pygments_lexer": "ipython3",
   "version": "3.9.7"
  }
 },
 "nbformat": 4,
 "nbformat_minor": 5
}
