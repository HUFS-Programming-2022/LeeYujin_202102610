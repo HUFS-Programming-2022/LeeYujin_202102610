{
 "cells": [
  {
   "cell_type": "code",
   "execution_count": 5,
   "id": "78cd9106",
   "metadata": {},
   "outputs": [
    {
     "name": "stdout",
     "output_type": "stream",
     "text": [
      "*** Introductory Examples for the NLTK Book ***\n",
      "Loading text1, ..., text9 and sent1, ..., sent9\n",
      "Type the name of the text or sentence to view it.\n",
      "Type: 'texts()' or 'sents()' to list the materials.\n",
      "text1: Moby Dick by Herman Melville 1851\n",
      "text2: Sense and Sensibility by Jane Austen 1811\n",
      "text3: The Book of Genesis\n",
      "text4: Inaugural Address Corpus\n",
      "text5: Chat Corpus\n",
      "text6: Monty Python and the Holy Grail\n",
      "text7: Wall Street Journal\n",
      "text8: Personals Corpus\n",
      "text9: The Man Who Was Thursday by G . K . Chesterton 1908\n"
     ]
    },
    {
     "data": {
      "text/plain": [
       "True"
      ]
     },
     "execution_count": 5,
     "metadata": {},
     "output_type": "execute_result"
    }
   ],
   "source": [
    "import nltk\n",
    "from nltk import book\n",
    "nltk.download('book', quiet=True)"
   ]
  },
  {
   "cell_type": "markdown",
   "id": "3c35538e",
   "metadata": {},
   "source": [
    "## 반복문\n",
    "- for, while\n",
    "\n",
    "### while\n",
    "- 어떤 조건이 만족할때까지 블록 수정\n",
    "- 해당 조건이 거짓이면 수행을 멈춘다\n",
    "    - 언제 빠져나오는지 정확히 알아야한다\n",
    "- for + if\n",
    "\n",
    "#### for vs while\n",
    "- for loop: 반복 횟수 정확히 알고 반복횟수 변하지 않을때\n",
    "    - 예: 전체 학생 성적 산출\n",
    "- while loop: 반복 횟수 정확하지 않고 어느 조건 만족시킬때 프로그램 종료하고 싶다면\n",
    "    - 예: 가위바위보 이기면 종료"
   ]
  },
  {
   "cell_type": "code",
   "execution_count": 3,
   "id": "e9fa0951",
   "metadata": {},
   "outputs": [
    {
     "name": "stdout",
     "output_type": "stream",
     "text": [
      "0\n",
      "1\n",
      "2\n",
      "3\n",
      "4\n",
      "5\n",
      "6\n",
      "7\n",
      "8\n",
      "9\n"
     ]
    }
   ],
   "source": [
    "for i in range(10):\n",
    "    print(i)"
   ]
  },
  {
   "cell_type": "code",
   "execution_count": 4,
   "id": "89bec126",
   "metadata": {},
   "outputs": [
    {
     "name": "stdout",
     "output_type": "stream",
     "text": [
      "1\n",
      "2\n",
      "3\n",
      "4\n",
      "5\n"
     ]
    }
   ],
   "source": [
    "j = 0\n",
    "while j < 5: # 0, 1, 2, 3, 4 조건\n",
    "    j +=1 # 변화 조건\n",
    "    print(j)"
   ]
  },
  {
   "cell_type": "code",
   "execution_count": 5,
   "id": "f7332b61",
   "metadata": {},
   "outputs": [
    {
     "data": {
      "text/plain": [
       "5"
      ]
     },
     "execution_count": 5,
     "metadata": {},
     "output_type": "execute_result"
    }
   ],
   "source": [
    "j"
   ]
  },
  {
   "cell_type": "code",
   "execution_count": 6,
   "id": "c22ac537",
   "metadata": {},
   "outputs": [
    {
     "name": "stdout",
     "output_type": "stream",
     "text": [
      "a\n",
      "b\n",
      "c\n"
     ]
    }
   ],
   "source": [
    "characters = ['a', 'b','c']\n",
    "for ch in characters:\n",
    "    print(ch)\n",
    "    while "
   ]
  },
  {
   "cell_type": "code",
   "execution_count": 7,
   "id": "8b3771ee",
   "metadata": {},
   "outputs": [
    {
     "name": "stdout",
     "output_type": "stream",
     "text": [
      "a\n",
      "b\n",
      "c\n"
     ]
    }
   ],
   "source": [
    "ch = 0\n",
    "while ch < len(characters):\n",
    "    print(characters[ch])\n",
    "    ch += 1"
   ]
  },
  {
   "cell_type": "markdown",
   "id": "3f840ee9",
   "metadata": {},
   "source": [
    "### 반복문의 제어\n",
    "- 의도치않게 코드 종료시킬 수 있어서 되도록 사용하지않음\n",
    "\n",
    "- break : 논리적으로 반복 종료시키는 법. 시점 잘 알아야 함\n",
    "- else : 어떤 조건이 온전히 끝났을 때 한번 더 실행하는 블록. break로 끝난 것과 구분할 수 있음\n",
    "- continue : 특정 조건을 건너뛰고 다른 조건 수행"
   ]
  },
  {
   "cell_type": "code",
   "execution_count": 3,
   "id": "106fbd4a",
   "metadata": {},
   "outputs": [
    {
     "name": "stdout",
     "output_type": "stream",
     "text": [
      "0\n",
      "1\n",
      "2\n",
      "3\n",
      "4\n",
      "5\n",
      "6\n",
      "7\n",
      "8\n",
      "9\n",
      "end\n"
     ]
    }
   ],
   "source": [
    "for i in range(10):\n",
    "    if i == 16: break\n",
    "    print(i)\n",
    "else:\n",
    "    print('end')"
   ]
  },
  {
   "cell_type": "code",
   "execution_count": 5,
   "id": "f0fc891a",
   "metadata": {},
   "outputs": [
    {
     "name": "stdout",
     "output_type": "stream",
     "text": [
      "0\n",
      "1\n",
      "2\n",
      "3\n",
      "4\n"
     ]
    }
   ],
   "source": [
    "j = 0\n",
    "while j < 5:\n",
    "    print(j)\n",
    "    if j == 4: break\n",
    "    j += 1\n",
    "else:\n",
    "    print(\"\")"
   ]
  },
  {
   "cell_type": "markdown",
   "id": "1c1971ad",
   "metadata": {},
   "source": [
    "### 구구단\n",
    "- 1. for, while 선택힌 뒤, n단을 입력받아 출력\n",
    "    - 출력: == 3단 ==\n",
    "        3 x 1 = 3\n",
    "        3 x 2 = 6\n",
    "        ...\n",
    "        3 x 9 = 27\n",
    "- 2. 1~n단까지 출력\n",
    "- 3. 시작단, 끝단 둘다 입력받기\n",
    "    - 예: 4~7단\n",
    "- 4. 프로그램 만든다\n",
    "    - 1) n단 2) 1-n단 3) n, n단\n",
    "    - 3번 -> n, m ->...\n",
    "    - 메뉴에 없는 선택 처리"
   ]
  },
  {
   "cell_type": "code",
   "execution_count": 18,
   "id": "0496f20f",
   "metadata": {},
   "outputs": [
    {
     "name": "stdout",
     "output_type": "stream",
     "text": [
      "3\n",
      "=== 3단 ===\n",
      "3 x 1 = 3\n",
      "3 x 2 = 6\n",
      "3 x 3 = 9\n",
      "3 x 4 = 12\n",
      "3 x 5 = 15\n",
      "3 x 6 = 18\n",
      "3 x 7 = 21\n",
      "3 x 8 = 24\n",
      "3 x 9 = 27\n"
     ]
    }
   ],
   "source": [
    "#1.\n",
    "num = int(input())\n",
    "print(f'=== {num}단 ===')\n",
    "for i in range(1, 10):\n",
    "    print(f'{num} x {i} = {num*i}')"
   ]
  },
  {
   "cell_type": "code",
   "execution_count": 20,
   "id": "1fa10700",
   "metadata": {},
   "outputs": [
    {
     "name": "stdout",
     "output_type": "stream",
     "text": [
      "=== 1단 ===\n",
      "1 x 1 = 1\n",
      "1 x 2 = 2\n",
      "1 x 3 = 3\n",
      "1 x 4 = 4\n",
      "1 x 5 = 5\n",
      "1 x 6 = 6\n",
      "1 x 7 = 7\n",
      "1 x 8 = 8\n",
      "1 x 9 = 9\n",
      "=== 2단 ===\n",
      "2 x 1 = 2\n",
      "2 x 2 = 4\n",
      "2 x 3 = 6\n",
      "2 x 4 = 8\n",
      "2 x 5 = 10\n",
      "2 x 6 = 12\n",
      "2 x 7 = 14\n",
      "2 x 8 = 16\n",
      "2 x 9 = 18\n",
      "=== 3단 ===\n",
      "3 x 1 = 3\n",
      "3 x 2 = 6\n",
      "3 x 3 = 9\n",
      "3 x 4 = 12\n",
      "3 x 5 = 15\n",
      "3 x 6 = 18\n",
      "3 x 7 = 21\n",
      "3 x 8 = 24\n",
      "3 x 9 = 27\n",
      "=== 4단 ===\n",
      "4 x 1 = 4\n",
      "4 x 2 = 8\n",
      "4 x 3 = 12\n",
      "4 x 4 = 16\n",
      "4 x 5 = 20\n",
      "4 x 6 = 24\n",
      "4 x 7 = 28\n",
      "4 x 8 = 32\n",
      "4 x 9 = 36\n",
      "=== 5단 ===\n",
      "5 x 1 = 5\n",
      "5 x 2 = 10\n",
      "5 x 3 = 15\n",
      "5 x 4 = 20\n",
      "5 x 5 = 25\n",
      "5 x 6 = 30\n",
      "5 x 7 = 35\n",
      "5 x 8 = 40\n",
      "5 x 9 = 45\n",
      "=== 6단 ===\n",
      "6 x 1 = 6\n",
      "6 x 2 = 12\n",
      "6 x 3 = 18\n",
      "6 x 4 = 24\n",
      "6 x 5 = 30\n",
      "6 x 6 = 36\n",
      "6 x 7 = 42\n",
      "6 x 8 = 48\n",
      "6 x 9 = 54\n",
      "=== 7단 ===\n",
      "7 x 1 = 7\n",
      "7 x 2 = 14\n",
      "7 x 3 = 21\n",
      "7 x 4 = 28\n",
      "7 x 5 = 35\n",
      "7 x 6 = 42\n",
      "7 x 7 = 49\n",
      "7 x 8 = 56\n",
      "7 x 9 = 63\n",
      "=== 8단 ===\n",
      "8 x 1 = 8\n",
      "8 x 2 = 16\n",
      "8 x 3 = 24\n",
      "8 x 4 = 32\n",
      "8 x 5 = 40\n",
      "8 x 6 = 48\n",
      "8 x 7 = 56\n",
      "8 x 8 = 64\n",
      "8 x 9 = 72\n",
      "=== 9단 ===\n",
      "9 x 1 = 9\n",
      "9 x 2 = 18\n",
      "9 x 3 = 27\n",
      "9 x 4 = 36\n",
      "9 x 5 = 45\n",
      "9 x 6 = 54\n",
      "9 x 7 = 63\n",
      "9 x 8 = 72\n",
      "9 x 9 = 81\n"
     ]
    }
   ],
   "source": [
    "#2. \n",
    "for i in range(1,10):\n",
    "    print(f'=== {i}단 ===')\n",
    "    for j in range(1,10):\n",
    "         print(f'{i} x {j} = {i*j}')"
   ]
  },
  {
   "cell_type": "code",
   "execution_count": 48,
   "id": "9d7b358c",
   "metadata": {},
   "outputs": [
    {
     "name": "stdout",
     "output_type": "stream",
     "text": [
      "3\n",
      "6\n",
      "=== 3단 ===\n",
      "3 x 1 = 3\n",
      "3 x 2 = 6\n",
      "3 x 3 = 9\n",
      "3 x 4 = 12\n",
      "3 x 5 = 15\n",
      "3 x 6 = 18\n",
      "3 x 7 = 21\n",
      "3 x 8 = 24\n",
      "3 x 9 = 27\n",
      "=== 4단 ===\n",
      "4 x 1 = 4\n",
      "4 x 2 = 8\n",
      "4 x 3 = 12\n",
      "4 x 4 = 16\n",
      "4 x 5 = 20\n",
      "4 x 6 = 24\n",
      "4 x 7 = 28\n",
      "4 x 8 = 32\n",
      "4 x 9 = 36\n",
      "=== 5단 ===\n",
      "5 x 1 = 5\n",
      "5 x 2 = 10\n",
      "5 x 3 = 15\n",
      "5 x 4 = 20\n",
      "5 x 5 = 25\n",
      "5 x 6 = 30\n",
      "5 x 7 = 35\n",
      "5 x 8 = 40\n",
      "5 x 9 = 45\n",
      "=== 6단 ===\n",
      "6 x 1 = 6\n",
      "6 x 2 = 12\n",
      "6 x 3 = 18\n",
      "6 x 4 = 24\n",
      "6 x 5 = 30\n",
      "6 x 6 = 36\n",
      "6 x 7 = 42\n",
      "6 x 8 = 48\n",
      "6 x 9 = 54\n"
     ]
    }
   ],
   "source": [
    "#3.\n",
    "first=int(input())\n",
    "last=int(input())\n",
    "if last >= first:\n",
    "    for i in range(first,last+1):\n",
    "        print(f'=== {i}단 ===')\n",
    "        for j in range(1,10):\n",
    "             print(f'{i} x {j} = {i*j}')\n",
    "if first > last:\n",
    "    for i in range(last,first+1):\n",
    "        print(f'=== {i}단 ===')\n",
    "        for j in range(1,10):\n",
    "            print(f'{i} x {j} = {i*j}')"
   ]
  },
  {
   "cell_type": "code",
   "execution_count": 50,
   "id": "07f9cba3",
   "metadata": {},
   "outputs": [
    {
     "name": "stdout",
     "output_type": "stream",
     "text": [
      "1) n단 2) 1-n단 3) n, n단 7\n",
      "종료\n"
     ]
    }
   ],
   "source": [
    "#4 내 답\n",
    "choice=int(input(\"1) n단 2) 1-n단 3) n, n단 \"))\n",
    "if choice == 1:\n",
    "    num = int(input())\n",
    "    print(f'=== {num}단 ===')\n",
    "    for i in range(1, 10):\n",
    "        print(f'{num} x {i} = {num*i}')\n",
    "if choice == 2:\n",
    "    for i in range(1,10):\n",
    "        print(f'=== {i}단 ===')\n",
    "        for j in range(1,10):\n",
    "            print(f'{i} x {j} = {i*j}')\n",
    "if choice == 3:\n",
    "    first=int(input())\n",
    "    last=int(input())\n",
    "    if last >= first:\n",
    "        for i in range(first,last+1):\n",
    "            print(f'=== {i}단 ===')\n",
    "            for j in range(1,10):\n",
    "                print(f'{i} x {j} = {i*j}')\n",
    "    if first > last:\n",
    "        for i in range(last,first+1):\n",
    "            print(f'=== {i}단 ===')\n",
    "            for j in range(1,10):\n",
    "                print(f'{i} x {j} = {i*j}')\n",
    "else: print('종료')\n",
    "\n",
    "### While쓰는게 나은 문제"
   ]
  },
  {
   "cell_type": "markdown",
   "id": "17f4cc82",
   "metadata": {},
   "source": [
    "### print formatting\n",
    "- 1. f.string\n",
    "    - f, F 둘 다 가능\n",
    "    - f'{var}'\n",
    "- 2. format\n",
    "    -'{}'.format{var}\n",
    "- 3. %\n",
    "    - '%type' %var\n",
    "- print('a', 'b'..) 금지"
   ]
  },
  {
   "cell_type": "code",
   "execution_count": 25,
   "id": "b77c9495",
   "metadata": {},
   "outputs": [
    {
     "name": "stdout",
     "output_type": "stream",
     "text": [
      "나의 이름은lee\n",
      "나의 이름은 lee\n"
     ]
    }
   ],
   "source": [
    "name='lee'\n",
    "print(f'나의 이름은 {name}')\n",
    "print('나의 이름은 {}'.format(name))\n",
    "print('나의 이름은 %s입니다' %name)"
   ]
  },
  {
   "cell_type": "code",
   "execution_count": null,
   "id": "f01c8bba",
   "metadata": {},
   "outputs": [],
   "source": [
    "### NLTK Corpus\n",
    "- 다양한 종류 코퍼스\n",
    "- 더 다양한 언어분석 가능\n",
    "- 종류\n",
    "    - gutenberg\n",
    "    - "
   ]
  },
  {
   "cell_type": "code",
   "execution_count": 9,
   "id": "537eae19",
   "metadata": {},
   "outputs": [
    {
     "data": {
      "text/plain": [
       "True"
      ]
     },
     "execution_count": 9,
     "metadata": {},
     "output_type": "execute_result"
    }
   ],
   "source": [
    "import nltk\n",
    "from nltk.corpus import gutenberg\n",
    "nltk.download('gutenberg', quiet=True)"
   ]
  },
  {
   "cell_type": "code",
   "execution_count": 14,
   "id": "5a42d22c",
   "metadata": {},
   "outputs": [
    {
     "data": {
      "text/plain": [
       "['[', 'Emma', 'by', 'Jane', 'Austen', '1816', ']', ...]"
      ]
     },
     "execution_count": 14,
     "metadata": {},
     "output_type": "execute_result"
    }
   ],
   "source": [
    "gutenberg.words()"
   ]
  },
  {
   "cell_type": "code",
   "execution_count": 15,
   "id": "5d1048c2",
   "metadata": {},
   "outputs": [
    {
     "data": {
      "text/plain": [
       "['austen-emma.txt',\n",
       " 'austen-persuasion.txt',\n",
       " 'austen-sense.txt',\n",
       " 'bible-kjv.txt',\n",
       " 'blake-poems.txt',\n",
       " 'bryant-stories.txt',\n",
       " 'burgess-busterbrown.txt',\n",
       " 'carroll-alice.txt',\n",
       " 'chesterton-ball.txt',\n",
       " 'chesterton-brown.txt',\n",
       " 'chesterton-thursday.txt',\n",
       " 'edgeworth-parents.txt',\n",
       " 'melville-moby_dick.txt',\n",
       " 'milton-paradise.txt',\n",
       " 'shakespeare-caesar.txt',\n",
       " 'shakespeare-hamlet.txt',\n",
       " 'shakespeare-macbeth.txt',\n",
       " 'whitman-leaves.txt']"
      ]
     },
     "execution_count": 15,
     "metadata": {},
     "output_type": "execute_result"
    }
   ],
   "source": [
    "gutenberg.fileids()"
   ]
  },
  {
   "cell_type": "code",
   "execution_count": 17,
   "id": "a5b92808",
   "metadata": {},
   "outputs": [
    {
     "name": "stdout",
     "output_type": "stream",
     "text": [
      "austen-emma.txt | 글자수=192427개, 단어 수=7752개, 문장 수=887071개\n",
      "austen-persuasion.txt | 글자수=98171개, 단어 수=3747개, 문장 수=466292개\n",
      "austen-sense.txt | 글자수=141576개, 단어 수=4999개, 문장 수=673022개\n",
      "bible-kjv.txt | 글자수=1010654개, 단어 수=30103개, 문장 수=4332554개\n",
      "blake-poems.txt | 글자수=8354개, 단어 수=438개, 문장 수=38153개\n",
      "bryant-stories.txt | 글자수=55563개, 단어 수=2863개, 문장 수=249439개\n",
      "burgess-busterbrown.txt | 글자수=18963개, 단어 수=1054개, 문장 수=84663개\n",
      "carroll-alice.txt | 글자수=34110개, 단어 수=1703개, 문장 수=144395개\n",
      "chesterton-ball.txt | 글자수=96996개, 단어 수=4779개, 문장 수=457450개\n",
      "chesterton-brown.txt | 글자수=86063개, 단어 수=3806개, 문장 수=406629개\n",
      "chesterton-thursday.txt | 글자수=69213개, 단어 수=3742개, 문장 수=320525개\n",
      "edgeworth-parents.txt | 글자수=210663개, 단어 수=10230개, 문장 수=935158개\n",
      "melville-moby_dick.txt | 글자수=260819개, 단어 수=10059개, 문장 수=1242990개\n",
      "milton-paradise.txt | 글자수=96825개, 단어 수=1851개, 문장 수=468220개\n",
      "shakespeare-caesar.txt | 글자수=25833개, 단어 수=2163개, 문장 수=112310개\n",
      "shakespeare-hamlet.txt | 글자수=37360개, 단어 수=3106개, 문장 수=162881개\n",
      "shakespeare-macbeth.txt | 글자수=23140개, 단어 수=1907개, 문장 수=100351개\n",
      "whitman-leaves.txt | 글자수=154883개, 단어 수=4250개, 문장 수=711215개\n"
     ]
    }
   ],
   "source": [
    "# 구텐버그 파일 돌아가며 글자수 단어수 문장수 출력wor\n",
    "txt = gutenberg.words(['austen-emma.txt'])\n",
    "for txt in gutenberg.fileids():\n",
    "    words = len(gutenberg.words(fileids=txt))\n",
    "    sents = len(gutenberg.sents(fileids=txt))\n",
    "    raw = len(gutenberg.raw(fileids=txt))\n",
    "    print(f'{txt} | 글자수={words}개, 단어 수={sents}개, 문장 수={raw}개')"
   ]
  },
  {
   "cell_type": "code",
   "execution_count": 19,
   "id": "40e7ea86",
   "metadata": {},
   "outputs": [],
   "source": [
    "corpus1 = gutenberg.words(fileids='whitman-leaves.txt')\n",
    "fdist=nltk.FreqDist([w.lower for w in corpus1])"
   ]
  },
  {
   "cell_type": "code",
   "execution_count": 20,
   "id": "acab0948",
   "metadata": {},
   "outputs": [
    {
     "name": "stderr",
     "output_type": "stream",
     "text": [
      "[nltk_data] Downloading package brown to\n",
      "[nltk_data]     C:\\Users\\USER\\AppData\\Roaming\\nltk_data...\n",
      "[nltk_data]   Package brown is already up-to-date!\n"
     ]
    }
   ],
   "source": [
    "nltk.download('brown')\n",
    "brown_corpus=nltk.corpus.brown"
   ]
  },
  {
   "cell_type": "code",
   "execution_count": 76,
   "id": "a6691c14",
   "metadata": {},
   "outputs": [
    {
     "data": {
      "text/plain": [
       "['adventure',\n",
       " 'belles_lettres',\n",
       " 'editorial',\n",
       " 'fiction',\n",
       " 'government',\n",
       " 'hobbies',\n",
       " 'humor',\n",
       " 'learned',\n",
       " 'lore',\n",
       " 'mystery',\n",
       " 'news',\n",
       " 'religion',\n",
       " 'reviews',\n",
       " 'romance',\n",
       " 'science_fiction']"
      ]
     },
     "execution_count": 76,
     "metadata": {},
     "output_type": "execute_result"
    }
   ],
   "source": [
    "brown_corpus.categories()"
   ]
  },
  {
   "cell_type": "code",
   "execution_count": 21,
   "id": "472b2033",
   "metadata": {},
   "outputs": [
    {
     "data": {
      "text/plain": [
       "['It', 'was', 'among', 'these', 'that', 'Hinkle', ...]"
      ]
     },
     "execution_count": 21,
     "metadata": {},
     "output_type": "execute_result"
    }
   ],
   "source": [
    "brown_corpus.words(categories='humor')"
   ]
  },
  {
   "cell_type": "code",
   "execution_count": 35,
   "id": "4c3fe30f",
   "metadata": {},
   "outputs": [
    {
     "name": "stdout",
     "output_type": "stream",
     "text": [
      "can 0\n",
      "could 0\n",
      "may 0\n",
      "might 0\n",
      "will 0\n",
      "would 0\n"
     ]
    }
   ],
   "source": [
    "modals = ['can', 'could', 'may', 'might','will','would']\n",
    "\n",
    "for verb in modals:\n",
    "    print(verb, fdist[verb])\n",
    "    \n",
    "### ??뭔가 이상"
   ]
  },
  {
   "cell_type": "code",
   "execution_count": 81,
   "id": "100a1bc3",
   "metadata": {},
   "outputs": [],
   "source": [
    "#cfd 조건이붙은 fdist"
   ]
  },
  {
   "cell_type": "code",
   "execution_count": 26,
   "id": "7875c751",
   "metadata": {},
   "outputs": [],
   "source": [
    "cfd = nltk.ConditionalFreqDist(\n",
    "    (genre, word.lower())\n",
    "    for genre in brown_corpus.categories()\n",
    "    for word in brown_corpus.words(categories=genre)\n",
    ")"
   ]
  },
  {
   "cell_type": "code",
   "execution_count": 29,
   "id": "50342998",
   "metadata": {},
   "outputs": [
    {
     "data": {
      "text/plain": [
       "36"
      ]
     },
     "execution_count": 29,
     "metadata": {},
     "output_type": "execute_result"
    }
   ],
   "source": [
    "cfd['romance']['love']"
   ]
  },
  {
   "cell_type": "code",
   "execution_count": null,
   "id": "ff0f3f88",
   "metadata": {},
   "outputs": [],
   "source": []
  }
 ],
 "metadata": {
  "kernelspec": {
   "display_name": "Python 3 (ipykernel)",
   "language": "python",
   "name": "python3"
  },
  "language_info": {
   "codemirror_mode": {
    "name": "ipython",
    "version": 3
   },
   "file_extension": ".py",
   "mimetype": "text/x-python",
   "name": "python",
   "nbconvert_exporter": "python",
   "pygments_lexer": "ipython3",
   "version": "3.9.7"
  }
 },
 "nbformat": 4,
 "nbformat_minor": 5
}
