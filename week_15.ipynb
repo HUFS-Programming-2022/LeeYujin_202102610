{
 "cells": [
  {
   "cell_type": "markdown",
   "id": "adf24b66",
   "metadata": {},
   "source": [
    "### 파일과 디렉터리\n",
    "- 파일: 컴퓨터 소환할때 가장 기본 단위\n",
    "- 디렉터리: 폴더, 파일을 논리적으로 묶어놓은 단위\n",
    "    - 지파구리: a, b,..\n",
    "- 파일 = 파일명 + 확장자(.txt, cvs,,)\n",
    "- 바이너리, 텍스트\n",
    "    - 바이너리: 엑셀, 워드,,\n",
    "    - 텍스트: 바이너리 => 문자로 변환\n",
    "        - 메모장, 파이썬, html..\n",
    "        - 기준: 아스키코드, 유니코드 제정(\"인코딩\")\n",
    "        - utf-8\n",
    "        - cp494\n",
    "- f = open(파일명, 모드)\n",
    "    - r ; read(default)\n",
    "    - w : write(없으면 새로 만들고 잇으면 덮어씀)\n",
    "    - a : add(기존 파일에 마지막에 추가)\n",
    "    - x : write(없을때만 쓸수잇게)\n",
    "    \n",
    "    - b :\n",
    "    - t : 디폴트값 텍스트\n",
    "        - rb, rt.."
   ]
  },
  {
   "cell_type": "code",
   "execution_count": 1,
   "id": "a6a7f453",
   "metadata": {},
   "outputs": [
    {
     "ename": "FileNotFoundError",
     "evalue": "[Errno 2] No such file or directory: 'test.txt'",
     "output_type": "error",
     "traceback": [
      "\u001b[1;31m---------------------------------------------------------------------------\u001b[0m",
      "\u001b[1;31mFileNotFoundError\u001b[0m                         Traceback (most recent call last)",
      "\u001b[1;32mC:\\Users\\Public\\Documents\\ESTsoft\\CreatorTemp/ipykernel_14072/195795528.py\u001b[0m in \u001b[0;36m<module>\u001b[1;34m\u001b[0m\n\u001b[1;32m----> 1\u001b[1;33m \u001b[0mf\u001b[0m \u001b[1;33m=\u001b[0m \u001b[0mopen\u001b[0m\u001b[1;33m(\u001b[0m\u001b[1;34m'test.txt'\u001b[0m\u001b[1;33m,\u001b[0m \u001b[1;34m'r'\u001b[0m\u001b[1;33m)\u001b[0m\u001b[1;33m\u001b[0m\u001b[1;33m\u001b[0m\u001b[0m\n\u001b[0m\u001b[0;32m      2\u001b[0m \u001b[0mf\u001b[0m\u001b[1;33m\u001b[0m\u001b[1;33m\u001b[0m\u001b[0m\n",
      "\u001b[1;31mFileNotFoundError\u001b[0m: [Errno 2] No such file or directory: 'test.txt'"
     ]
    }
   ],
   "source": [
    "f = open('test.txt', 'r')\n",
    "f.read(5)"
   ]
  },
  {
   "cell_type": "code",
   "execution_count": 1,
   "id": "a391f00f",
   "metadata": {},
   "outputs": [
    {
     "ename": "NameError",
     "evalue": "name 'f' is not defined",
     "output_type": "error",
     "traceback": [
      "\u001b[1;31m---------------------------------------------------------------------------\u001b[0m",
      "\u001b[1;31mNameError\u001b[0m                                 Traceback (most recent call last)",
      "\u001b[1;32mC:\\Users\\Public\\Documents\\ESTsoft\\CreatorTemp/ipykernel_13692/351509853.py\u001b[0m in \u001b[0;36m<module>\u001b[1;34m\u001b[0m\n\u001b[1;32m----> 1\u001b[1;33m \u001b[0mf\u001b[0m\u001b[1;33m.\u001b[0m\u001b[0mread\u001b[0m\u001b[1;33m(\u001b[0m\u001b[1;36m5\u001b[0m\u001b[1;33m)\u001b[0m \u001b[1;31m#그다음 5개\u001b[0m\u001b[1;33m\u001b[0m\u001b[1;33m\u001b[0m\u001b[0m\n\u001b[0m",
      "\u001b[1;31mNameError\u001b[0m: name 'f' is not defined"
     ]
    }
   ],
   "source": [
    "f.read(5) #그다음 5개"
   ]
  },
  {
   "cell_type": "code",
   "execution_count": null,
   "id": "949b7bd8",
   "metadata": {},
   "outputs": [],
   "source": [
    "f.close() #다른 프로그램에서 동시 호출하면 에러남"
   ]
  },
  {
   "cell_type": "markdown",
   "id": "a50bcb1b",
   "metadata": {},
   "source": [
    "with open(파일, 모드) as f:\n",
    "    .... open 함수 기능이 유지되는 블록\n",
    "    \n",
    "자원 해제됨(자동)"
   ]
  },
  {
   "cell_type": "code",
   "execution_count": null,
   "id": "cd0f8c4b",
   "metadata": {},
   "outputs": [],
   "source": [
    "with open('test.txt', 'r') as f:\n",
    "    data=f.readlines()\n",
    "    #텍스트정ㅈ제\n",
    "    data = [line.strip() for line in data]\n",
    "    \n",
    "data"
   ]
  },
  {
   "cell_type": "code",
   "execution_count": null,
   "id": "ebe9e02a",
   "metadata": {},
   "outputs": [],
   "source": [
    "file = '../text2.txt'\n",
    "\n",
    "with open(line) as f:\n",
    "    f.read()\n",
    "    \n",
    "#자리에 없어서 오류"
   ]
  },
  {
   "cell_type": "code",
   "execution_count": null,
   "id": "b9aa1026",
   "metadata": {},
   "outputs": [],
   "source": [
    "# . 현재위치\n",
    "# .. 상위 디렉터리\n",
    "!pwd"
   ]
  },
  {
   "cell_type": "code",
   "execution_count": null,
   "id": "33e1515f",
   "metadata": {},
   "outputs": [],
   "source": [
    "file = 'text3.txt'\n",
    "\n",
    "f=open(file, 'w', encoding='utf-8')"
   ]
  },
  {
   "cell_type": "code",
   "execution_count": null,
   "id": "3762c889",
   "metadata": {},
   "outputs": [],
   "source": [
    "for i in range(10):\n",
    "    data = f'{i}번째 줄입니다.\\n'\n",
    "    f.write(data)"
   ]
  },
  {
   "cell_type": "code",
   "execution_count": null,
   "id": "b7efb837",
   "metadata": {},
   "outputs": [],
   "source": [
    "f.close()"
   ]
  },
  {
   "cell_type": "code",
   "execution_count": null,
   "id": "e81efe75",
   "metadata": {},
   "outputs": [],
   "source": [
    "f = open(file, 'a')\n",
    "print('새로운 줄 추가', file=f) #프린트에서도 간단히 추가 가능"
   ]
  },
  {
   "cell_type": "code",
   "execution_count": null,
   "id": "03fe6904",
   "metadata": {},
   "outputs": [],
   "source": [
    "f.close()"
   ]
  },
  {
   "cell_type": "markdown",
   "id": "31e765b3",
   "metadata": {},
   "source": [
    "### 다른 디렉토리에 파일쓰기\n",
    "os "
   ]
  },
  {
   "cell_type": "code",
   "execution_count": 2,
   "id": "71197d4c",
   "metadata": {},
   "outputs": [],
   "source": [
    "import os"
   ]
  },
  {
   "cell_type": "code",
   "execution_count": null,
   "id": "6055d655",
   "metadata": {},
   "outputs": [],
   "source": [
    "file = './folder1/text3.txt'\n",
    "f = open(file, 'w', encoding='utf-8')"
   ]
  },
  {
   "cell_type": "code",
   "execution_count": null,
   "id": "21d4cf05",
   "metadata": {},
   "outputs": [],
   "source": [
    "#폴더 만들고\n",
    "os.mkdir('folder1')\n",
    "#파일쓰기"
   ]
  },
  {
   "cell_type": "code",
   "execution_count": null,
   "id": "a00bcaea",
   "metadata": {},
   "outputs": [],
   "source": [
    "#없으면 만들어라\n",
    "if not os.path.isdir('folder1'):\n",
    "    os.mkdir('folder1')"
   ]
  },
  {
   "cell_type": "code",
   "execution_count": null,
   "id": "6b0ac2b8",
   "metadata": {},
   "outputs": [],
   "source": [
    "os.path.exists(file)"
   ]
  },
  {
   "cell_type": "code",
   "execution_count": null,
   "id": "6cc03307",
   "metadata": {},
   "outputs": [],
   "source": [
    "os.remove(file)\n",
    "os.radir(dir_name)"
   ]
  },
  {
   "cell_type": "code",
   "execution_count": null,
   "id": "83be5938",
   "metadata": {},
   "outputs": [],
   "source": [
    "import shutil\n",
    "shutil.rmtree('folder1')"
   ]
  },
  {
   "cell_type": "code",
   "execution_count": null,
   "id": "e821f022",
   "metadata": {},
   "outputs": [],
   "source": [
    "#상위폴터에 쓰곳ㅍ다\n",
    "os.getcwd()"
   ]
  },
  {
   "cell_type": "code",
   "execution_count": null,
   "id": "0e7c9383",
   "metadata": {},
   "outputs": [],
   "source": [
    "os.chdir('..')"
   ]
  },
  {
   "cell_type": "code",
   "execution_count": 5,
   "id": "39d33fb7",
   "metadata": {},
   "outputs": [],
   "source": [
    "#객체를 저장 불러들일수잇다\n",
    "import pickle\n",
    "f = open('test.pickle', 'wb')\n",
    "pickle.dump(num, f)\n",
    "f.close()"
   ]
  },
  {
   "cell_type": "code",
   "execution_count": null,
   "id": "a62322d8",
   "metadata": {},
   "outputs": [],
   "source": [
    "- 저장 pickle.dump(변수, 파일명)\n",
    "- 열떄 변수명 = pickle.load(파일)"
   ]
  },
  {
   "cell_type": "code",
   "execution_count": 6,
   "id": "4ce64108",
   "metadata": {},
   "outputs": [
    {
     "data": {
      "text/plain": [
       "[0, 1, 2, 3, 4, 5, 6, 7, 8, 9]"
      ]
     },
     "execution_count": 6,
     "metadata": {},
     "output_type": "execute_result"
    }
   ],
   "source": [
    "num = list(range(10))\n",
    "num"
   ]
  },
  {
   "cell_type": "code",
   "execution_count": 7,
   "id": "7d9a7ec0",
   "metadata": {},
   "outputs": [],
   "source": [
    "with open('test.pickle', 'rb') as f:\n",
    "    number = pickle.load(f)"
   ]
  },
  {
   "cell_type": "code",
   "execution_count": 8,
   "id": "834e5aab",
   "metadata": {},
   "outputs": [
    {
     "data": {
      "text/plain": [
       "[0, 1, 2, 3, 4, 5, 6, 7, 8, 9]"
      ]
     },
     "execution_count": 8,
     "metadata": {},
     "output_type": "execute_result"
    }
   ],
   "source": [
    "number"
   ]
  },
  {
   "cell_type": "code",
   "execution_count": null,
   "id": "03d34920",
   "metadata": {},
   "outputs": [],
   "source": []
  }
 ],
 "metadata": {
  "kernelspec": {
   "display_name": "Python 3 (ipykernel)",
   "language": "python",
   "name": "python3"
  },
  "language_info": {
   "codemirror_mode": {
    "name": "ipython",
    "version": 3
   },
   "file_extension": ".py",
   "mimetype": "text/x-python",
   "name": "python",
   "nbconvert_exporter": "python",
   "pygments_lexer": "ipython3",
   "version": "3.9.7"
  }
 },
 "nbformat": 4,
 "nbformat_minor": 5
}
