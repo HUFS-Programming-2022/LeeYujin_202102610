{
 "cells": [
  {
   "cell_type": "markdown",
   "id": "e51c155d",
   "metadata": {},
   "source": [
    "## 종합조건문\n",
    "- nested conditional\n",
    "- if 블록 안에 또 다른 if 블록이 있는 경우\n",
    "- 들여쓰기로 논리 구분"
   ]
  },
  {
   "cell_type": "code",
   "execution_count": 22,
   "id": "b840da42",
   "metadata": {},
   "outputs": [
    {
     "name": "stdout",
     "output_type": "stream",
     "text": [
      "Block B\n"
     ]
    }
   ],
   "source": [
    "x = 0\n",
    "y = 1\n",
    "if x == y:\n",
    "    print(\"Block A\")\n",
    "else:\n",
    "    if x < y:\n",
    "        print(\"Block B\")\n",
    "    else:\n",
    "        print(\"Block C\")\n",
    "# 안 좋은 예"
   ]
  },
  {
   "cell_type": "code",
   "execution_count": 23,
   "id": "d40f75e3",
   "metadata": {},
   "outputs": [
    {
     "name": "stdout",
     "output_type": "stream",
     "text": [
      "Block C\n"
     ]
    }
   ],
   "source": [
    "if x > 0:\n",
    "    if x < 10:\n",
    "        print(\"Block A\")\n",
    "    else:\n",
    "        print(\"Block B\")\n",
    "else:\n",
    "    print(\"Block C\")\n",
    "\n",
    "# 0 < x < 10"
   ]
  },
  {
   "cell_type": "code",
   "execution_count": 24,
   "id": "476b750f",
   "metadata": {},
   "outputs": [
    {
     "ename": "IndentationError",
     "evalue": "expected an indented block (CreatorTemp/ipykernel_6900/3915983804.py, line 3)",
     "output_type": "error",
     "traceback": [
      "\u001b[1;36m  File \u001b[1;32m\"C:\\Users\\Public\\Documents\\ESTsoft\\CreatorTemp/ipykernel_6900/3915983804.py\"\u001b[1;36m, line \u001b[1;32m3\u001b[0m\n\u001b[1;33m    elif x < y:\u001b[0m\n\u001b[1;37m    ^\u001b[0m\n\u001b[1;31mIndentationError\u001b[0m\u001b[1;31m:\u001b[0m expected an indented block\n"
     ]
    }
   ],
   "source": [
    "if x == y:\n",
    "    #block a\n",
    "elif x < y:\n",
    "    #block b\n",
    "else:\n",
    "    #block c"
   ]
  },
  {
   "cell_type": "code",
   "execution_count": null,
   "id": "62c4cc7e",
   "metadata": {},
   "outputs": [],
   "source": [
    "# 방법1\n",
    "if (x > 0) and (x < 10): #논리 연산지\n",
    "    # block a\n",
    "else:\n",
    "    # block b\n",
    "\n",
    "# 방법2\n",
    "if 0 < x < 10:\n",
    "    #block a\n",
    "else:\n",
    "    #block b"
   ]
  },
  {
   "cell_type": "markdown",
   "id": "f400a79a",
   "metadata": {},
   "source": [
    "### 논리연산자\n",
    "- 비교 연산자가 여러번 사용될때 사용\n",
    "- and, or, not\n",
    "    - A and B: A도 B도 참일 때 True\n",
    "        - 예: A & B\n",
    "    - A or B: A 혹 B. 둘 중 하나만 참이면 T\n",
    "        - 예: A | B\n",
    "    - not A: A가 F -> T, T -> F\n",
    "- 비교연산자의 괄호는 가독성위해(optional)\n",
    "- 파이썬에서만 가능한 표현: 0 < x < 10"
   ]
  },
  {
   "cell_type": "markdown",
   "id": "c9136793",
   "metadata": {},
   "source": [
    "### True, False\n",
    "- \"만약\"\n",
    "- a = True"
   ]
  },
  {
   "cell_type": "code",
   "execution_count": 25,
   "id": "d2697c56",
   "metadata": {},
   "outputs": [
    {
     "ename": "NameError",
     "evalue": "name 'a' is not defined",
     "output_type": "error",
     "traceback": [
      "\u001b[1;31m---------------------------------------------------------------------------\u001b[0m",
      "\u001b[1;31mNameError\u001b[0m                                 Traceback (most recent call last)",
      "\u001b[1;32mC:\\Users\\Public\\Documents\\ESTsoft\\CreatorTemp/ipykernel_6900/522567310.py\u001b[0m in \u001b[0;36m<module>\u001b[1;34m\u001b[0m\n\u001b[1;32m----> 1\u001b[1;33m \u001b[1;32mif\u001b[0m \u001b[0ma\u001b[0m \u001b[1;33m==\u001b[0m \u001b[1;32mTrue\u001b[0m\u001b[1;33m:\u001b[0m\u001b[1;33m\u001b[0m\u001b[1;33m\u001b[0m\u001b[0m\n\u001b[0m\u001b[0;32m      2\u001b[0m     \u001b[0mprint\u001b[0m\u001b[1;33m(\u001b[0m\u001b[1;33m)\u001b[0m \u001b[1;31m#틀림\u001b[0m\u001b[1;33m\u001b[0m\u001b[1;33m\u001b[0m\u001b[0m\n\u001b[0;32m      3\u001b[0m \u001b[1;33m\u001b[0m\u001b[0m\n\u001b[0;32m      4\u001b[0m \u001b[1;32mif\u001b[0m \u001b[0ma\u001b[0m\u001b[1;33m:\u001b[0m\u001b[1;33m\u001b[0m\u001b[1;33m\u001b[0m\u001b[0m\n\u001b[0;32m      5\u001b[0m     \u001b[0mprint\u001b[0m\u001b[1;33m(\u001b[0m\u001b[1;33m)\u001b[0m\u001b[1;33m\u001b[0m\u001b[1;33m\u001b[0m\u001b[0m\n",
      "\u001b[1;31mNameError\u001b[0m: name 'a' is not defined"
     ]
    }
   ],
   "source": [
    "if a == True:\n",
    "    print() #틀림\n",
    "\n",
    "if a:\n",
    "    print()"
   ]
  },
  {
   "cell_type": "markdown",
   "id": "245401b8",
   "metadata": {},
   "source": [
    "### in\n",
    "- membership operator\n",
    "- 어떤 요소가 그 안에 있는지 확인하고 싶다\n",
    "- 비슷한 조건이 여러번 반복될 때 사용"
   ]
  },
  {
   "cell_type": "code",
   "execution_count": 27,
   "id": "36631b9c",
   "metadata": {},
   "outputs": [
    {
     "name": "stdout",
     "output_type": "stream",
     "text": [
      "No\n"
     ]
    }
   ],
   "source": [
    "letter = 'k'\n",
    "# letter에 모음이 있는지 확인하고 싶다: a, e, i, o ,u\n",
    "# if letter == 'a' or letter == 'e' ...\n",
    "\n",
    "if letter in ['a', 'e', 'i', 'o', 'u']: #리스트 요소에 letter와 일치하는 것이 있나\n",
    "    print('Yes')\n",
    "else:\n",
    "    print(\"No\")"
   ]
  },
  {
   "cell_type": "code",
   "execution_count": 30,
   "id": "7c55117d",
   "metadata": {},
   "outputs": [
    {
     "name": "stdout",
     "output_type": "stream",
     "text": [
      "Yes\n"
     ]
    }
   ],
   "source": [
    "word = 'abcde'\n",
    "\n",
    "# word에 모음 있는지 확인\n",
    "if 'a' or 'e' or 'i' or 'u' in word:\n",
    "    print(\"Yes\")\n",
    "else: \n",
    "    print(\"no\")"
   ]
  },
  {
   "cell_type": "markdown",
   "id": "8aaef6d4",
   "metadata": {},
   "source": [
    "### 바다코끼리 연산자\n",
    "- walrus operator\n",
    "- 할당과 테스트 동시에 하는 기능\n",
    "- :="
   ]
  },
  {
   "cell_type": "code",
   "execution_count": 31,
   "id": "761e0305",
   "metadata": {},
   "outputs": [
    {
     "data": {
      "text/plain": [
       "'blahblahblahblahblahblahblahblahblahblahblahblahblahblahblahblahblahblahblahblahblahblahblahblahblahblahblahblahblahblahblahblahblahblahblahblahblahblahblahblahblahblahblahblahblahblahblahblahblahblah'"
      ]
     },
     "execution_count": 31,
     "metadata": {},
     "output_type": "execute_result"
    }
   ],
   "source": [
    "tweet_limit = 200\n",
    "tweet_string = 'blah' * 50\n",
    "tweet_string"
   ]
  },
  {
   "cell_type": "code",
   "execution_count": 32,
   "id": "9119de06",
   "metadata": {},
   "outputs": [
    {
     "name": "stdout",
     "output_type": "stream",
     "text": [
      "불가능\n"
     ]
    }
   ],
   "source": [
    "diff = tweet_limit - len(tweet_string)\n",
    "if diff > 0:\n",
    "    print(\"가능\")\n",
    "else: print(\"불가능\")"
   ]
  },
  {
   "cell_type": "code",
   "execution_count": 38,
   "id": "ac9eef27",
   "metadata": {},
   "outputs": [],
   "source": [
    "if diff:= tweet_limit - len(tweet_string) > 0:\n",
    "        print('가능')"
   ]
  },
  {
   "cell_type": "markdown",
   "id": "cfa0025e",
   "metadata": {},
   "source": [
    "### Quiz\n",
    "- 윤년을 구하는 코드\n",
    "    - 연도가 4로 나눠떨어지면 윤년\n",
    "    - 100으로 나눠떨어지면 안됨\n",
    "    - 400으로 나눠떨어지면 된다\n",
    "    \n",
    "- year를 입력받는다.\n",
    "- 출력 ='xxx년은 윤년입니다' / 'xxx년은 윤년이 아닙니다'"
   ]
  },
  {
   "cell_type": "code",
   "execution_count": 41,
   "id": "a82626c5",
   "metadata": {},
   "outputs": [
    {
     "name": "stdout",
     "output_type": "stream",
     "text": [
      "2022\n",
      "2022년은 윤년이 아닙니다\n"
     ]
    }
   ],
   "source": [
    "year = int(input())\n",
    "if year%4 == 0 and year%100 != 0 or year%400 ==0:\n",
    "    print(f'{year}년은 윤년입니다')\n",
    "else: print(f'{year}년은 윤년이 아닙니다')"
   ]
  },
  {
   "cell_type": "markdown",
   "id": "3fdaac60",
   "metadata": {},
   "source": [
    "## Ch.05"
   ]
  },
  {
   "cell_type": "markdown",
   "id": "9bff9e77",
   "metadata": {},
   "source": [
    "### string | 문자열\n",
    "- str type\n",
    "- 시스템에서 가장 작은 단위\n",
    "- 불변적 성격 가짐 (immutable)\n",
    "    - 'abcd' -> b -> a 바꿀수없다\n",
    "- 문버비 '', \"\" 감싸면 모두 문자열\n",
    "    - 예: '24'\n",
    "- ''' or \"\"\" => 주석\n",
    "- 형 변환은 str()\n",
    "\n",
    "### Escape character | 이스케이프 문자\n",
    "- 눈에 보이는 대로 인식되지않는 문자열\n",
    "- 문법: \\+<charater>\n",
    "- \\n, \\t, \\b, \\\n",
    "- print() 함수 쓰지않으면 형태가 출력은 됨\n",
    "- '\\n' 출력은 어떻게?\n",
    "    - \\\\n\n",
    "    - r'' (raw string)\n",
    "- 문자열을 바꾸는 것이 아닌 표면상 형태를 말하는 것"
   ]
  },
  {
   "cell_type": "code",
   "execution_count": 5,
   "id": "c24048c6",
   "metadata": {},
   "outputs": [
    {
     "name": "stdout",
     "output_type": "stream",
     "text": [
      "hello\bworld I'm a boy\n"
     ]
    }
   ],
   "source": [
    "print(\"hello\\bworld I\\'m a boy\")"
   ]
  },
  {
   "cell_type": "code",
   "execution_count": 47,
   "id": "559cbad0",
   "metadata": {},
   "outputs": [],
   "source": [
    "sent = 'hello\\tworld I\\'m a boy'"
   ]
  },
  {
   "cell_type": "code",
   "execution_count": 48,
   "id": "2360718a",
   "metadata": {},
   "outputs": [
    {
     "data": {
      "text/plain": [
       "\"hello\\tworld I'm a boy\""
      ]
     },
     "execution_count": 48,
     "metadata": {},
     "output_type": "execute_result"
    }
   ],
   "source": [
    "sent"
   ]
  },
  {
   "cell_type": "markdown",
   "id": "f871c00c",
   "metadata": {},
   "source": [
    "### 연산\n",
    "- coneatenation (+)\n",
    "    - \"+\"=> 붙이기\n",
    "- 복제(*)\n",
    "    - ''*4=> 4번반복"
   ]
  },
  {
   "cell_type": "code",
   "execution_count": 50,
   "id": "7e3ce430",
   "metadata": {},
   "outputs": [
    {
     "data": {
      "text/plain": [
       "'brainbrain'"
      ]
     },
     "execution_count": 50,
     "metadata": {},
     "output_type": "execute_result"
    }
   ],
   "source": [
    "word = 'brain'\n",
    "word + word"
   ]
  },
  {
   "cell_type": "code",
   "execution_count": 51,
   "id": "1e8a3119",
   "metadata": {},
   "outputs": [
    {
     "data": {
      "text/plain": [
       "'brainbrainbrainbrain'"
      ]
     },
     "execution_count": 51,
     "metadata": {},
     "output_type": "execute_result"
    }
   ],
   "source": [
    "word*4"
   ]
  },
  {
   "cell_type": "code",
   "execution_count": 52,
   "id": "693884ca",
   "metadata": {},
   "outputs": [
    {
     "data": {
      "text/plain": [
       "'My name isJake'"
      ]
     },
     "execution_count": 52,
     "metadata": {},
     "output_type": "execute_result"
    }
   ],
   "source": [
    "\"My name is\"+ \"Jake\""
   ]
  },
  {
   "cell_type": "markdown",
   "id": "7e29d5ea",
   "metadata": {},
   "source": [
    "### slicing\n",
    "- 지정 범위의 문자열 추출\n",
    "- 문법: 대괄호 + 오프셋 이용 [<offset>]\n",
    "    - [start:end:step]\n",
    "- 오프셋 0부터 시작\n",
    "- start 포함, end 불포함(크거나 같고, 작다)\n",
    "- 0일 경우 생략\n",
    "    - 예: ~4까지 출력 => [:5]\n",
    "    - 처음부터 끝까지 2스텝쎅 => [::2]\n",
    "    - 처음부터 끝까지 역순 => [::-1]\n",
    "- 오프셋은 거꾸로도 가능\n",
    "    - 0, 1, 2,,,\n",
    "    - h  e  l  l  o\n",
    "    - -5 _  _  _-1"
   ]
  },
  {
   "cell_type": "code",
   "execution_count": 54,
   "id": "00323c55",
   "metadata": {},
   "outputs": [
    {
     "data": {
      "text/plain": [
       "(\"hello\\tworld I'm a boy\", 'e')"
      ]
     },
     "execution_count": 54,
     "metadata": {},
     "output_type": "execute_result"
    }
   ],
   "source": [
    "sent, sent[1] #2번쨰 글자"
   ]
  },
  {
   "cell_type": "code",
   "execution_count": 55,
   "id": "5374344f",
   "metadata": {},
   "outputs": [
    {
     "data": {
      "text/plain": [
       "'l'"
      ]
     },
     "execution_count": 55,
     "metadata": {},
     "output_type": "execute_result"
    }
   ],
   "source": [
    "sent[3:4] #3민나옴"
   ]
  },
  {
   "cell_type": "code",
   "execution_count": 60,
   "id": "2a68c05b",
   "metadata": {},
   "outputs": [
    {
     "data": {
      "text/plain": [
       "'hello'"
      ]
     },
     "execution_count": 60,
     "metadata": {},
     "output_type": "execute_result"
    }
   ],
   "source": [
    "sent[0:5]"
   ]
  },
  {
   "cell_type": "code",
   "execution_count": 61,
   "id": "1874e7f1",
   "metadata": {},
   "outputs": [
    {
     "data": {
      "text/plain": [
       "11"
      ]
     },
     "execution_count": 61,
     "metadata": {},
     "output_type": "execute_result"
    }
   ],
   "source": [
    "sent2 = 'hello world'\n",
    "len(sent2) #길이(공백까지 포함)"
   ]
  },
  {
   "cell_type": "code",
   "execution_count": 62,
   "id": "a47512da",
   "metadata": {},
   "outputs": [
    {
     "data": {
      "text/plain": [
       "'hlowrd'"
      ]
     },
     "execution_count": 62,
     "metadata": {},
     "output_type": "execute_result"
    }
   ],
   "source": [
    "#처음부터 끝까지 2스텝씩 출력\n",
    "sent2[::2]"
   ]
  },
  {
   "cell_type": "code",
   "execution_count": 63,
   "id": "8a87867d",
   "metadata": {},
   "outputs": [
    {
     "data": {
      "text/plain": [
       "'dlrow olleh'"
      ]
     },
     "execution_count": 63,
     "metadata": {},
     "output_type": "execute_result"
    }
   ],
   "source": [
    "sent2[::-1]"
   ]
  },
  {
   "cell_type": "code",
   "execution_count": 65,
   "id": "5a48c9d0",
   "metadata": {},
   "outputs": [
    {
     "ename": "NameError",
     "evalue": "name 'hello' is not defined",
     "output_type": "error",
     "traceback": [
      "\u001b[1;31m---------------------------------------------------------------------------\u001b[0m",
      "\u001b[1;31mNameError\u001b[0m                                 Traceback (most recent call last)",
      "\u001b[1;32mC:\\Users\\Public\\Documents\\ESTsoft\\CreatorTemp/ipykernel_6900/3823135198.py\u001b[0m in \u001b[0;36m<module>\u001b[1;34m\u001b[0m\n\u001b[1;32m----> 1\u001b[1;33m \u001b[0mhello\u001b[0m\u001b[1;33m[\u001b[0m\u001b[1;36m2\u001b[0m\u001b[1;33m]\u001b[0m \u001b[1;33m=\u001b[0m \u001b[1;34m'L'\u001b[0m\u001b[1;33m\u001b[0m\u001b[1;33m\u001b[0m\u001b[0m\n\u001b[0m\u001b[0;32m      2\u001b[0m \u001b[0mhello\u001b[0m\u001b[1;33m\u001b[0m\u001b[1;33m\u001b[0m\u001b[0m\n\u001b[0;32m      3\u001b[0m \u001b[1;31m# 불변타입이라 바꿀수없음\u001b[0m\u001b[1;33m\u001b[0m\u001b[1;33m\u001b[0m\u001b[0m\n",
      "\u001b[1;31mNameError\u001b[0m: name 'hello' is not defined"
     ]
    }
   ],
   "source": [
    "hello[2] = 'L'\n",
    "hello\n",
    "# 불변타입이라 바꿀수없음"
   ]
  },
  {
   "cell_type": "markdown",
   "id": "8828a2f8",
   "metadata": {},
   "source": [
    "### NLTK\n",
    "- natural language toolkit\n",
    "- 교육용으로 개발된 자연어처리 패키지\n",
    "- 코퍼스 제공하는데 어떤 처리가 되어있다\n",
    "    - 토크나이즈, 파싱, 테깅,..."
   ]
  },
  {
   "cell_type": "code",
   "execution_count": 67,
   "id": "850ecf0d",
   "metadata": {},
   "outputs": [
    {
     "name": "stdout",
     "output_type": "stream",
     "text": [
      "Requirement already satisfied: nltk in c:\\programdata\\anaconda3\\lib\\site-packages (3.6.5)\n",
      "Requirement already satisfied: click in c:\\programdata\\anaconda3\\lib\\site-packages (from nltk) (8.0.3)\n",
      "Requirement already satisfied: joblib in c:\\programdata\\anaconda3\\lib\\site-packages (from nltk) (1.1.0)\n",
      "Requirement already satisfied: regex>=2021.8.3 in c:\\programdata\\anaconda3\\lib\\site-packages (from nltk) (2021.8.3)\n",
      "Requirement already satisfied: tqdm in c:\\programdata\\anaconda3\\lib\\site-packages (from nltk) (4.62.3)\n",
      "Requirement already satisfied: colorama in c:\\programdata\\anaconda3\\lib\\site-packages (from click->nltk) (0.4.4)\n"
     ]
    }
   ],
   "source": [
    "!pip install nltk #=> 터미널로 패키지 설치하는 코드"
   ]
  },
  {
   "cell_type": "code",
   "execution_count": null,
   "id": "ab2c9780",
   "metadata": {},
   "outputs": [],
   "source": [
    "import nltk\n",
    "nltk.download('book', quiet=True) # dot으로 접근"
   ]
  },
  {
   "cell_type": "code",
   "execution_count": null,
   "id": "ac0068f3",
   "metadata": {},
   "outputs": [],
   "source": [
    "from nltk import book"
   ]
  },
  {
   "cell_type": "code",
   "execution_count": 14,
   "id": "e2e2cb9a",
   "metadata": {},
   "outputs": [],
   "source": [
    "moby = book.text1"
   ]
  },
  {
   "cell_type": "code",
   "execution_count": 16,
   "id": "6f63d2c0",
   "metadata": {},
   "outputs": [
    {
     "data": {
      "text/plain": [
       "['[',\n",
       " 'Moby',\n",
       " 'Dick',\n",
       " 'by',\n",
       " 'Herman',\n",
       " 'Melville',\n",
       " '1851',\n",
       " ']',\n",
       " 'ETYMOLOGY',\n",
       " '.']"
      ]
     },
     "execution_count": 16,
     "metadata": {},
     "output_type": "execute_result"
    }
   ],
   "source": [
    "moby.tokens[:10]#단어에 접근\n",
    "#토큰, 프로그래밍에서 정의하는 단어\n",
    "#\"I'm a boy.\" i'm, i am, i 'm"
   ]
  },
  {
   "cell_type": "code",
   "execution_count": 18,
   "id": "4b03b333",
   "metadata": {},
   "outputs": [
    {
     "data": {
      "text/plain": [
       "260819"
      ]
     },
     "execution_count": 18,
     "metadata": {},
     "output_type": "execute_result"
    }
   ],
   "source": [
    "# 총길이(단어)\n",
    "len(moby.tokens)"
   ]
  },
  {
   "cell_type": "code",
   "execution_count": 78,
   "id": "7f4fc617",
   "metadata": {},
   "outputs": [
    {
     "data": {
      "text/plain": [
       "{'LIE',\n",
       " 'flat',\n",
       " 'riddle',\n",
       " 'even',\n",
       " 'lowermost',\n",
       " 'extremities',\n",
       " 'districts',\n",
       " 'invariably',\n",
       " 'fiend',\n",
       " 'Thereby',\n",
       " 'Nut',\n",
       " '!)\"',\n",
       " 'spars',\n",
       " '4TH',\n",
       " 'simultaneousness',\n",
       " 'shuddering',\n",
       " 'beater',\n",
       " 'squally',\n",
       " 'precipitating',\n",
       " 'cranes',\n",
       " 'humanities',\n",
       " 'incantation',\n",
       " 'deaths',\n",
       " 'sensation',\n",
       " 'jealous',\n",
       " 'smack',\n",
       " 'limitless',\n",
       " 'bringing',\n",
       " 'shallowest',\n",
       " 'staving',\n",
       " 'wincing',\n",
       " 'insect',\n",
       " 'across',\n",
       " 'erected',\n",
       " 'incident',\n",
       " 'strutting',\n",
       " 'Lavater',\n",
       " 'survived',\n",
       " 'ferule',\n",
       " 'Lake',\n",
       " 'seeing',\n",
       " 'lactantem',\n",
       " 'unknowing',\n",
       " 'fawned',\n",
       " 'clergyman',\n",
       " 'milling',\n",
       " 'banded',\n",
       " 'scenery',\n",
       " 'despatched',\n",
       " 'pants',\n",
       " 'rack',\n",
       " 'brass',\n",
       " 'colouring',\n",
       " 'swathed',\n",
       " '!\"--',\n",
       " 'whizzings',\n",
       " 'capacious',\n",
       " 'child',\n",
       " 'Avatar',\n",
       " 'Anything',\n",
       " 'cymballed',\n",
       " 'scrabble',\n",
       " 'showest',\n",
       " 'NATHAN',\n",
       " 'mathematics',\n",
       " 'escapes',\n",
       " 'affording',\n",
       " 'opened',\n",
       " 'Spouter',\n",
       " 'Categut',\n",
       " 'hissing',\n",
       " 'warranted',\n",
       " 'fixing',\n",
       " 'cheap',\n",
       " 'GOETHE',\n",
       " 'arranging',\n",
       " 'seaward',\n",
       " 'carefully',\n",
       " 'ren',\n",
       " 'freebooters',\n",
       " 'Mungo',\n",
       " 'Feel',\n",
       " 'abeam',\n",
       " 'lightness',\n",
       " 'touchy',\n",
       " 'Kedron',\n",
       " 'scornfully',\n",
       " 'dribbles',\n",
       " 'moonlight',\n",
       " 'perfume',\n",
       " 'pruning',\n",
       " 'active',\n",
       " 'Said',\n",
       " 'proportioned',\n",
       " 'heeding',\n",
       " 'divers',\n",
       " 'pretending',\n",
       " 'sunken',\n",
       " 'recruit',\n",
       " 'Tied',\n",
       " 'Feegeeans',\n",
       " 'trial',\n",
       " 'housed',\n",
       " 'lieutenant',\n",
       " 'riots',\n",
       " 'successful',\n",
       " 'momentary',\n",
       " 'distinguish',\n",
       " 'Alleghanian',\n",
       " 'reposes',\n",
       " 'sunwards',\n",
       " 'purposing',\n",
       " 'unwarrantable',\n",
       " 'dropped',\n",
       " 'insufficient',\n",
       " 'south',\n",
       " 'authenticated',\n",
       " 'modifies',\n",
       " 'resting',\n",
       " 'Dough',\n",
       " 'lips',\n",
       " 'interlacing',\n",
       " 'ponderosity',\n",
       " 'reflection',\n",
       " 'pricked',\n",
       " 'meat',\n",
       " 'fray',\n",
       " 'Aquarius',\n",
       " 'shortened',\n",
       " 'gloriously',\n",
       " 'injunctions',\n",
       " 'vindicated',\n",
       " 'groupings',\n",
       " 'The',\n",
       " 'advocate',\n",
       " 'join',\n",
       " 'cohered',\n",
       " 'Historians',\n",
       " 'wrench',\n",
       " 'insolent',\n",
       " 'candelabra',\n",
       " 'pitchpoled',\n",
       " 'shipped',\n",
       " 'clanging',\n",
       " 'INN',\n",
       " 'neither',\n",
       " 'notice',\n",
       " 'commercial',\n",
       " 'sanctity',\n",
       " 'advantages',\n",
       " 'gaudiest',\n",
       " 'blaze',\n",
       " 'enjoining',\n",
       " 'exterminates',\n",
       " 'joosy',\n",
       " 'mud',\n",
       " 'Warmest',\n",
       " 'Himmalehan',\n",
       " 'dairy',\n",
       " 'haunts',\n",
       " 'despair',\n",
       " 'premeditated',\n",
       " 'THIS',\n",
       " 'suggestions',\n",
       " 'crosswise',\n",
       " 'Jungfrau',\n",
       " 'my',\n",
       " 'push',\n",
       " 'loam',\n",
       " 'gobern',\n",
       " 'sense',\n",
       " 'bidding',\n",
       " 'Australian',\n",
       " 'smallness',\n",
       " 'diagonically',\n",
       " 'lonely',\n",
       " 'dog',\n",
       " 'unhealing',\n",
       " 'hoop',\n",
       " 'because',\n",
       " 'lighting',\n",
       " 'caravan',\n",
       " 'Leviathanism',\n",
       " '134',\n",
       " 'indifference',\n",
       " 'nigh',\n",
       " 'metaphysically',\n",
       " 'indissoluble',\n",
       " 'criterion',\n",
       " 'shot',\n",
       " 'clouds',\n",
       " 'hinting',\n",
       " 'compound',\n",
       " 'invention',\n",
       " 'sister',\n",
       " 'ills',\n",
       " 'reined',\n",
       " 'unoccupied',\n",
       " 'ungraduated',\n",
       " 'darkling',\n",
       " 'CHEEVER',\n",
       " 'cliffs',\n",
       " 'adjust',\n",
       " 'repellingly',\n",
       " 'dirty',\n",
       " 'Typhoon',\n",
       " 'streaked',\n",
       " 'ruggedest',\n",
       " 'bestow',\n",
       " 'quicken',\n",
       " 'evilly',\n",
       " 'broidered',\n",
       " 'sunrise',\n",
       " 'satisfactorily',\n",
       " '36',\n",
       " 'habit',\n",
       " 'deceits',\n",
       " ';--',\n",
       " 'consisting',\n",
       " 'hows',\n",
       " 'snatches',\n",
       " 'HEAD',\n",
       " 'assailant',\n",
       " 'diademed',\n",
       " 'buoyancy',\n",
       " 'soliloquizing',\n",
       " 'floods',\n",
       " 'knob',\n",
       " 'very',\n",
       " 'huzza',\n",
       " 'drunk',\n",
       " '17',\n",
       " 'waif',\n",
       " 'fed',\n",
       " 'cuttle',\n",
       " 'didn',\n",
       " 'marsh',\n",
       " 'triply',\n",
       " 'reefs',\n",
       " 'Illinois',\n",
       " 'shipmates',\n",
       " 'genera',\n",
       " 'visits',\n",
       " 'complete',\n",
       " 'skulking',\n",
       " 'pint',\n",
       " 'kettles',\n",
       " 'unexampled',\n",
       " 'banquet',\n",
       " 'thicker',\n",
       " 'stars',\n",
       " 'aback',\n",
       " 'conducted',\n",
       " 'exhibited',\n",
       " 'fountains',\n",
       " 'breasts',\n",
       " 'holier',\n",
       " 'trope',\n",
       " 'comrades',\n",
       " 'filled',\n",
       " 'sticks',\n",
       " 'Maceys',\n",
       " 'combed',\n",
       " 'outlandishness',\n",
       " 'witnessing',\n",
       " 'Atlantics',\n",
       " 'Jebb',\n",
       " '!--',\n",
       " 'starboard',\n",
       " 'admirable',\n",
       " 'If',\n",
       " 'Campagna',\n",
       " 'nill',\n",
       " 'WHALESHIPS',\n",
       " 'forlorn',\n",
       " 'sunny',\n",
       " 'incoherently',\n",
       " 'Yet',\n",
       " 'flesh',\n",
       " 'raises',\n",
       " 'Texel',\n",
       " 'warriors',\n",
       " 'inseparable',\n",
       " 'spare',\n",
       " 'assented',\n",
       " '48',\n",
       " 'cavalier',\n",
       " 'inclining',\n",
       " 'viciousness',\n",
       " 'boisterously',\n",
       " 'hoisted',\n",
       " 'envelopes',\n",
       " 'raise',\n",
       " 'lancers',\n",
       " 'learn',\n",
       " 'brains',\n",
       " 'wander',\n",
       " 'merchantmen',\n",
       " 'deplored',\n",
       " 'Seeing',\n",
       " 'Forecastle',\n",
       " 'terror',\n",
       " 'mastership',\n",
       " 'progeny',\n",
       " 'successive',\n",
       " 'Ashantee',\n",
       " 'worming',\n",
       " 'Dr',\n",
       " 'manufacturer',\n",
       " 'PREBLE',\n",
       " 'Rabelais',\n",
       " 'favouring',\n",
       " 'TO',\n",
       " 'unassailable',\n",
       " 'Harry',\n",
       " 'oilpainting',\n",
       " 'FILING',\n",
       " 'out',\n",
       " 'inarticulate',\n",
       " 'Story',\n",
       " 'Blacksmith',\n",
       " 'ANOTHER',\n",
       " 'header',\n",
       " 'consequent',\n",
       " 'sketches',\n",
       " 'Usually',\n",
       " 'odorous',\n",
       " 'Elephants',\n",
       " 'ungovernable',\n",
       " 'spherical',\n",
       " 'prouder',\n",
       " 'drugged',\n",
       " 'hooked',\n",
       " 'perform',\n",
       " 'savoury',\n",
       " 'masses',\n",
       " 'will',\n",
       " 'panics',\n",
       " '.\"*',\n",
       " 'lunar',\n",
       " 'disorder',\n",
       " 'engendered',\n",
       " 'candle',\n",
       " 'endwise',\n",
       " 'daring',\n",
       " 'tandem',\n",
       " 'far',\n",
       " 'Want',\n",
       " 'calls',\n",
       " 'SMOKING',\n",
       " 'silly',\n",
       " 'swaying',\n",
       " 'Siberia',\n",
       " 'solicitudes',\n",
       " 'ducking',\n",
       " 'Teeth',\n",
       " 'fairest',\n",
       " 'seniors',\n",
       " 'courtesy',\n",
       " 'corpusants',\n",
       " 'Medes',\n",
       " 'Cetacea',\n",
       " 'whaleboat',\n",
       " 'fuel',\n",
       " 'hospitality',\n",
       " 'Rarmai',\n",
       " 'remorse',\n",
       " 'sufferings',\n",
       " 'axles',\n",
       " 'exceeding',\n",
       " 'nonsense',\n",
       " 'whitewashed',\n",
       " 'HALF',\n",
       " 'United',\n",
       " \"'\",\n",
       " 'ruined',\n",
       " 'unbegotten',\n",
       " 'letting',\n",
       " 'Proceed',\n",
       " 'fast',\n",
       " 'aggregations',\n",
       " 'gamesomeness',\n",
       " 'impute',\n",
       " 'Portuguese',\n",
       " 'sundering',\n",
       " 'convivial',\n",
       " 'presentiment',\n",
       " 'Rattle',\n",
       " 'galls',\n",
       " 'Split',\n",
       " 'contributes',\n",
       " 'destructive',\n",
       " 'bigness',\n",
       " 'Clearing',\n",
       " 'Anomalous',\n",
       " 'sets',\n",
       " 'Thomas',\n",
       " 'organized',\n",
       " 'BANKS',\n",
       " 'unfair',\n",
       " 'baskets',\n",
       " 'digestion',\n",
       " 'gather',\n",
       " 'unwearied',\n",
       " 'protracted',\n",
       " 'tyrannical',\n",
       " 'vermicelli',\n",
       " 'hinder',\n",
       " 'optically',\n",
       " 'commissioned',\n",
       " 'ALIVE',\n",
       " 'sadder',\n",
       " 'produces',\n",
       " 'Latter',\n",
       " 'minds',\n",
       " '47',\n",
       " 'remained',\n",
       " 'comparing',\n",
       " 'Grampus',\n",
       " 'refuge',\n",
       " 'bidden',\n",
       " 'shadowy',\n",
       " 'hissed',\n",
       " 'WHEN',\n",
       " 'bridges',\n",
       " 'phrases',\n",
       " 'Circumambulate',\n",
       " 'deficiency',\n",
       " 'tombed',\n",
       " 'bo',\n",
       " 'endure',\n",
       " 'unhaunted',\n",
       " 'mine',\n",
       " 'treasure',\n",
       " 'unmerited',\n",
       " 'Chinese',\n",
       " 'clanking',\n",
       " 'adapted',\n",
       " 'fastened',\n",
       " 'bouncing',\n",
       " 'adoring',\n",
       " 'landlord',\n",
       " 'landsman',\n",
       " 'ARE',\n",
       " 'contrastingly',\n",
       " 'shadows',\n",
       " 'venerable',\n",
       " 'laceration',\n",
       " 'wrestling',\n",
       " 'guttural',\n",
       " 'plans',\n",
       " 'squint',\n",
       " 'sung',\n",
       " 'cavities',\n",
       " 'corporal',\n",
       " 'profusion',\n",
       " 'effects',\n",
       " 'emigrants',\n",
       " 'cartloads',\n",
       " 'host',\n",
       " 'innate',\n",
       " 'solace',\n",
       " 'breezelessness',\n",
       " 'chafed',\n",
       " 'skeletons',\n",
       " 'eternally',\n",
       " 'bought',\n",
       " 'DUTCH',\n",
       " 'cleats',\n",
       " 'troops',\n",
       " 'Martha',\n",
       " 'magniloquent',\n",
       " 'submits',\n",
       " 'consign',\n",
       " 'tapped',\n",
       " 'lull',\n",
       " 'canonicals',\n",
       " 'dreamy',\n",
       " 'vat',\n",
       " 'face',\n",
       " 'Flukes',\n",
       " 'T',\n",
       " 'salutations',\n",
       " 'Gull',\n",
       " 'grained',\n",
       " 'peak',\n",
       " 'Radney',\n",
       " 'teak',\n",
       " 'noteworthy',\n",
       " 'Fear',\n",
       " 'weave',\n",
       " 'symbolizings',\n",
       " 'spires',\n",
       " 'frigid',\n",
       " 'encircling',\n",
       " 'fossiliferous',\n",
       " 'Adventures',\n",
       " 'circus',\n",
       " 'sways',\n",
       " 'periodically',\n",
       " 'fatalists',\n",
       " 'interlude',\n",
       " 'blackness',\n",
       " 'irresistible',\n",
       " 'bandaged',\n",
       " 'widening',\n",
       " 'Leuwenhoeck',\n",
       " 'idle',\n",
       " 'Asia',\n",
       " 'ENGLISH',\n",
       " 'particulars',\n",
       " 'egotistical',\n",
       " 'pitchpoler',\n",
       " 'Till',\n",
       " 'and',\n",
       " 'Mufti',\n",
       " 'Tennessee',\n",
       " 'Swackhammer',\n",
       " 'aged',\n",
       " 'sacrificial',\n",
       " 'doubloons',\n",
       " 'indefatigable',\n",
       " 'conceive',\n",
       " 'quaffed',\n",
       " 'Dropping',\n",
       " 'forge',\n",
       " 'oblongs',\n",
       " 'rub',\n",
       " 'lanyard',\n",
       " 'fatality',\n",
       " 'piazza',\n",
       " 'accompanied',\n",
       " 'Quakerism',\n",
       " 'messmates',\n",
       " 'ravening',\n",
       " 'increased',\n",
       " 'Splice',\n",
       " 'sulkies',\n",
       " 'irreverence',\n",
       " 'stoopingly',\n",
       " 'threaten',\n",
       " 'reverentially',\n",
       " 'hope',\n",
       " 'breakers',\n",
       " 'resuming',\n",
       " 'Dantean',\n",
       " 'flush',\n",
       " 'ankers',\n",
       " 'announces',\n",
       " 'rattling',\n",
       " 'safety',\n",
       " 'welcome',\n",
       " 'English',\n",
       " 'Israel',\n",
       " 'dumpling',\n",
       " 'incurable',\n",
       " 'sash',\n",
       " 'Paul',\n",
       " 'brute',\n",
       " 'suicides',\n",
       " 'overdoing',\n",
       " 'gushing',\n",
       " 'residuary',\n",
       " 'ass',\n",
       " 'imports',\n",
       " 'navigation',\n",
       " 'manage',\n",
       " 'thereof',\n",
       " 'riotously',\n",
       " 'Callao',\n",
       " 'Bedford',\n",
       " 'Clear',\n",
       " 'coves',\n",
       " 'magnificence',\n",
       " 'rainy',\n",
       " 'showing',\n",
       " 'sacredness',\n",
       " 'Loveliness',\n",
       " 'attains',\n",
       " 'Honourary',\n",
       " 'watchmen',\n",
       " '75',\n",
       " 'Heated',\n",
       " 'erection',\n",
       " 'coarse',\n",
       " 'medals',\n",
       " 'mistiness',\n",
       " 'Unfitness',\n",
       " 'Macey',\n",
       " 'presto',\n",
       " 'Forthwith',\n",
       " 'stolidly',\n",
       " 'moss',\n",
       " 'clime',\n",
       " 'poles',\n",
       " 'calculated',\n",
       " 'subservient',\n",
       " 'weeps',\n",
       " 'persuade',\n",
       " 'curing',\n",
       " 'protruding',\n",
       " 'plight',\n",
       " 'brawny',\n",
       " 'Surely',\n",
       " 'tuns',\n",
       " 'feed',\n",
       " 'Fitz',\n",
       " 'relieving',\n",
       " 'respective',\n",
       " 'tea',\n",
       " 'frenzy',\n",
       " 'divine',\n",
       " 'keels',\n",
       " 'grenadier',\n",
       " 'convince',\n",
       " 'Arethusa',\n",
       " 'decision',\n",
       " 'Disdain',\n",
       " 'Try',\n",
       " 'Berkshire',\n",
       " 'slumber',\n",
       " 'badly',\n",
       " 'outer',\n",
       " 'butchers',\n",
       " 'OCEAN',\n",
       " 'troubled',\n",
       " 'soars',\n",
       " 'at',\n",
       " 'nose',\n",
       " 'weathering',\n",
       " 'East',\n",
       " 'pleasantness',\n",
       " 'braiding',\n",
       " 'genteel',\n",
       " 'pour',\n",
       " 'MULTUM',\n",
       " 'sobbing',\n",
       " 'Rising',\n",
       " 'them',\n",
       " 'wink',\n",
       " 'transparent',\n",
       " 'ferociousness',\n",
       " 'X',\n",
       " 'mealy',\n",
       " 'fierceness',\n",
       " 'significance',\n",
       " 'perpetuated',\n",
       " 'Slowly',\n",
       " 'Balaene',\n",
       " 'sign',\n",
       " 'scorn',\n",
       " 'maiming',\n",
       " 'strays',\n",
       " 'Canal',\n",
       " 'FIN',\n",
       " 'elaboration',\n",
       " 'marbled',\n",
       " 'blacks',\n",
       " 'rouses',\n",
       " 'allow',\n",
       " 'SHALL',\n",
       " 'college',\n",
       " 'husks',\n",
       " 'sallies',\n",
       " 'rain',\n",
       " 'practised',\n",
       " 'quicker',\n",
       " 'enterprises',\n",
       " 'desisted',\n",
       " 'satisfaction',\n",
       " 'flow',\n",
       " 'Bishop',\n",
       " 'ink',\n",
       " 'castaway',\n",
       " 'migratory',\n",
       " 'lusty',\n",
       " 'wiseish',\n",
       " '71',\n",
       " 'beat',\n",
       " 'Society',\n",
       " 'Sure',\n",
       " 'spontaneous',\n",
       " 'tulips',\n",
       " 'solemnly',\n",
       " 'filliping',\n",
       " 'hopes',\n",
       " 'swerved',\n",
       " 'reservation',\n",
       " 'precedes',\n",
       " 'reported',\n",
       " 'frankincense',\n",
       " 'Unconsciously',\n",
       " 'unwound',\n",
       " 'like',\n",
       " 'agonies',\n",
       " 'shrieking',\n",
       " 'concentred',\n",
       " 'broadly',\n",
       " 'junction',\n",
       " 'Landlord',\n",
       " 'congeniality',\n",
       " 'spoutings',\n",
       " 'risked',\n",
       " 'stunning',\n",
       " 'creeds',\n",
       " 'SHIPWRECK',\n",
       " 'viceroy',\n",
       " 'respect',\n",
       " 'immutably',\n",
       " 'bloated',\n",
       " 'pregnant',\n",
       " 'forgotten',\n",
       " 'labored',\n",
       " 'Raising',\n",
       " 'Wrinkled',\n",
       " 'dissolved',\n",
       " 'rascal',\n",
       " 'yell',\n",
       " 'candies',\n",
       " 'gorges',\n",
       " 'replenishes',\n",
       " 'sling',\n",
       " 'chancery',\n",
       " 'fashionables',\n",
       " 'Cetology',\n",
       " 'CONVERSATIONS',\n",
       " 'whosoever',\n",
       " 'appal',\n",
       " 'neglected',\n",
       " 'fairly',\n",
       " 'stronghold',\n",
       " 'MEN',\n",
       " 'generations',\n",
       " 'thoroughly',\n",
       " 'loves',\n",
       " 'skilful',\n",
       " 'reputed',\n",
       " 'sulphur',\n",
       " 'ladies',\n",
       " 'friar',\n",
       " 'again',\n",
       " 'rotten',\n",
       " 'canvas',\n",
       " 'resisted',\n",
       " 'leering',\n",
       " 'revolved',\n",
       " 'wriggling',\n",
       " 'LARGE',\n",
       " 'ANGLO',\n",
       " 'insinuating',\n",
       " 'Squaring',\n",
       " 'prime',\n",
       " 'committed',\n",
       " 'baby',\n",
       " 'glitteringly',\n",
       " 'Iceland',\n",
       " 'Rather',\n",
       " 'plying',\n",
       " 'perverse',\n",
       " 'mightier',\n",
       " 'auspices',\n",
       " 'babies',\n",
       " 'scrouge',\n",
       " 'reciprocally',\n",
       " 'clefts',\n",
       " 'decanters',\n",
       " 'Roman',\n",
       " 'friendliness',\n",
       " 'Schoolmasters',\n",
       " '43',\n",
       " 'prow',\n",
       " 'unconquering',\n",
       " 'GENESIS',\n",
       " 'gasps',\n",
       " 'piratical',\n",
       " 'gaffs',\n",
       " 'twigging',\n",
       " 'inserted',\n",
       " 'inventors',\n",
       " 'cheerless',\n",
       " 'clasped',\n",
       " 'stealthily',\n",
       " 'hawsers',\n",
       " 'Baltimore',\n",
       " 'interflowing',\n",
       " 'between',\n",
       " 'wilfulness',\n",
       " 'recrossing',\n",
       " 'experiences',\n",
       " 'Leviathan',\n",
       " 'E',\n",
       " 'appals',\n",
       " 'scorching',\n",
       " 'chalices',\n",
       " 'beverage',\n",
       " 'mapped',\n",
       " 'dilapidated',\n",
       " 'slouching',\n",
       " 'MIRIAM',\n",
       " 'ranks',\n",
       " 'fog',\n",
       " 'antlered',\n",
       " 'bible',\n",
       " 'consists',\n",
       " 'unceasingly',\n",
       " 'Base',\n",
       " 'no',\n",
       " 'cyphers',\n",
       " 'consternation',\n",
       " 'Porus',\n",
       " 'brushwood',\n",
       " 'cascading',\n",
       " 'whirled',\n",
       " 'Leg',\n",
       " 'griffins',\n",
       " 'distinction',\n",
       " \";--'\",\n",
       " 'abased',\n",
       " 'destroyed',\n",
       " 'displayed',\n",
       " 'suggested',\n",
       " 'schoolmasters',\n",
       " 'illumined',\n",
       " 'Terrors',\n",
       " 'patrolled',\n",
       " 'dealers',\n",
       " 'fires',\n",
       " '---,',\n",
       " 'is',\n",
       " 'pity',\n",
       " 'golden',\n",
       " 'Table',\n",
       " 'ript',\n",
       " 'egress',\n",
       " 'ONLY',\n",
       " 'brain',\n",
       " 'lend',\n",
       " 'festoon',\n",
       " '80',\n",
       " 'rebut',\n",
       " 'maple',\n",
       " 'rayther',\n",
       " 'rumor',\n",
       " 'tunnel',\n",
       " 'year',\n",
       " 'frontier',\n",
       " 'incalculable',\n",
       " 'porches',\n",
       " 'excite',\n",
       " 'predominating',\n",
       " 'unshunned',\n",
       " 'HAMLET',\n",
       " 'congenial',\n",
       " 'liver',\n",
       " 'bowes',\n",
       " 'totally',\n",
       " 'assurance',\n",
       " 'income',\n",
       " 'related',\n",
       " 'trail',\n",
       " 'string',\n",
       " 'unconsciously',\n",
       " 'petition',\n",
       " 'handle',\n",
       " 'eventual',\n",
       " 'Only',\n",
       " 'lounge',\n",
       " 'furred',\n",
       " 'flouts',\n",
       " 'gore',\n",
       " 'statistical',\n",
       " 'enraged',\n",
       " '92',\n",
       " 'phrenology',\n",
       " 'leaves',\n",
       " 'duly',\n",
       " 'implicit',\n",
       " 'obsequious',\n",
       " 'flaxen',\n",
       " 'lately',\n",
       " 'Buckets',\n",
       " 'Fiery',\n",
       " 'twitched',\n",
       " 'tin',\n",
       " 'occupying',\n",
       " 'perceiving',\n",
       " 'ibis',\n",
       " 'hags',\n",
       " 'ordained',\n",
       " 'unrestingly',\n",
       " 'soundest',\n",
       " 'fool',\n",
       " 'FORGE',\n",
       " 'greeted',\n",
       " 'prospects',\n",
       " '?--\"',\n",
       " 'sympathies',\n",
       " 'Italian',\n",
       " 'truthful',\n",
       " 'fatal',\n",
       " 'lent',\n",
       " 'PRIMER',\n",
       " 'responses',\n",
       " 'Polynesian',\n",
       " 'dancing',\n",
       " 'was',\n",
       " 'entrenched',\n",
       " 'widows',\n",
       " 'ROBERT',\n",
       " 'Indolence',\n",
       " 'hauling',\n",
       " 'shabby',\n",
       " 'footmanism',\n",
       " 'enlarged',\n",
       " 'reports',\n",
       " 'choke',\n",
       " 'propulsion',\n",
       " 'department',\n",
       " 'masterly',\n",
       " 'brim',\n",
       " '19',\n",
       " 'verbatim',\n",
       " 'mutilated',\n",
       " 'spoils',\n",
       " 'ferry',\n",
       " 'flask',\n",
       " 'Labor',\n",
       " 'caps',\n",
       " '120',\n",
       " 'hemlock',\n",
       " 'foolish',\n",
       " 'End',\n",
       " 'capstan',\n",
       " 'Daniel',\n",
       " 'newly',\n",
       " 'southwards',\n",
       " 'sentinelled',\n",
       " 'abomination',\n",
       " 'noticed',\n",
       " 'selectest',\n",
       " 'file',\n",
       " 'hitting',\n",
       " 'la',\n",
       " 'droopings',\n",
       " 'incuriously',\n",
       " 'visibly',\n",
       " 'pool',\n",
       " 'freckled',\n",
       " 'methought',\n",
       " 'HANGING',\n",
       " 'loop',\n",
       " 'misnamed',\n",
       " 'disorderly',\n",
       " 'STOWE',\n",
       " 'seal',\n",
       " 'spell',\n",
       " 'Yon',\n",
       " 'Lost',\n",
       " 'hails',\n",
       " 'pertinacious',\n",
       " 'track',\n",
       " 'gush',\n",
       " 'HOBOMACK',\n",
       " 'cutlery',\n",
       " 'bearded',\n",
       " 'diadem',\n",
       " 'lifting',\n",
       " 'yells',\n",
       " 'Herculaneum',\n",
       " 'survive',\n",
       " 'Frankfort',\n",
       " 'Mad',\n",
       " 'wakened',\n",
       " 'confirmation',\n",
       " 'fix',\n",
       " 'neighborhood',\n",
       " 'circumpolar',\n",
       " 'quilt',\n",
       " 'shambling',\n",
       " 'visited',\n",
       " 'Invisible',\n",
       " 'THOMAS',\n",
       " 'Abel',\n",
       " 'slopes',\n",
       " 'MEANTIME',\n",
       " 'Japans',\n",
       " 'snare',\n",
       " 'beach',\n",
       " 'lashes',\n",
       " 'pondering',\n",
       " 'ceasing',\n",
       " 'thinkings',\n",
       " 'signing',\n",
       " 'wondrously',\n",
       " 'uncle',\n",
       " 'deceiving',\n",
       " 'reckless',\n",
       " '):',\n",
       " 'overspread',\n",
       " 'Is',\n",
       " ...}"
      ]
     },
     "execution_count": 78,
     "metadata": {},
     "output_type": "execute_result"
    }
   ],
   "source": [
    "# 중복되는 단어들 걸러내자\n",
    "set(moby.tokens)"
   ]
  },
  {
   "cell_type": "markdown",
   "id": "cc7da558",
   "metadata": {},
   "source": [
    "- set\n",
    "    - {a, b, c..}\n",
    "    - 중복 불가능\n",
    "    - 수학 집합과 동일 개념\n",
    "    - 순서없음\n",
    "- list\n",
    "    - [a, b, c..]\n",
    "    - 중복가능\n",
    "    - 순서있음"
   ]
  },
  {
   "cell_type": "code",
   "execution_count": 21,
   "id": "e0c737ca",
   "metadata": {},
   "outputs": [
    {
     "data": {
      "text/plain": [
       "{'benz', 'kia', 'porsche'}"
      ]
     },
     "execution_count": 21,
     "metadata": {},
     "output_type": "execute_result"
    }
   ],
   "source": [
    "cars = ['kia', 'benz','porsche', 'kia']\n",
    "set(cars)"
   ]
  },
  {
   "cell_type": "code",
   "execution_count": 22,
   "id": "d324f3cf",
   "metadata": {},
   "outputs": [
    {
     "data": {
      "text/plain": [
       "19317"
      ]
     },
     "execution_count": 22,
     "metadata": {},
     "output_type": "execute_result"
    }
   ],
   "source": [
    "# 중복없는 단어 수\n",
    "len(set(moby.tokens))"
   ]
  },
  {
   "cell_type": "code",
   "execution_count": 23,
   "id": "d404bbfe",
   "metadata": {},
   "outputs": [
    {
     "data": {
      "text/plain": [
       "0.07406285585022564"
      ]
     },
     "execution_count": 23,
     "metadata": {},
     "output_type": "execute_result"
    }
   ],
   "source": [
    "# lexical diversity \n",
    "len(set(moby.tokens)) / len(moby.tokens) "
   ]
  },
  {
   "cell_type": "code",
   "execution_count": 32,
   "id": "6ce01d4c",
   "metadata": {},
   "outputs": [
    {
     "data": {
      "text/plain": [
       "['porsche', 'kia', 'kia', 'benz']"
      ]
     },
     "execution_count": 32,
     "metadata": {},
     "output_type": "execute_result"
    }
   ],
   "source": [
    "# 오름차순 내림차순 정렬\n",
    "sorted(cars) #내림\n",
    "sorted(cars, reverse = True) #오름"
   ]
  },
  {
   "cell_type": "code",
   "execution_count": 85,
   "id": "a26421d7",
   "metadata": {},
   "outputs": [
    {
     "data": {
      "text/plain": [
       "['zoology',\n",
       " 'zones',\n",
       " 'zoned',\n",
       " 'zone',\n",
       " 'zodiac',\n",
       " 'zig',\n",
       " 'zephyr',\n",
       " 'zeal',\n",
       " 'zay',\n",
       " 'zag']"
      ]
     },
     "execution_count": 85,
     "metadata": {},
     "output_type": "execute_result"
    }
   ],
   "source": [
    "# mobydick 정렬하기\n",
    "sorted(set(moby.tokens), reverse=True) [:10]"
   ]
  },
  {
   "cell_type": "markdown",
   "id": "dcbc299f",
   "metadata": {},
   "source": [
    "### Quiz 1\n",
    "- text9에서 lexical diversity 계산하기 \n",
    "- text6에서 중복없는 set 내림차순 정렬\n",
    "    - a. 앞에서 단어 10개 추출\n",
    "    - b. 조건문 연습: 'z'가 있으면 대문자로 바꾸기. 'z'가 없는데 4글자 이상이면 끝 글자 대문자로 바꾸기\n",
    "\n",
    "### Quiz 2\n",
    "- 주민등록번호, 휴대폰번호, 이메일 입력받기\n",
    "    - 주민번호, 휴대폰은 숫자만 입력 (- 없다)\n",
    "    - 이메일은 아이디만 입력 (@ 뒷부분 없다)\n",
    "-출력:\n",
    "    - '당신은 {}년 {}월 {}월 출생의 성별{}입니다'\n",
    "    - 휴대폰번호: {} #하이폰으로 연결\n",
    "    - 이메일주소: {아이디}@gmail.com"
   ]
  },
  {
   "cell_type": "code",
   "execution_count": 34,
   "id": "34e28b4e",
   "metadata": {
    "scrolled": true
   },
   "outputs": [
    {
     "data": {
      "text/plain": [
       "0.0983485761345412"
      ]
     },
     "execution_count": 34,
     "metadata": {},
     "output_type": "execute_result"
    }
   ],
   "source": [
    "# Quiz1\n",
    "\n",
    "moby = book.text9\n",
    "moby.tokens\n",
    "len(set(moby.tokens)) / len(moby.tokens)"
   ]
  },
  {
   "cell_type": "code",
   "execution_count": null,
   "id": "6fffc965",
   "metadata": {},
   "outputs": [],
   "source": [
    "moby = book.text6\n",
    "moby.tokens\n",
    "sorted(set(moby.tokens), reverse = True)[:10]\n",
    "if 'z' in moby.tokens:\n",
    "    replce('z','Z')\n",
    "elif len(moby.tokens) > 4:\n",
    "    mobytokens[-1].upper"
   ]
  },
  {
   "cell_type": "code",
   "execution_count": null,
   "id": "889a479b",
   "metadata": {},
   "outputs": [],
   "source": [
    "resident = int(input('주민번호'))\n",
    "phone = int(input('휴대폰번호'))\n",
    "email = input('이메일')\n",
    "if resident[0] <= 2:\n",
    "    year = 20 + resident[:2]\n",
    "else: year = 19 + resident[:2]\n",
    "if resident[6] == 1 or resident[6] == 3:\n",
    "    sex == '남'\n",
    "else: sex == '여'\n",
    "print(f'당신은 {resident[:2]}년 {resident[2:4]}월 {resident[4:6]}일 출생의 성별 {sex}입니다.')\n",
    "print(f'휴대폰 번호: {phone[:3]}-{phone[3:7]}-{phone[7:11]}')\n",
    "print(f'이메일 주소:{email}@gmail.com')\n",
    "#오류가 납니다ㅠㅠ"
   ]
  },
  {
   "cell_type": "code",
   "execution_count": null,
   "id": "4fe5c191",
   "metadata": {},
   "outputs": [],
   "source": []
  }
 ],
 "metadata": {
  "kernelspec": {
   "display_name": "Python 3 (ipykernel)",
   "language": "python",
   "name": "python3"
  },
  "language_info": {
   "codemirror_mode": {
    "name": "ipython",
    "version": 3
   },
   "file_extension": ".py",
   "mimetype": "text/x-python",
   "name": "python",
   "nbconvert_exporter": "python",
   "pygments_lexer": "ipython3",
   "version": "3.9.7"
  }
 },
 "nbformat": 4,
 "nbformat_minor": 5
}
