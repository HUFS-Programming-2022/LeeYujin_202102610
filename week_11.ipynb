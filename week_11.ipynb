{
 "cells": [
  {
   "cell_type": "markdown",
   "id": "2e279ad2",
   "metadata": {},
   "source": [
    "### 상속 inheritance\n",
    "- 이전 클래스 내용 추가, 변경해야 할 경우\n",
    "- 코드 재사용에 유용\n",
    "- 기준: vehicle, parent, super, base, 부모클래스\n",
    "- 상속 받는 클래스: child, sub, derived, 자식클래스\n",
    "Vehicle <- Car\n",
    "    - 부모 클래스 자식클래스가 구체화\n",
    "    - Car is-a-Vehicle\n",
    "    - has-a: Notebook has-a-Note"
   ]
  },
  {
   "cell_type": "code",
   "execution_count": 4,
   "id": "054886a2",
   "metadata": {},
   "outputs": [],
   "source": [
    "class Vehicle:\n",
    "    def __init__(self, speed):\n",
    "        self.speed = speed\n",
    "        \n",
    "    def go(self):\n",
    "        print(f'{self.speed}의 속력으로 달린다.')\n",
    "        \n",
    "#자식클래스\n",
    "class Car(Vehicle):\n",
    "    pass"
   ]
  },
  {
   "cell_type": "code",
   "execution_count": 5,
   "id": "ee81bea2",
   "metadata": {},
   "outputs": [],
   "source": [
    "car = Car('15km/h')"
   ]
  },
  {
   "cell_type": "code",
   "execution_count": 6,
   "id": "07b1e136",
   "metadata": {},
   "outputs": [
    {
     "name": "stdout",
     "output_type": "stream",
     "text": [
      "15km/h의 속력으로 달린다.\n"
     ]
    }
   ],
   "source": [
    "car.go()"
   ]
  },
  {
   "cell_type": "markdown",
   "id": "d53e0129",
   "metadata": {},
   "source": [
    "### 추가 변경\n",
    "- 속성(변수)"
   ]
  },
  {
   "cell_type": "code",
   "execution_count": 7,
   "id": "3355ac12",
   "metadata": {},
   "outputs": [],
   "source": [
    "class Car(Vehicle):\n",
    "    def __init__(self, speed, brand):\n",
    "        #self.speed = speed\n",
    "        super().__init__(speed) #선택적 인수 설정\n",
    "        self.brand = brand #추가한 변수\n",
    "        # self == 나 자신, super() == 부모"
   ]
  },
  {
   "cell_type": "code",
   "execution_count": 10,
   "id": "8d4b5736",
   "metadata": {},
   "outputs": [],
   "source": [
    "car2 = Car('14km/h', 'kia')"
   ]
  },
  {
   "cell_type": "code",
   "execution_count": 11,
   "id": "c4f36d8a",
   "metadata": {},
   "outputs": [
    {
     "data": {
      "text/plain": [
       "'14km/h'"
      ]
     },
     "execution_count": 11,
     "metadata": {},
     "output_type": "execute_result"
    }
   ],
   "source": [
    "car2.speed"
   ]
  },
  {
   "cell_type": "markdown",
   "id": "6b449e39",
   "metadata": {},
   "source": [
    "- 메소드 변경 => 오버라이드, 재정의"
   ]
  },
  {
   "cell_type": "code",
   "execution_count": 22,
   "id": "309a89ea",
   "metadata": {},
   "outputs": [],
   "source": [
    "class Car(Vehicle): #부모클래스와 차별성을 가지게 되는 부분에 주목\n",
    "    def __init__(self, speed, brand):\n",
    "        #self.speed = speed\n",
    "        super().__init__(speed)\n",
    "        self.brand = brand\n",
    "        \n",
    "    def go(self): #override\n",
    "        #부모의 go도 같이 타고 싶다\n",
    "        super().go()\n",
    "        print(f'차종은 {self.brand}')\n",
    "        \n",
    "    def stop(self): #부모클래스에 없는 메소드\n",
    "        print('차가 멈춘다')"
   ]
  },
  {
   "cell_type": "code",
   "execution_count": 23,
   "id": "89e4726c",
   "metadata": {},
   "outputs": [
    {
     "name": "stdout",
     "output_type": "stream",
     "text": [
      "15km/h의 속력으로 달린다.\n",
      "차종은 nissan\n",
      "차가 멈춘다\n"
     ]
    }
   ],
   "source": [
    "car3 = Car('15km/h', 'nissan')\n",
    "car3.go()\n",
    "car3.stop()"
   ]
  },
  {
   "cell_type": "markdown",
   "id": "3589b72e",
   "metadata": {},
   "source": [
    "### 실습"
   ]
  },
  {
   "cell_type": "code",
   "execution_count": 27,
   "id": "3f18b69b",
   "metadata": {},
   "outputs": [],
   "source": [
    "class Person:\n",
    "    def __init__(self, name):\n",
    "        self.name = name\n",
    "\n",
    "class Doctor(Person):\n",
    "    def __init__(self, name):\n",
    "        super().__init__(name)\n",
    "    def print_name(self):\n",
    "        pprint(f'Dr. {self.name}')"
   ]
  },
  {
   "cell_type": "markdown",
   "id": "9a6c9c29",
   "metadata": {},
   "source": [
    "### 다중 상속\n",
    "- method resolution order (MRO)\n",
    "Animal <- Horse\n",
    "       <- Donkey\n",
    "                <- Mule (donmey > horse)\n",
    "                <- Minny (horse > konkey)"
   ]
  },
  {
   "cell_type": "code",
   "execution_count": 30,
   "id": "d37953b6",
   "metadata": {},
   "outputs": [],
   "source": [
    "class Animal:\n",
    "    def says(self):\n",
    "        return '동물이 운다'\n",
    "\n",
    "class Horse(Animal):\n",
    "    def says(self):\n",
    "        return '히히힝'\n",
    "    \n",
    "class Donkey(Animal):\n",
    "    def says(self):\n",
    "        return '하이호'\n",
    "\n",
    "#--------------------------------\n",
    "class Mule(Donkey, Horse):\n",
    "    pass\n",
    "\n",
    "class Hinny(Horse, Donkey):\n",
    "    pass"
   ]
  },
  {
   "cell_type": "code",
   "execution_count": 31,
   "id": "1b6f95af",
   "metadata": {},
   "outputs": [
    {
     "data": {
      "text/plain": [
       "'하이호'"
      ]
     },
     "execution_count": 31,
     "metadata": {},
     "output_type": "execute_result"
    }
   ],
   "source": [
    "Mule().says()"
   ]
  },
  {
   "cell_type": "code",
   "execution_count": 33,
   "id": "68a990b2",
   "metadata": {},
   "outputs": [
    {
     "data": {
      "text/plain": [
       "'히히힝'"
      ]
     },
     "execution_count": 33,
     "metadata": {},
     "output_type": "execute_result"
    }
   ],
   "source": [
    "Hinny().says()"
   ]
  },
  {
   "cell_type": "code",
   "execution_count": 34,
   "id": "caaed7a1",
   "metadata": {},
   "outputs": [
    {
     "data": {
      "text/plain": [
       "[__main__.Mule, __main__.Donkey, __main__.Horse, __main__.Animal, object]"
      ]
     },
     "execution_count": 34,
     "metadata": {},
     "output_type": "execute_result"
    }
   ],
   "source": [
    "Mule.mro()"
   ]
  },
  {
   "cell_type": "markdown",
   "id": "714dc92a",
   "metadata": {},
   "source": [
    "### 다형성, duck typing"
   ]
  },
  {
   "cell_type": "code",
   "execution_count": 36,
   "id": "9b0fc13a",
   "metadata": {},
   "outputs": [
    {
     "name": "stdout",
     "output_type": "stream",
     "text": [
      "동물이 운다\n",
      "히히힝\n",
      "하이호\n"
     ]
    }
   ],
   "source": [
    "for animal in [Animal(), Horse(), Mule()]:\n",
    "    print(animal.says())"
   ]
  },
  {
   "cell_type": "markdown",
   "id": "9e911fc7",
   "metadata": {},
   "source": [
    "### 메서드\n",
    "- 인스턴트 메서드:\n",
    "    - 첫번째 인수가 self면 메서드\n",
    "    - 우리가 지금까지 배운 메서드\n",
    "    - 객체 생성 -> 사용가능\n",
    "- 클래스 메서드:\n",
    "    - 객체마다 달라지지않음\n",
    "    - 모든 객체가 공유하는 (클래스) 연구, 메소드\n",
    "    - cls\n",
    "    - 데코레이터 @classmethod 사용\n",
    "    - 객체 생성하지 않고 메서드에 접근 가능\n",
    "- 정적 메서드\n",
    "    - 1번쨰 인수가 self 아님\n",
    "    - 클래스나 인스턴드에 접근하지 않는 메섣,\n",
    "    - 비슷한 유틸리티라서 클래스내에 묶어둘때 사용\n",
    "    - 객체 생성하지 않고 메서드 접근 가능\n",
    "- 추상 메서드\n",
    "    - abstrct\n",
    "    - @abstrackmethod"
   ]
  },
  {
   "cell_type": "code",
   "execution_count": 38,
   "id": "d0eb4612",
   "metadata": {},
   "outputs": [
    {
     "data": {
      "text/plain": [
       "'히히힝'"
      ]
     },
     "execution_count": 38,
     "metadata": {},
     "output_type": "execute_result"
    }
   ],
   "source": [
    "h = Hinny()\n",
    "h.says()"
   ]
  },
  {
   "cell_type": "code",
   "execution_count": 43,
   "id": "52f4cc0b",
   "metadata": {},
   "outputs": [],
   "source": [
    "class A:\n",
    "    cnt = 0\n",
    "    \n",
    "    @classmethod\n",
    "    def move(cls):\n",
    "        print(cls.cnt)"
   ]
  },
  {
   "cell_type": "code",
   "execution_count": 44,
   "id": "88689ea7",
   "metadata": {},
   "outputs": [
    {
     "name": "stdout",
     "output_type": "stream",
     "text": [
      "0\n"
     ]
    }
   ],
   "source": [
    "A().move()"
   ]
  },
  {
   "cell_type": "code",
   "execution_count": 45,
   "id": "9e9aeb80",
   "metadata": {},
   "outputs": [
    {
     "ename": "SyntaxError",
     "evalue": "invalid syntax (CreatorTemp/ipykernel_13900/1291542779.py, line 1)",
     "output_type": "error",
     "traceback": [
      "\u001b[1;36m  File \u001b[1;32m\"C:\\Users\\Public\\Documents\\ESTsoft\\CreatorTemp/ipykernel_13900/1291542779.py\"\u001b[1;36m, line \u001b[1;32m1\u001b[0m\n\u001b[1;33m    class 0:\u001b[0m\n\u001b[1;37m          ^\u001b[0m\n\u001b[1;31mSyntaxError\u001b[0m\u001b[1;31m:\u001b[0m invalid syntax\n"
     ]
    }
   ],
   "source": [
    "class 0:\n",
    "    cnt = 0\n",
    "    \n",
    "    def __init__(self):\n",
    "        B.cnt += 1\n",
    "        \n",
    "    # class method"
   ]
  },
  {
   "cell_type": "code",
   "execution_count": 48,
   "id": "b8500bdb",
   "metadata": {},
   "outputs": [],
   "source": [
    "class Person:\n",
    "    def __init__(self, name, age):\n",
    "        self.name = name\n",
    "        self.age = age\n",
    "        \n",
    "    @classmethod\n",
    "    def tuple_object(cls, args):\n",
    "        #튜플로 인자를 받아서 객체 생성하는 메서드 만들기\n",
    "        return cls(args[0], args[1])\n",
    "        \n",
    "name = 'hong'\n",
    "age = 24\n",
    "\n",
    "p = Person(name, age)\n",
    "\n",
    "info = name, age\n",
    "p = Person.tuple_object(info)"
   ]
  },
  {
   "cell_type": "code",
   "execution_count": 49,
   "id": "f928442b",
   "metadata": {},
   "outputs": [
    {
     "data": {
      "text/plain": [
       "'hong'"
      ]
     },
     "execution_count": 49,
     "metadata": {},
     "output_type": "execute_result"
    }
   ],
   "source": [
    "p.name"
   ]
  },
  {
   "cell_type": "code",
   "execution_count": 52,
   "id": "f62f228b",
   "metadata": {},
   "outputs": [
    {
     "ename": "NameError",
     "evalue": "name 'cry' is not defined",
     "output_type": "error",
     "traceback": [
      "\u001b[1;31m---------------------------------------------------------------------------\u001b[0m",
      "\u001b[1;31mNameError\u001b[0m                                 Traceback (most recent call last)",
      "\u001b[1;32mC:\\Users\\Public\\Documents\\ESTsoft\\CreatorTemp/ipykernel_13900/1387439723.py\u001b[0m in \u001b[0;36m<module>\u001b[1;34m\u001b[0m\n\u001b[0;32m      5\u001b[0m         \u001b[1;32mreturn\u001b[0m \u001b[1;34m'hi'\u001b[0m \u001b[1;33m+\u001b[0m \u001b[0mcry\u001b[0m\u001b[1;33m\u001b[0m\u001b[1;33m\u001b[0m\u001b[0m\n\u001b[0;32m      6\u001b[0m \u001b[1;33m\u001b[0m\u001b[0m\n\u001b[1;32m----> 7\u001b[1;33m \u001b[0mCoyote\u001b[0m\u001b[1;33m.\u001b[0m\u001b[0msays\u001b[0m\u001b[1;33m(\u001b[0m\u001b[1;33m)\u001b[0m\u001b[1;33m\u001b[0m\u001b[1;33m\u001b[0m\u001b[0m\n\u001b[0m",
      "\u001b[1;32mC:\\Users\\Public\\Documents\\ESTsoft\\CreatorTemp/ipykernel_13900/1387439723.py\u001b[0m in \u001b[0;36msays\u001b[1;34m()\u001b[0m\n\u001b[0;32m      3\u001b[0m     \u001b[1;33m@\u001b[0m\u001b[0mstaticmethod\u001b[0m\u001b[1;33m\u001b[0m\u001b[1;33m\u001b[0m\u001b[0m\n\u001b[0;32m      4\u001b[0m     \u001b[1;32mdef\u001b[0m \u001b[0msays\u001b[0m\u001b[1;33m(\u001b[0m\u001b[1;33m)\u001b[0m\u001b[1;33m:\u001b[0m \u001b[1;31m#self 없음\u001b[0m\u001b[1;33m\u001b[0m\u001b[1;33m\u001b[0m\u001b[0m\n\u001b[1;32m----> 5\u001b[1;33m         \u001b[1;32mreturn\u001b[0m \u001b[1;34m'hi'\u001b[0m \u001b[1;33m+\u001b[0m \u001b[0mcry\u001b[0m\u001b[1;33m\u001b[0m\u001b[1;33m\u001b[0m\u001b[0m\n\u001b[0m\u001b[0;32m      6\u001b[0m \u001b[1;33m\u001b[0m\u001b[0m\n\u001b[0;32m      7\u001b[0m \u001b[0mCoyote\u001b[0m\u001b[1;33m.\u001b[0m\u001b[0msays\u001b[0m\u001b[1;33m(\u001b[0m\u001b[1;33m)\u001b[0m\u001b[1;33m\u001b[0m\u001b[1;33m\u001b[0m\u001b[0m\n",
      "\u001b[1;31mNameError\u001b[0m: name 'cry' is not defined"
     ]
    }
   ],
   "source": [
    "class Coyote:\n",
    "    \n",
    "    @staticmethod\n",
    "    def says(): #self 없음\n",
    "        return 'hi' + cry\n",
    "    \n",
    "Coyote.says()"
   ]
  },
  {
   "cell_type": "code",
   "execution_count": 54,
   "id": "337565f5",
   "metadata": {},
   "outputs": [],
   "source": [
    "from abc import *\n",
    "\n",
    "class Vehicle(metaclass=ABCMeta): #추상클래스\n",
    "    speed = '속도'\n",
    "    \n",
    "    @abstractmethod\n",
    "    def drive(self):\n",
    "        print('교통수단에 관하여')\n",
    "\n",
    "class Car(Vehicle):\n",
    "    def drive(self):\n",
    "        return super().speed"
   ]
  },
  {
   "cell_type": "code",
   "execution_count": 55,
   "id": "fd35e630",
   "metadata": {},
   "outputs": [
    {
     "data": {
      "text/plain": [
       "<__main__.Car at 0x2aa8f1ba2b0>"
      ]
     },
     "execution_count": 55,
     "metadata": {},
     "output_type": "execute_result"
    }
   ],
   "source": [
    "Car()"
   ]
  },
  {
   "cell_type": "code",
   "execution_count": 56,
   "id": "63ac4faa",
   "metadata": {},
   "outputs": [],
   "source": [
    "class PErson:\n",
    "    def __init__(self, name):\n",
    "        self.name = name\n",
    "        \n",
    "    def __str__(self):\n",
    "        #인스턴스를 스트링으로 출력: 이름, 메모리주소\n",
    "        #print(인스턴스)했을때 출력되는 값\n",
    "        return self.name\n",
    "    \n",
    "    def __repr__(self):\n",
    "        #사용자가 이해할 수 있게 객체 출력하고 싶을때 사용\n",
    "        return f'Person({self.name})'"
   ]
  },
  {
   "cell_type": "code",
   "execution_count": 57,
   "id": "214fe3d6",
   "metadata": {},
   "outputs": [
    {
     "ename": "SyntaxError",
     "evalue": "invalid syntax (CreatorTemp/ipykernel_13900/2398417138.py, line 3)",
     "output_type": "error",
     "traceback": [
      "\u001b[1;36m  File \u001b[1;32m\"C:\\Users\\Public\\Documents\\ESTsoft\\CreatorTemp/ipykernel_13900/2398417138.py\"\u001b[1;36m, line \u001b[1;32m3\u001b[0m\n\u001b[1;33m    - object 클래스에서 재정의\u001b[0m\n\u001b[1;37m             ^\u001b[0m\n\u001b[1;31mSyntaxError\u001b[0m\u001b[1;31m:\u001b[0m invalid syntax\n"
     ]
    }
   ],
   "source": [
    "### 매직메소드\n",
    "\n",
    "- object 클래스에서 재정의\n",
    "    - str\n",
    "    - repr"
   ]
  },
  {
   "cell_type": "code",
   "execution_count": 58,
   "id": "6930c6c4",
   "metadata": {},
   "outputs": [
    {
     "ename": "TypeError",
     "evalue": "__init__() missing 1 required positional argument: 'age'",
     "output_type": "error",
     "traceback": [
      "\u001b[1;31m---------------------------------------------------------------------------\u001b[0m",
      "\u001b[1;31mTypeError\u001b[0m                                 Traceback (most recent call last)",
      "\u001b[1;32mC:\\Users\\Public\\Documents\\ESTsoft\\CreatorTemp/ipykernel_13900/890652651.py\u001b[0m in \u001b[0;36m<module>\u001b[1;34m\u001b[0m\n\u001b[1;32m----> 1\u001b[1;33m \u001b[0mp\u001b[0m \u001b[1;33m=\u001b[0m\u001b[0mPerson\u001b[0m\u001b[1;33m(\u001b[0m\u001b[1;34m'lee'\u001b[0m\u001b[1;33m)\u001b[0m\u001b[1;33m\u001b[0m\u001b[1;33m\u001b[0m\u001b[0m\n\u001b[0m",
      "\u001b[1;31mTypeError\u001b[0m: __init__() missing 1 required positional argument: 'age'"
     ]
    }
   ],
   "source": [
    "p =Person('lee')"
   ]
  },
  {
   "cell_type": "code",
   "execution_count": 59,
   "id": "09338222",
   "metadata": {},
   "outputs": [
    {
     "data": {
      "text/plain": [
       "<__main__.Person at 0x2aa8f1ba3d0>"
      ]
     },
     "execution_count": 59,
     "metadata": {},
     "output_type": "execute_result"
    }
   ],
   "source": [
    "p"
   ]
  },
  {
   "cell_type": "code",
   "execution_count": 60,
   "id": "7c1c5eb5",
   "metadata": {},
   "outputs": [
    {
     "name": "stdout",
     "output_type": "stream",
     "text": [
      "<__main__.Person object at 0x000002AA8F1BA3D0>\n"
     ]
    }
   ],
   "source": [
    "print(p)"
   ]
  },
  {
   "cell_type": "code",
   "execution_count": 61,
   "id": "3d3fb67a",
   "metadata": {},
   "outputs": [
    {
     "data": {
      "text/plain": [
       "'<__main__.Person object at 0x000002AA8F1BA3D0>'"
      ]
     },
     "execution_count": 61,
     "metadata": {},
     "output_type": "execute_result"
    }
   ],
   "source": [
    "str(p)"
   ]
  },
  {
   "cell_type": "markdown",
   "id": "f7796ec9",
   "metadata": {},
   "source": [
    "### namedtuple, dataclass\n",
    "- 변수만 있는 클래스 설정할때 더 효율적으로 사용하는 수단\n",
    "- 딕셔너리 키와 같은 기능"
   ]
  },
  {
   "cell_type": "code",
   "execution_count": 63,
   "id": "acd487d1",
   "metadata": {},
   "outputs": [],
   "source": [
    "from collections import namedtuple\n",
    "\n",
    "Person = namedtuple('Person', 'name age')\n",
    "a = Person('kim', 33)"
   ]
  },
  {
   "cell_type": "code",
   "execution_count": 64,
   "id": "f9717e05",
   "metadata": {},
   "outputs": [
    {
     "data": {
      "text/plain": [
       "'kim'"
      ]
     },
     "execution_count": 64,
     "metadata": {},
     "output_type": "execute_result"
    }
   ],
   "source": [
    "a.name"
   ]
  },
  {
   "cell_type": "code",
   "execution_count": 67,
   "id": "54ed4eb5",
   "metadata": {},
   "outputs": [],
   "source": [
    "b = a._replace(name='lee')"
   ]
  },
  {
   "cell_type": "code",
   "execution_count": null,
   "id": "3eba8870",
   "metadata": {},
   "outputs": [],
   "source": [
    "from dataclass import dataclass\n",
    "\n",
    "@dataclass\n",
    "class Person:\n",
    "    name: str\n",
    "    age: int"
   ]
  }
 ],
 "metadata": {
  "kernelspec": {
   "display_name": "Python 3 (ipykernel)",
   "language": "python",
   "name": "python3"
  },
  "language_info": {
   "codemirror_mode": {
    "name": "ipython",
    "version": 3
   },
   "file_extension": ".py",
   "mimetype": "text/x-python",
   "name": "python",
   "nbconvert_exporter": "python",
   "pygments_lexer": "ipython3",
   "version": "3.9.7"
  }
 },
 "nbformat": 4,
 "nbformat_minor": 5
}
