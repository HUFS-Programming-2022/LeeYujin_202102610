{
 "cells": [
  {
   "cell_type": "markdown",
   "id": "8bb8f572",
   "metadata": {},
   "source": [
    "### 함수\n",
    "\n",
    "1. 정의\n",
    "    - 코드의 덩어리, 묶음\n",
    "    - 코드의 (편리한) 재사용이 주된 목적\n",
    "    - 정의하기(define) -> 호출하기(call)\n",
    "    - 구조\n",
    "        - def 함수이름(매개변수 1, 2, 3..)):\n",
    "            - 수행문1\n",
    "            - 수행문2\n",
    "            -..\n",
    "            - return 출력값\n",
    "            \n",
    "        - 호출하기\n",
    "        함수이름(인수1,2,3,..)\n",
    "     - 인터페이스 잘 설정하면 내부를 몰라도 하수를 쉽게 쓸 수 있음   \n",
    "2. 이름 짓기\n",
    "    - 소문자 사용\n",
    "    - 카멜표기법 가능 < 언더바\n",
    "    - 동사 + 명사 : print_output, save_model, split_text\n",
    "    - 줄임말 쓰지말기 pr_output (x)"
   ]
  },
  {
   "cell_type": "code",
   "execution_count": 1,
   "id": "c066e927",
   "metadata": {},
   "outputs": [
    {
     "ename": "NameError",
     "evalue": "name 'x' is not defined",
     "output_type": "error",
     "traceback": [
      "\u001b[1;31m---------------------------------------------------------------------------\u001b[0m",
      "\u001b[1;31mNameError\u001b[0m                                 Traceback (most recent call last)",
      "\u001b[1;32mC:\\Users\\Public\\Documents\\ESTsoft\\CreatorTemp/ipykernel_13504/2916961520.py\u001b[0m in \u001b[0;36m<module>\u001b[1;34m\u001b[0m\n\u001b[1;32m----> 1\u001b[1;33m \u001b[0my\u001b[0m \u001b[1;33m=\u001b[0m \u001b[0mx\u001b[0m \u001b[1;33m+\u001b[0m \u001b[1;36m1\u001b[0m \u001b[1;31m#x매개변수, y출력값\u001b[0m\u001b[1;33m\u001b[0m\u001b[1;33m\u001b[0m\u001b[0m\n\u001b[0m",
      "\u001b[1;31mNameError\u001b[0m: name 'x' is not defined"
     ]
    }
   ],
   "source": [
    "y = x + 1 #x매개변수, y출력값"
   ]
  },
  {
   "cell_type": "code",
   "execution_count": 2,
   "id": "0ddcbbb5",
   "metadata": {},
   "outputs": [
    {
     "ename": "NameError",
     "evalue": "name 'split' is not defined",
     "output_type": "error",
     "traceback": [
      "\u001b[1;31m---------------------------------------------------------------------------\u001b[0m",
      "\u001b[1;31mNameError\u001b[0m                                 Traceback (most recent call last)",
      "\u001b[1;32mC:\\Users\\Public\\Documents\\ESTsoft\\CreatorTemp/ipykernel_13504/3772375682.py\u001b[0m in \u001b[0;36m<module>\u001b[1;34m\u001b[0m\n\u001b[1;32m----> 1\u001b[1;33m \u001b[0msplit\u001b[0m\u001b[1;33m(\u001b[0m\u001b[1;33m)\u001b[0m\u001b[1;33m,\u001b[0m \u001b[0mjoin\u001b[0m\u001b[1;33m(\u001b[0m\u001b[1;33m)\u001b[0m\u001b[1;33m\u001b[0m\u001b[1;33m\u001b[0m\u001b[0m\n\u001b[0m",
      "\u001b[1;31mNameError\u001b[0m: name 'split' is not defined"
     ]
    }
   ],
   "source": [
    "split(), join()"
   ]
  },
  {
   "cell_type": "code",
   "execution_count": 3,
   "id": "d7ab471f",
   "metadata": {},
   "outputs": [],
   "source": [
    "def split():\n",
    "    ######\n",
    "    return"
   ]
  },
  {
   "cell_type": "code",
   "execution_count": 1,
   "id": "1890cb67",
   "metadata": {},
   "outputs": [
    {
     "name": "stdout",
     "output_type": "stream",
     "text": [
      "quack\n"
     ]
    }
   ],
   "source": [
    "def make_a_sound():\n",
    "    # 입력, 반환값 없음\n",
    "    print('quack')\n",
    "    # return None\n",
    "make_a_sound()"
   ]
  },
  {
   "cell_type": "code",
   "execution_count": 2,
   "id": "6c43d499",
   "metadata": {},
   "outputs": [
    {
     "data": {
      "text/plain": [
       "True"
      ]
     },
     "execution_count": 2,
     "metadata": {},
     "output_type": "execute_result"
    }
   ],
   "source": [
    "def agree():\n",
    "    # 입력없고 반환있음\n",
    "    return True\n",
    "agree()"
   ]
  },
  {
   "cell_type": "code",
   "execution_count": 3,
   "id": "e1a3c5ae",
   "metadata": {},
   "outputs": [
    {
     "name": "stdout",
     "output_type": "stream",
     "text": [
      "splendid\n"
     ]
    }
   ],
   "source": [
    "if agree():\n",
    "    print('splendid')\n",
    "else:\n",
    "    print('that was unexpected!')"
   ]
  },
  {
   "cell_type": "code",
   "execution_count": 5,
   "id": "8033ca99",
   "metadata": {},
   "outputs": [
    {
     "name": "stdout",
     "output_type": "stream",
     "text": [
      "hello hello\n"
     ]
    }
   ],
   "source": [
    "def echo(anything):\n",
    "    # 입력있고 반환없고\n",
    "    print('{0} {0}'.format(anything))\n",
    "echo('hello')"
   ]
  },
  {
   "cell_type": "code",
   "execution_count": 9,
   "id": "90a8c034",
   "metadata": {},
   "outputs": [
    {
     "data": {
      "text/plain": [
       "'hello hello'"
      ]
     },
     "execution_count": 9,
     "metadata": {},
     "output_type": "execute_result"
    }
   ],
   "source": [
    "def echo(anything):\n",
    "    # 입력있고 반환있고\n",
    "    return '{0} {0}'.format(anything)\n",
    "echo=echo('hello')\n",
    "echo"
   ]
  },
  {
   "cell_type": "markdown",
   "id": "51b6d5cc",
   "metadata": {},
   "source": [
    "3. 인수와 매개변수\n",
    "    - 매개변수: 정의할때 쓰임, 인터페이스 내에서만 유효\n",
    "    - 인수: 호출할 때 쓰임\n",
    "    - 함수 호출 시 인수에 할당된 값이 매개변수에 복제됨\n",
    "        - line = 'hello'\n",
    "        - anything = line ##### copy\n",
    "        - anything 사라짐\n",
    "- 위치인수:\n",
    "    - positional argument\n",
    "    - 값을 순서대로 상응하는 매개변수에 복사하는 것\n",
    "- 키워드인수\n",
    "    - keyword argument\n",
    "    - 매개변수에 상응하는 이름 인수에 지정\n",
    "    - 위치 달라도됨\n",
    "- 디폴트인수\n",
    "    - default argument\n",
    "    - 정의할 때 매개변수의 기본값 설정\n",
    "    - 호출 시 인수가 없으면 기본값 적용\n",
    "    - default 값은 논 디폴트 뒤에"
   ]
  },
  {
   "cell_type": "code",
   "execution_count": 10,
   "id": "f381f516",
   "metadata": {},
   "outputs": [
    {
     "data": {
      "text/plain": [
       "'black'"
      ]
     },
     "execution_count": 10,
     "metadata": {},
     "output_type": "execute_result"
    }
   ],
   "source": [
    "def commentary(color):\n",
    "    if color =='g':\n",
    "        return 'green'\n",
    "    else:\n",
    "        return 'black'\n",
    "    \n",
    "color = 'white'\n",
    "commentary(color)"
   ]
  },
  {
   "cell_type": "code",
   "execution_count": 11,
   "id": "21cf4fb6",
   "metadata": {},
   "outputs": [
    {
     "name": "stdout",
     "output_type": "stream",
     "text": [
      "green\n",
      "black\n",
      "black\n"
     ]
    }
   ],
   "source": [
    "colors = ['g','r','b']\n",
    "for c in colors:\n",
    "    print(commentary(c))"
   ]
  },
  {
   "cell_type": "code",
   "execution_count": 14,
   "id": "be86483e",
   "metadata": {},
   "outputs": [
    {
     "data": {
      "text/plain": [
       "{'wine': 'rioja', 'entree': 'cake', 'dessert': 'egg'}"
      ]
     },
     "execution_count": 14,
     "metadata": {},
     "output_type": "execute_result"
    }
   ],
   "source": [
    "def menu(wine, entree, dessert):\n",
    "    return {'wine':wine, 'entree':entree, 'dessert':dessert}\n",
    "menu('rioja','cake','egg')"
   ]
  },
  {
   "cell_type": "code",
   "execution_count": 16,
   "id": "186036e9",
   "metadata": {},
   "outputs": [
    {
     "data": {
      "text/plain": [
       "{'wine': 'rioja', 'entree': 'egg', 'dessert': 'pancake'}"
      ]
     },
     "execution_count": 16,
     "metadata": {},
     "output_type": "execute_result"
    }
   ],
   "source": [
    "menu(entree='egg', wine='rioja', dessert='pancake')"
   ]
  },
  {
   "cell_type": "code",
   "execution_count": 17,
   "id": "6eea491c",
   "metadata": {},
   "outputs": [
    {
     "data": {
      "text/plain": [
       "{'wine': 'r', 'entree': 'c', 'dessert': 'e'}"
      ]
     },
     "execution_count": 17,
     "metadata": {},
     "output_type": "execute_result"
    }
   ],
   "source": [
    "def menu2(wine, entree, dessert='scone'):\n",
    "    return {'wine':wine, 'entree':entree, 'dessert':dessert}\n",
    "menu2('r','c','e')"
   ]
  },
  {
   "cell_type": "code",
   "execution_count": 19,
   "id": "03e89283",
   "metadata": {},
   "outputs": [
    {
     "data": {
      "text/plain": [
       "{'wine': 'merlot', 'entree': 'eg', 'dessert': 'scone'}"
      ]
     },
     "execution_count": 19,
     "metadata": {},
     "output_type": "execute_result"
    }
   ],
   "source": [
    "menu2('merlot','eg')"
   ]
  },
  {
   "cell_type": "code",
   "execution_count": 20,
   "id": "094ef929",
   "metadata": {},
   "outputs": [
    {
     "data": {
      "text/plain": [
       "{'wine': 'egg', 'entree': 'rioja', 'dessert': 'pancake'}"
      ]
     },
     "execution_count": 20,
     "metadata": {},
     "output_type": "execute_result"
    }
   ],
   "source": [
    "#menu(entree='egg', 'rioja', 'pancake')\n",
    "menu('egg','rioja',dessert='pancake')"
   ]
  },
  {
   "cell_type": "code",
   "execution_count": null,
   "id": "071bbf41",
   "metadata": {},
   "outputs": [],
   "source": [
    "### 나이 -> 연도\n",
    "def fx():\n",
    "    # 입력값=나이\n",
    "    # 반환값=출생연도\n",
    "    \n",
    "- input 입력받아 함수 사용해 출력"
   ]
  },
  {
   "cell_type": "code",
   "execution_count": 28,
   "id": "c54e13f1",
   "metadata": {},
   "outputs": [
    {
     "name": "stdout",
     "output_type": "stream",
     "text": [
      "3\n"
     ]
    },
    {
     "data": {
      "text/plain": [
       "2020"
      ]
     },
     "execution_count": 28,
     "metadata": {},
     "output_type": "execute_result"
    }
   ],
   "source": [
    "def calc_birth_year(years_old):\n",
    "    this_year= 2022 \n",
    "    return this_year - years_old +1\n",
    "age = int(input())\n",
    "calc_birth_year(age)"
   ]
  },
  {
   "cell_type": "markdown",
   "id": "8d331a92",
   "metadata": {},
   "source": [
    "#### 예\n",
    "- 사각형 너비 구하기\n",
    "    - 입력: 두변 길이\n",
    "    - 반환: sring='xx cm'"
   ]
  },
  {
   "cell_type": "code",
   "execution_count": 38,
   "id": "2cfa27ef",
   "metadata": {},
   "outputs": [
    {
     "name": "stdout",
     "output_type": "stream",
     "text": [
      "3\n",
      "6\n"
     ]
    },
    {
     "data": {
      "text/plain": [
       "'18.0cm'"
      ]
     },
     "execution_count": 38,
     "metadata": {},
     "output_type": "execute_result"
    }
   ],
   "source": [
    "def square_area(x, y):\n",
    "    return f'{x*y}cm'\n",
    "length = float(input())\n",
    "width = float(input())\n",
    "square_wide(length,width)"
   ]
  },
  {
   "cell_type": "markdown",
   "id": "68affa27",
   "metadata": {},
   "source": [
    "### 호출 방식:\n",
    "    - 정의된 부분이 메모리에 업로드되지만 실행은 x\n",
    "    - 실행은 호출시\n",
    "    - 값을 넘기는 방식: 참조에 의한 호출(call by reference) 메모리 주소\n",
    "    - 메모리 주소가 복사되기 떄문에 가변개체가 매개변수로 들어갈때 주의"
   ]
  },
  {
   "cell_type": "code",
   "execution_count": 39,
   "id": "3bd2dcc8",
   "metadata": {},
   "outputs": [
    {
     "name": "stdout",
     "output_type": "stream",
     "text": [
      "2\n",
      "3\n",
      "1\n",
      "4\n"
     ]
    }
   ],
   "source": [
    "def calc_area(length, widdth):\n",
    "    print('1')\n",
    "    return length * width\n",
    "print('2')\n",
    "garo = 2\n",
    "sero = 43\n",
    "print('3')\n",
    "calc_area(garo, sero)\n",
    "print('4')"
   ]
  },
  {
   "cell_type": "code",
   "execution_count": 42,
   "id": "c36da074",
   "metadata": {},
   "outputs": [
    {
     "name": "stdout",
     "output_type": "stream",
     "text": [
      "['a']\n",
      "['b']\n"
     ]
    }
   ],
   "source": [
    "def buggy(arg, result=[]):\n",
    "    result=[] #비운 뒤\n",
    "    result.append(arg)\n",
    "    print(result)\n",
    "buggy('a') #[a]\n",
    "buggy('b')"
   ]
  },
  {
   "cell_type": "code",
   "execution_count": 43,
   "id": "d884c483",
   "metadata": {},
   "outputs": [
    {
     "name": "stdout",
     "output_type": "stream",
     "text": [
      "[2, 3] eggs\n",
      "[0, 1] ham\n"
     ]
    }
   ],
   "source": [
    "# length=garo #list copy\n",
    "def spam(eggs):\n",
    "    eggs.append(1)\n",
    "    eggs = [2,3]\n",
    "    print(eggs,'eggs')\n",
    "ham =[0]\n",
    "spam(ham)\n",
    "print(ham,'ham')"
   ]
  },
  {
   "cell_type": "code",
   "execution_count": 44,
   "id": "d3800714",
   "metadata": {},
   "outputs": [
    {
     "name": "stdout",
     "output_type": "stream",
     "text": [
      "a\n"
     ]
    }
   ],
   "source": [
    "# None\n",
    "thing = None\n",
    "if thing is None:\n",
    "    print('a') #True\n",
    "elif thing:\n",
    "    print('b')\n",
    "else:\n",
    "    print('c')"
   ]
  },
  {
   "cell_type": "code",
   "execution_count": 51,
   "id": "3d824c28",
   "metadata": {},
   "outputs": [
    {
     "name": "stdout",
     "output_type": "stream",
     "text": [
      "['a']\n",
      "['a', 'b']\n"
     ]
    }
   ],
   "source": [
    "def nonbuggy(arg, result=None):\n",
    "    # result is None 빈리스트\n",
    "    # 아니면 코드 그대로\n",
    "    if result is None:\n",
    "        result=[]\n",
    "    result.append(arg)\n",
    "    print(result)\n",
    "    \n",
    "list_a=[]\n",
    "nonbuggy('a', list_a)\n",
    "nonbuggy('b', list_a)"
   ]
  },
  {
   "cell_type": "markdown",
   "id": "2094b085",
   "metadata": {},
   "source": [
    "### 전역변수 지역변수\n",
    "- 지역변수: 함수 내에서만 사용 가능\n",
    "- 전역변수: 프로그램 전체에서 사용가능"
   ]
  },
  {
   "cell_type": "code",
   "execution_count": 62,
   "id": "f28fad8b",
   "metadata": {},
   "outputs": [
    {
     "name": "stdout",
     "output_type": "stream",
     "text": [
      "london\n",
      "london\n"
     ]
    }
   ],
   "source": [
    "def f():\n",
    "    \"\"\"\n",
    "    doc string 함수설명\n",
    "    매개변수에 대한 설명, 타입, 함수의 의도\n",
    "    \"\"\"\n",
    "    global city\n",
    "    city='london'\n",
    "    print(city)\n",
    "city='paris'\n",
    "f()\n",
    "print(city)"
   ]
  },
  {
   "cell_type": "code",
   "execution_count": 63,
   "id": "34132292",
   "metadata": {},
   "outputs": [
    {
     "name": "stdout",
     "output_type": "stream",
     "text": [
      "Help on function f in module __main__:\n",
      "\n",
      "f()\n",
      "    doc string 함수설명\n",
      "    매개변수에 대한 설명, 타입, 함수의 의도\n",
      "\n"
     ]
    }
   ],
   "source": [
    "help(f)"
   ]
  },
  {
   "cell_type": "code",
   "execution_count": 64,
   "id": "a4ecb5a9",
   "metadata": {},
   "outputs": [
    {
     "data": {
      "text/plain": [
       "'\\n    doc string 함수설명\\n    매개변수에 대한 설명, 타입, 함수의 의도\\n    '"
      ]
     },
     "execution_count": 64,
     "metadata": {},
     "output_type": "execute_result"
    }
   ],
   "source": [
    "f.__doc__"
   ]
  },
  {
   "cell_type": "code",
   "execution_count": null,
   "id": "c624d8c4",
   "metadata": {},
   "outputs": [],
   "source": []
  }
 ],
 "metadata": {
  "kernelspec": {
   "display_name": "Python 3 (ipykernel)",
   "language": "python",
   "name": "python3"
  },
  "language_info": {
   "codemirror_mode": {
    "name": "ipython",
    "version": 3
   },
   "file_extension": ".py",
   "mimetype": "text/x-python",
   "name": "python",
   "nbconvert_exporter": "python",
   "pygments_lexer": "ipython3",
   "version": "3.9.7"
  }
 },
 "nbformat": 4,
 "nbformat_minor": 5
}
